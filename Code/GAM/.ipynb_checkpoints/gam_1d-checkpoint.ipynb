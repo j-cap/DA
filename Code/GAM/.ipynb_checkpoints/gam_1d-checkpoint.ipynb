{
 "cells": [
  {
   "cell_type": "code",
   "execution_count": 1,
   "metadata": {},
   "outputs": [
    {
     "name": "stderr",
     "output_type": "stream",
     "text": [
      "UsageError: Line magic function `%jupyter` not found.\n"
     ]
    }
   ],
   "source": [
    "%env"
   ]
  },
  {
   "cell_type": "code",
   "execution_count": 1,
   "metadata": {
    "scrolled": true
   },
   "outputs": [
    {
     "ename": "ModuleNotFoundError",
     "evalue": "No module named 'pygam'",
     "output_type": "error",
     "traceback": [
      "\u001b[1;31m---------------------------------------------------------------------------\u001b[0m",
      "\u001b[1;31mModuleNotFoundError\u001b[0m                       Traceback (most recent call last)",
      "\u001b[1;32m<ipython-input-1-adb7036bd5b7>\u001b[0m in \u001b[0;36m<module>\u001b[1;34m\u001b[0m\n\u001b[0;32m      4\u001b[0m \u001b[1;32mfrom\u001b[0m \u001b[0mmpl_toolkits\u001b[0m \u001b[1;32mimport\u001b[0m \u001b[0mmplot3d\u001b[0m\u001b[1;33m\u001b[0m\u001b[1;33m\u001b[0m\u001b[0m\n\u001b[0;32m      5\u001b[0m \u001b[1;32mfrom\u001b[0m \u001b[0msklearn\u001b[0m\u001b[1;33m.\u001b[0m\u001b[0mmodel_selection\u001b[0m \u001b[1;32mimport\u001b[0m \u001b[0mtrain_test_split\u001b[0m\u001b[1;33m\u001b[0m\u001b[1;33m\u001b[0m\u001b[0m\n\u001b[1;32m----> 6\u001b[1;33m \u001b[1;32mfrom\u001b[0m \u001b[0mpygam\u001b[0m \u001b[1;32mimport\u001b[0m \u001b[0mLinearGAM\u001b[0m\u001b[1;33m,\u001b[0m \u001b[0ms\u001b[0m\u001b[1;33m,\u001b[0m \u001b[0mte\u001b[0m\u001b[1;33m,\u001b[0m \u001b[0mPoissonGAM\u001b[0m\u001b[1;33m,\u001b[0m \u001b[0mf\u001b[0m\u001b[1;33m,\u001b[0m \u001b[0mGAM\u001b[0m\u001b[1;33m\u001b[0m\u001b[1;33m\u001b[0m\u001b[0m\n\u001b[0m\u001b[0;32m      7\u001b[0m \u001b[1;32mimport\u001b[0m \u001b[0mplotly\u001b[0m\u001b[1;33m.\u001b[0m\u001b[0mexpress\u001b[0m \u001b[1;32mas\u001b[0m \u001b[0mpx\u001b[0m\u001b[1;33m\u001b[0m\u001b[1;33m\u001b[0m\u001b[0m\n\u001b[0;32m      8\u001b[0m \u001b[1;32mimport\u001b[0m \u001b[0mplotly\u001b[0m\u001b[1;33m.\u001b[0m\u001b[0mgraph_objects\u001b[0m \u001b[1;32mas\u001b[0m \u001b[0mgo\u001b[0m\u001b[1;33m\u001b[0m\u001b[1;33m\u001b[0m\u001b[0m\n",
      "\u001b[1;31mModuleNotFoundError\u001b[0m: No module named 'pygam'"
     ]
    }
   ],
   "source": [
    "# import libraries\n",
    "import numpy as np \n",
    "import pandas as pd \n",
    "from mpl_toolkits import mplot3d\n",
    "from sklearn.model_selection import train_test_split\n",
    "from pygam import LinearGAM, s, te, PoissonGAM, f, GAM\n",
    "import plotly.express as px\n",
    "import plotly.graph_objects as go\n",
    "import plotly.io as pio\n",
    "pio.renderers.default = \"browser\"\n",
    "\n",
    "# load data\n",
    "df = pd.read_csv('../../Data/data_1D-tan-lin-cos2.csv', dtype=np.float64)\n",
    "X, y = df[\"t\"].values, df[\"Exp_1\"].values\n",
    "# train test split\n",
    "X_train, X_test, y_train, y_test = train_test_split(\n",
    "    X, y, test_size=0.33, random_state=42\n",
    ")\n",
    "\n",
    "# scatter raw data\n",
    "fig = px.scatter(df,x=\"t\", y=\"Exp_1\", trendline=\"ols\")\n",
    "# update the markers\n",
    "fig.update_traces(marker=dict(size=2,\n",
    "                              line=dict(width=2,\n",
    "                                        color='DarkSlateGrey')),\n",
    "                  selector=dict(mode='markers'))\n",
    "fig.show()\n"
   ]
  },
  {
   "cell_type": "code",
   "execution_count": null,
   "metadata": {},
   "outputs": [],
   "source": [
    "# pyGAM\n",
    "# train\n",
    "gam = LinearGAM(s(0, constraints=\"monotonic_inc\"), n_splines=25).gridsearch(X_train.reshape((-1,1)), y_train.reshape((-1,1)))\n",
    "# predict\n",
    "XX = gam.generate_X_grid(term=0, n=500)\n",
    "y = gam.predict(XX)\n",
    "y_pred = gam.predict(X_test)\n",
    "y_CI = gam.prediction_intervals(XX, width=.95)"
   ]
  },
  {
   "cell_type": "code",
   "execution_count": null,
   "metadata": {},
   "outputs": [],
   "source": [
    "# plot prediction and confindence intervals\n",
    "fig = go.Figure()\n",
    "fig.add_trace(\n",
    "    go.Scatter(x=XX.reshape((-1,)), y=y, name=\"Prediction\", line=dict(color=\"firebrick\", width=1))\n",
    "    )\n",
    "fig.add_trace(\n",
    "    go.Scatter(x=XX.reshape((-1,)), y=y_CI[:,0], name=\"95% Confidence\", line=dict(\n",
    "        color=\"green\", width=1, dash=\"dash\"))\n",
    "    )\n",
    "fig.add_trace(\n",
    "    go.Scatter(x=XX.reshape((-1,)), y=y_CI[:,1], name=\"95% Confidence\", line=dict(color=\"green\", width=1, dash=\"dash\"))\n",
    "    )\n",
    "fig.add_trace(\n",
    "    go.Scatter(\n",
    "        x=X_train, y=y_train, name=\"Data\", mode=\"markers\", marker_size=4, marker_symbol=\"square-open\",\n",
    "        marker_line_color=\"midnightblue\", marker_color=\"lightskyblue\", marker_line_width=2) \n",
    "    )\n",
    "fig.add_trace(\n",
    "    go.Scatter(\n",
    "        x=X_test, y=y_pred, name=\"Test Data Prediction\", mode=\"markers\", marker_size=6, \n",
    "        marker_symbol=\"circle-open\", marker_line_color=\"greenyellow\", marker_color=\"black\",\n",
    "        marker_line_width=2 )\n",
    "    )\n",
    "fig.add_trace(\n",
    "    go.Scatter(\n",
    "        x=X_test, y=y_test,name=\"Test Data\", mode=\"markers\", marker_size=6, \n",
    "        marker_symbol=\"circle-open\", marker_line_color=\"greenyellow\", marker_color=\"red\",\n",
    "        marker_line_width=2 )\n",
    "    )\n",
    "\n",
    "fig.update_layout(\n",
    "    title=\"1-dim pyGAM Fit\",\n",
    "    xaxis_title=\"x\",\n",
    "    yaxis_title=\"f(x)\",\n",
    "    font=dict(\n",
    "        family=\"Courier New, monospace\",\n",
    "        size=18,\n",
    "        color=\"#7f7f7f\"\n",
    "    )\n",
    ")\n",
    "fig.write_html(\"pyGAM-1D-fit.html\")\n",
    "fig.show()\n",
    "\n"
   ]
  }
 ],
 "metadata": {
  "file_extension": ".py",
  "kernelspec": {
   "display_name": "Python 3.7.6 64-bit ('thesis': conda)",
   "language": "python",
   "name": "python37664bitthesisconda4e23a8f720bf476ebd0f5fe3f9ef6962"
  },
  "language_info": {
   "codemirror_mode": {
    "name": "ipython",
    "version": 3
   },
   "file_extension": ".py",
   "mimetype": "text/x-python",
   "name": "python",
   "nbconvert_exporter": "python",
   "pygments_lexer": "ipython3",
   "version": "3.7.6"
  },
  "mimetype": "text/x-python",
  "name": "python",
  "npconvert_exporter": "python",
  "pygments_lexer": "ipython3",
  "version": 3
 },
 "nbformat": 4,
 "nbformat_minor": 2
}
