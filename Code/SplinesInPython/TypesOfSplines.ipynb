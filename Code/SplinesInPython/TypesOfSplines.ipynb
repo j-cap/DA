{
 "cells": [
  {
   "cell_type": "markdown",
   "metadata": {},
   "source": [
    "# Types of Splines\n",
    "\n",
    "\n",
    "\n",
    "| Spline | Source |   \n",
    "|------|------|\n",
    "| Natural splines| table| \n",
    "| Cubic Smoothing splines| table| \n",
    "| Cubic Regression splines| |\n",
    "| Cyclic Cubic Regression splines| |\n",
    "| B-splines | |\n",
    "| P-Splines | |\n",
    "| Thin plate splines| |\n",
    "|Thin plate regression splines| |"
   ]
  }
 ],
 "metadata": {
  "kernelspec": {
   "display_name": "Python 3.7.6 64-bit ('thesis': conda)",
   "language": "python",
   "name": "python37664bitthesisconda4e23a8f720bf476ebd0f5fe3f9ef6962"
  },
  "language_info": {
   "codemirror_mode": {
    "name": "ipython",
    "version": 3
   },
   "file_extension": ".py",
   "mimetype": "text/x-python",
   "name": "python",
   "nbconvert_exporter": "python",
   "pygments_lexer": "ipython3",
   "version": "3.7.6"
  }
 },
 "nbformat": 4,
 "nbformat_minor": 4
}
