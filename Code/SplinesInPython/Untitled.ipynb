{
 "cells": [
  {
   "cell_type": "code",
   "execution_count": 4,
   "metadata": {},
   "outputs": [],
   "source": [
    "import numpy as np\n",
    "import matplotlib.pyplot as plt\n",
    "import scipy as sp\n",
    "from scipy.sparse import diags\n",
    "from scipy.linalg import block_diag\n",
    "from sklearn.model_selection import train_test_split\n",
    "from sklearn.metrics import mean_squared_error\n",
    "import pandas as pd\n",
    "import plotly.express as px\n",
    "import plotly.graph_objects as go\n",
    "from plotly.subplots import make_subplots\n",
    "\n",
    "from functools import singledispatch"
   ]
  },
  {
   "cell_type": "code",
   "execution_count": 100,
   "metadata": {},
   "outputs": [],
   "source": [
    "class Bspline():\n",
    "    \n",
    "    def basisfunction(self, X, knots, j, l):\n",
    "        \"\"\"B-spline basis function definition according to Fahrmeir, Regression p.429.\n",
    "\n",
    "        Parameters:\n",
    "        -----------\n",
    "        X :      array   - Input data of shape (n_samples, ) to evaluate the B-spline basis function \n",
    "                           of order l on.\n",
    "        knots :  array   - Knot sequence defining the B-spline basis function.\n",
    "        j :      int     - Index of the B-spline basis function to evaluate.\n",
    "        l :      int     - Order of the B-spline basis function, e.g. l=3 -> cubic.\n",
    "\n",
    "        Returns:\n",
    "        --------\n",
    "        b : array     - B-spline basis function evaluated at X. \n",
    "\n",
    "        \"\"\"\n",
    "        if l == 0:\n",
    "            b = ((knots[j] <= X) & (X < knots[j+1])).astype(int)\n",
    "            return b\n",
    "        else:\n",
    "            b0 = (X - knots[j-l]) / (knots[j] - knots[j-l])\n",
    "            b1 = (knots[j+1] - X) / (knots[j+1] - knots[j+1-l])\n",
    "            b = b0*self.basisfunction(X, knots, j-1, l-1) + b1*self.basisfunction(X, knots, j, l-1)\n",
    "            return b\n",
    "\n",
    "\n",
    "    def basismatrix(self, X, nr_splines=10, l=3, knot_type=\"e\"):\n",
    "        \"\"\"Generate the B-spline basis matrix for nr_splines given the data X.\n",
    "\n",
    "         Note: (nr_splines + l + 1) knots are needed for a B-spline basis of \n",
    "               order l with nr_splines, e.g. for l=3, nr_splines=10 -> len(knots) = 14. \n",
    "\n",
    "         Parameters:\n",
    "         ----------\n",
    "         X :          array  -  Input data of shape (n_samples, ) to compute the B-spline basis matrix for.\n",
    "         nr_splines : int    -  Number of parameters (== number of B-spline basis functions).\n",
    "         l :          int    -  Specifies the order of the B-spline basis functions.\n",
    "         knot_type :  str    -  Decide between equidistant \"e\" and quantile based \"q\"\n",
    "                                knot placement.\n",
    "\n",
    "         Returns:\n",
    "         --------\n",
    "         B : matrix  - B-spline basis matrix of shape: ( length(x) x nr_splines ).\n",
    "         k : array   - Knot sequence.\n",
    "\n",
    "        \"\"\"\n",
    "        assert (len(X.shape) == 1), \"Argument X is of wrong shape.\"\n",
    "        B = np.zeros((len(X), nr_splines))\n",
    "        xmin, xmax = X.min(), X.max()\n",
    "\n",
    "        if knot_type is \"e\":\n",
    "            knots_inner = np.linspace(xmin, xmax, nr_splines-l+1)\n",
    "        elif knot_type is \"q\":\n",
    "            p = np.linspace(0, 1, nr_splines-l+1);\n",
    "            xs = np.sort(X, kind=\"quicksort\")\n",
    "            quantile_idx = np.array((len(X)-1)*p, dtype=np.int16)\n",
    "            knots_inner = xs[quantile_idx]\n",
    "        else:\n",
    "            print(f\"Knot Type {knot_type} not implemented!\")\n",
    "        \n",
    "        dknots = np.diff(knots_inner).mean()\n",
    "        knots_left = np.linspace(xmin-l*dknots, xmin-dknots, l)\n",
    "        knots_right = np.linspace(xmax+dknots, xmax+l*dknots, l)\n",
    "        knots = np.concatenate((knots_left, knots_inner, knots_right))\n",
    "\n",
    "        for j in range(l,len(knots)-1):\n",
    "            B[:,j-l] = self.basisfunction(X, knots, j, l);\n",
    "\n",
    "        self.knot_type = knot_type\n",
    "        self.l = l\n",
    "        self.basis = B\n",
    "        self.knots = knots\n",
    "        return dict(basis=B, knots=knots)\n",
    "\n",
    "    def fit(self, X, y, nr_splines=10, l=3, knot_type=\"e\"):\n",
    "        \"\"\"Calculate the least squares parameters of the B-spline given the data X.\n",
    "\n",
    "        Parameters:\n",
    "        -----------\n",
    "        X : array        - Input data of shape (n_samples, ).\n",
    "        y : array        - Output data of shape (n_samples, ).\n",
    "        nr_splines : int - Nr. of B-spline basis functions to use.\n",
    "        l : int          - Order of the B-spline basis functions.\n",
    "        knot_type : str  - Specifies the type of the knot sequence, either \"e\" or \"q\".\n",
    "\n",
    "        Returns:\n",
    "        --------\n",
    "        coef_ : array  - Estimated coefficients of shape (nr_splines, ).\n",
    "        B : matrix     - B-spline basis matrix.\n",
    "        k : array      - Knot sequence \n",
    "        \"\"\"\n",
    "        if len(X.shape) == 1:\n",
    "            B, k = self.basismatrix(X=X, nr_splines=nr_splines, l=l, knot_type=knot_type).values()\n",
    "        elif X.shape[1] == 2:\n",
    "            B, k1, k2 = self.tensorproduct_basismatrix(X=X, nr_splines=nr_splines, l=l, knot_type=knot_type).values()\n",
    "            k = (k1, k2)\n",
    "        else:\n",
    "            print(\"Maximal dimension == 2!\")\n",
    "            return \n",
    "        solution = np.linalg.lstsq(a=B, b=y, rcond=None)      \n",
    "        self.coef_ = solution[0]\n",
    "        return dict(coef_=solution[0], basis=B, knots=k) \n",
    "\n",
    "    def predict(self, Xpred, coef, knots, l=3):\n",
    "        \"\"\"Calculate the B-spline value for X given the parameters in coef.\n",
    "\n",
    "        Paramters:\n",
    "        ----------\n",
    "        X : array      - Data of shape (n_samples, ) to evaluate the B-spline on.\n",
    "        coef  : array  - Parameters of the B-spline.\n",
    "        knots : array  - Knot sequence of the B-spline.\n",
    "        l : int        - Order of the B-spline.\n",
    "\n",
    "        Returns:\n",
    "        --------\n",
    "        s : array   - B-spline values on X for the given parameters.\n",
    "\n",
    "        \"\"\"\n",
    "        if len(Xpred.shape) == 1:\n",
    "            print(\"Prediction for 1-D Data\".center(30, \"-\"))\n",
    "            B = np.zeros((len(Xpred), len(coef)))\n",
    "            for j in range(l, len(knots)-1):\n",
    "                B[:,j-l] = self.basisfunction(Xpred, knots, j, l)\n",
    "                \n",
    "        elif Xpred.shape[1] == 2:\n",
    "            print(\"Prediction for 2-D Data\".center(30, \"-\"))\n",
    "            n_samples = len(Xpred[:,0])\n",
    "            B1pred, B2pred = np.zeros((n_samples, len(knots[0])-1-l[0])), np.zeros((n_samples, len(knots[1])-1-l[1]))\n",
    "            B = np.zeros((n_samples, len(coef)))\n",
    "\n",
    "            for j in range(l[0], len(knots[0])-1):\n",
    "                B1pred[:,j-l[0]] = self.basisfunction(Xpred[:,0], knots[0], j, l[0]) \n",
    "            for j in range(l[1], len(knots[1])-1):\n",
    "                B2pred[:,j-l[1]] = self.basisfunction(Xpred[:,1], knots[1], j, l[1]) \n",
    "            for i in range(n_samples):\n",
    "                B[i,:] = np.kron(B2pred[i,:], B1pred[i,:])    \n",
    "        else:\n",
    "            print(\"Maximal dimension == 2!\")\n",
    "            return \n",
    "        s = B @ coef\n",
    "        return s    \n"
   ]
  },
  {
   "cell_type": "code",
   "execution_count": 118,
   "metadata": {},
   "outputs": [
    {
     "name": "stdout",
     "output_type": "stream",
     "text": [
      "---Prediction for 1-D Data----\n"
     ]
    }
   ],
   "source": [
    "np.random.seed(2)\n",
    "x = np.random.random(200)*100\n",
    "xpred = np.linspace(0, max(x), 1000)\n",
    "y = np.sin(x) + np.random.normal(size=x.shape)*0.2\n",
    "ypredtrue = np.sin(xpred)\n",
    "#px.scatter(x=x, y=y)\n",
    "\n",
    "B = Bspline()\n",
    "sol = B.fit(x,y,nr_splines=65, knot_type=\"q\")\n",
    "ypred = B.predict(xpred, sol[\"coef_\"], sol[\"knots\"])"
   ]
  },
  {
   "cell_type": "code",
   "execution_count": 119,
   "metadata": {},
   "outputs": [
    {
     "data": {
      "text/plain": [
       "0.03096358246254299"
      ]
     },
     "execution_count": 119,
     "metadata": {},
     "output_type": "execute_result"
    }
   ],
   "source": [
    "mean_squared_error(y, sol[\"basis\"]@sol[\"coef_\"])"
   ]
  },
  {
   "cell_type": "code",
   "execution_count": 120,
   "metadata": {},
   "outputs": [
    {
     "data": {
      "text/plain": [
       "0.03340634365498488"
      ]
     },
     "execution_count": 120,
     "metadata": {},
     "output_type": "execute_result"
    }
   ],
   "source": [
    "mean_squared_error(ypred, ypredtrue)"
   ]
  }
 ],
 "metadata": {
  "kernelspec": {
   "display_name": "Python 3.7.6 64-bit ('thesis': conda)",
   "language": "python",
   "name": "python37664bitthesisconda4e23a8f720bf476ebd0f5fe3f9ef6962"
  },
  "language_info": {
   "codemirror_mode": {
    "name": "ipython",
    "version": 3
   },
   "file_extension": ".py",
   "mimetype": "text/x-python",
   "name": "python",
   "nbconvert_exporter": "python",
   "pygments_lexer": "ipython3",
   "version": "3.7.7"
  }
 },
 "nbformat": 4,
 "nbformat_minor": 4
}
