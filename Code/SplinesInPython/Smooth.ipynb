{
 "cells": [
  {
   "cell_type": "markdown",
   "metadata": {},
   "source": [
    "**Implementation of the 1D smooth for a BSpline basis with penalties**"
   ]
  },
  {
   "cell_type": "code",
   "execution_count": 5,
   "metadata": {},
   "outputs": [
    {
     "name": "stderr",
     "output_type": "stream",
     "text": [
      "[NbConvertApp] Converting notebook Smooth.ipynb to script\n",
      "[NbConvertApp] Writing 3482 bytes to Smooth.py\n"
     ]
    }
   ],
   "source": [
    "# convert jupyter notebook to python script\n",
    "!jupyter nbconvert --to script Smooth.ipynb"
   ]
  },
  {
   "cell_type": "code",
   "execution_count": 18,
   "metadata": {},
   "outputs": [],
   "source": [
    "import numpy as np\n",
    "\n",
    "from ClassBSplines import BSpline\n",
    "from TensorProductSplines import TensorProductSpline\n",
    "\n",
    "\n",
    "\n",
    "class Smooths(BSpline):\n",
    "    \"\"\"Implementation of the 1d smooth used in Additive Models.\"\"\"\n",
    "\n",
    "    def __init__(self, x_data, n_param, penalty=\"smooth\", y_peak_or_valley=None, lam_c=None, lam_s=None):\n",
    "        print(\"Type x_data: \", type(x_data))\n",
    "        self.x_data = x_data\n",
    "        self.n_param = n_param\n",
    "        self.penalty = penalty\n",
    "        self.lam_constraint = lam_c\n",
    "        self.lam_smooth = lam_s\n",
    "        self.bspline = BSpline()\n",
    "        self.b_spline_basis(x_basis=self.x_data, k=self.n_param)\n",
    "        \n",
    "        # sanity check\n",
    "        if penalty is \"peak\" or penalty is \"valley\":\n",
    "            assert (y_peak_or_valley is not None), \"Include real y_data in Smooths()\"\n",
    "        \n",
    "        if penalty is \"inc\":\n",
    "            self.penalty_matrix = self.D1_difference_matrix()\n",
    "        elif penalty is \"dec\":\n",
    "            self.penalty_matrix = -1 * self.D1_difference_matrix() \n",
    "        elif penalty is \"conv\":\n",
    "            self.penalty_matrix = self.D2_difference_matrix()\n",
    "        elif penalty is \"conc\":\n",
    "            self.penalty_matrix = -1 * self.D2_difference_matrix()\n",
    "        elif penalty is \"smooth\":\n",
    "            self.penalty_matrix = self.Smoothness_matrix()\n",
    "        elif penalty is \"peak\":\n",
    "            self.penalty_matrix = self.Peak_matrix(basis=self.basis, y_data=y_peak_or_valley)\n",
    "        elif penalty is \"valley\":\n",
    "            self.penalty_matrix = self.Valley_matrix(basis=self.basis, y_data=y_peak_or_valley)\n",
    "        else:\n",
    "            print(f\"Penalty {penalty} not implemented!\")\n",
    "    \n",
    "class TP_Smooths(TensorProductSpline):\n",
    "    \"\"\"Implementation of the 2d tensor product spline smooth in Additive Models.\"\"\"\n",
    "    \n",
    "    def __init__(self, x_data=None, n_param=(1,1), penalty=\"smooth\", lam_c=None, lam_s=None):\n",
    "        self.x_data = x_data\n",
    "        self.x1, self.x2 = x_data[:,0], x_data[:,1]\n",
    "        self.n_param = n_param\n",
    "        self.penalty = penalty\n",
    "        self.lam_constraint = lam_c\n",
    "        self.lam_smooth = lam_s\n",
    "        self.tps = TensorProductSpline()\n",
    "        self.tensor_product_spline_2d_basis(x_basis=self.x_data, k1=n_param[0], k2=n_param[1])\n",
    "        \n",
    "        if penalty is \"inc\":\n",
    "            self.penalty_matrix = self.D1_difference_matrix()\n",
    "        elif penalty is \"dec\":\n",
    "            self.penalty_matrix = -1 * self.D1_difference_matrix() \n",
    "        elif penalty is \"conv\":\n",
    "            self.penalty_matrix = self.D2_difference_matrix()\n",
    "        elif penalty is \"conc\":\n",
    "            self.penalty_matrix = -1 * self.D2_difference_matrix()\n",
    "        elif penalty is \"smooth\":\n",
    "            self.penalty_matrix = self.Smoothness_matrix()\n",
    "        elif penalty is \"tps\":\n",
    "            self.penalty_matrix = self.D2_difference_matrix(\n",
    "                n_param=int(np.product(self.n_param)))\n",
    "        else:\n",
    "            print(f\"Penalty {penalty} not implemented!\")\n",
    "        "
   ]
  },
  {
   "cell_type": "code",
   "execution_count": 14,
   "metadata": {},
   "outputs": [],
   "source": [
    "\n",
    "def test():\n",
    "    import pandas as pd\n",
    "    import numpy as np\n",
    "    X = pd.DataFrame(data={\"x1\": np.logspace(0.001,0.99,1000), #, \n",
    "                           \"x2\": np.linspace(0,1,1000), #}) #,\n",
    "                           \"x3\": np.linspace(-2,2,1000), })\n",
    "\n",
    "    TP = TP_Smooths(x_data=X[[\"x1\", \"x2\"]].values, n_param=(10,10), penalties=\"smooth\")"
   ]
  }
 ],
 "metadata": {
  "kernelspec": {
   "display_name": "Python 3",
   "language": "python",
   "name": "python3"
  },
  "language_info": {
   "codemirror_mode": {
    "name": "ipython",
    "version": 3
   },
   "file_extension": ".py",
   "mimetype": "text/x-python",
   "name": "python",
   "nbconvert_exporter": "python",
   "pygments_lexer": "ipython3",
   "version": "3.7.6"
  }
 },
 "nbformat": 4,
 "nbformat_minor": 4
}
