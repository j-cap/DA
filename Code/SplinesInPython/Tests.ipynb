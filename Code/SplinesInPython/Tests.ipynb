{
 "cells": [
  {
   "cell_type": "markdown",
   "metadata": {},
   "source": [
    "## Test of the various classes including\n",
    "\n",
    "- smooth.py\n",
    "- model.py\n",
    "- bspline.py\n",
    "- penalty_matrix.py\n"
   ]
  },
  {
   "cell_type": "code",
   "execution_count": null,
   "metadata": {},
   "outputs": [],
   "source": [
    "# tests for smooth.py\n",
    "\n",
    "from smooth import Smooths\n",
    "from smooth import TensorProductSmooths as TPS\n",
    "\n",
    "def test__TensorProductSmooths():\n",
    "    import pandas as pd\n",
    "    import numpy as np\n",
    "    X = pd.DataFrame(data={\"x1\": np.logspace(0.001,0.99,1000), #, \n",
    "                           \"x2\": np.linspace(0,1,1000), #}) #,\n",
    "                           \"x3\": np.linspace(-2,2,1000), })\n",
    "\n",
    "    TP = TPS(x_data=X[[\"x1\", \"x2\"]].values, n_param=(10,10), penalty=\"smooth\",\n",
    "            lam_s=1)\n",
    "    \n",
    "def test__Smooths():\n",
    "    import pandas as pd\n",
    "    import numpy as np\n",
    "    X = pd.DataFrame(data={\"x1\": np.logspace(0.001,0.99,1000), #, \n",
    "                           \"x2\": np.linspace(0,1,1000), #}) #,\n",
    "                           \"x3\": np.linspace(-2,2,1000), })\n",
    "\n",
    "    S = Smooths(x_data=X[[\"x1\"]].values.ravel(), n_param=10, penalty=\"smooth\",\n",
    "                y_peak_or_valley=None, lam_c=None, lam_s=None)\n",
    "    "
   ]
  },
  {
   "cell_type": "code",
   "execution_count": null,
   "metadata": {},
   "outputs": [],
   "source": [
    "test__Smooths()\n",
    "\n",
    "test__TensorProductSmooths()"
   ]
  },
  {
   "cell_type": "code",
   "execution_count": null,
   "metadata": {},
   "outputs": [],
   "source": [
    "# test for star_model.py\n",
    "from star_model import StarModel\n",
    "from sklearn.preprocessing import MinMaxScaler\n",
    "from sklearn.model_selection import train_test_split\n",
    "import pandas as pd\n",
    "import numpy as np\n",
    "\n",
    "\n",
    "def test_StarModel():\n",
    "    np.random.seed(42)\n",
    "    print(\"Create an object of StarModel!\")\n",
    "    print(\"Test StarModel.fit(X,y) \\n\")\n",
    "    \n",
    "    # create some data\n",
    "    X = pd.DataFrame(data={\"x1\": np.linspace(-2,2,1000), \n",
    "                           \"x2\": np.linspace(0,1,1000), }) #,\n",
    "    y = pd.DataFrame(data={\"y\": -2*np.exp(-X[\"x1\"]**2) + 0.1*np.exp(X[\"x2\"]) + \n",
    "                           0.1*np.random.randn(len(X[\"x1\"])) + X[\"x1\"] * X[\"x2\"]  })\n",
    "\n",
    "    X_norm = MinMaxScaler().fit_transform(X)\n",
    "    y_norm = MinMaxScaler().fit_transform(y)\n",
    "\n",
    "    # create a model descrition\n",
    "    m = ( ('s(1)', 'valley', 25, (1, 1000)),  \n",
    "          ('s(2)', 'smooth', 25, (1, 1000)), )\n",
    "\n",
    "    # create the model\n",
    "    Model = StarModel(descr=m)\n",
    "    # fit the model\n",
    "    \n",
    "    Model.fit(X=X_norm, y=y_norm)\n",
    "    return Model"
   ]
  },
  {
   "cell_type": "code",
   "execution_count": null,
   "metadata": {},
   "outputs": [],
   "source": [
    "M = test_StarModel()"
   ]
  },
  {
   "cell_type": "code",
   "execution_count": 30,
   "metadata": {},
   "outputs": [],
   "source": [
    "# test bspline.py\n",
    "from bspline import B_spline\n",
    "import numpy as np\n",
    "\n",
    "def test__B_spline():\n",
    "    \n",
    "    print(\"Test B_spline with linspace data!\\n\")\n",
    "    x = np.linspace(-1,1,25)\n",
    "    B1 = B_spline(x=x)\n",
    "    B1.b_spline_basis(k=10)\n",
    "    B1.plot_basis()\n",
    "    \n",
    "    print(\"Test B_spline with random data!\\n\")\n",
    "    xr = np.random.random(25)\n",
    "    xr.sort()\n",
    "    B2 = B_spline(x=xr)\n",
    "    B2.b_spline_basis(k=10)\n",
    "    B2.plot_basis()\n",
    "    \n",
    "    print(\"Test B_spline with logspace data!\\n\")\n",
    "    xl = np.logspace(5,1,25)\n",
    "    B3 = B_spline(x=xl)\n",
    "    B3.b_spline_basis(k=10)\n",
    "    B3.plot_basis()\n",
    "    \n",
    "    return"
   ]
  },
  {
   "cell_type": "code",
   "execution_count": 31,
   "metadata": {},
   "outputs": [
    {
     "name": "stdout",
     "output_type": "stream",
     "text": [
      "Test B_spline with linspace data!\n",
      "\n",
      "'x' from initialization is used for the spline basis!\n"
     ]
    },
    {
     "data": {
      "application/vnd.plotly.v1+json": {
       "config": {
        "plotlyServerURL": "https://plot.ly"
       },
       "data": [
        {
         "mode": "lines",
         "name": "BSpline 1",
         "type": "scatter",
         "x": [
          -1,
          -0.9166666666666666,
          -0.8333333333333334,
          -0.75,
          -0.6666666666666667,
          -0.5833333333333334,
          -0.5,
          -0.41666666666666674,
          -0.33333333333333337,
          -0.25,
          -0.16666666666666674,
          -0.08333333333333337,
          0,
          0.08333333333333326,
          0.16666666666666652,
          0.25,
          0.33333333333333326,
          0.4166666666666665,
          0.5,
          0.5833333333333333,
          0.6666666666666665,
          0.75,
          0.8333333333333333,
          0.9166666666666665,
          1
         ],
         "y": [
          0.16666666666666657,
          0.05923273533950608,
          0.01205632716049381,
          0.00032552083333333017,
          0,
          0,
          0,
          0,
          0,
          0,
          0,
          0,
          0,
          0,
          0,
          0,
          0,
          0,
          0,
          0,
          0,
          0,
          0,
          0,
          0
         ]
        },
        {
         "mode": "lines",
         "name": "BSpline 2",
         "type": "scatter",
         "x": [
          -1,
          -0.9166666666666666,
          -0.8333333333333334,
          -0.75,
          -0.6666666666666667,
          -0.5833333333333334,
          -0.5,
          -0.41666666666666674,
          -0.33333333333333337,
          -0.25,
          -0.16666666666666674,
          -0.08333333333333337,
          0,
          0.08333333333333326,
          0.16666666666666652,
          0.25,
          0.33333333333333326,
          0.4166666666666665,
          0.5,
          0.5833333333333333,
          0.6666666666666665,
          0.75,
          0.8333333333333333,
          0.9166666666666665,
          1
         ],
         "y": [
          0.6666666666666667,
          0.5940031828703702,
          0.42563657407407407,
          0.23600260416666652,
          0.0964506172839506,
          0.026487750771604916,
          0.0026041666666666574,
          0,
          0,
          0,
          0,
          0,
          0,
          0,
          0,
          0,
          0,
          0,
          0,
          0,
          0,
          0,
          0,
          0,
          0
         ]
        },
        {
         "mode": "lines",
         "name": "BSpline 3",
         "type": "scatter",
         "x": [
          -1,
          -0.9166666666666666,
          -0.8333333333333334,
          -0.75,
          -0.6666666666666667,
          -0.5833333333333334,
          -0.5,
          -0.41666666666666674,
          -0.33333333333333337,
          -0.25,
          -0.16666666666666674,
          -0.08333333333333337,
          0,
          0.08333333333333326,
          0.16666666666666652,
          0.25,
          0.33333333333333326,
          0.4166666666666665,
          0.5,
          0.5833333333333333,
          0.6666666666666665,
          0.75,
          0.8333333333333333,
          0.9166666666666665,
          1
         ],
         "y": [
          0.16666666666666663,
          0.3426287615740741,
          0.529224537037037,
          0.6520182291666667,
          0.6412037037037036,
          0.504738136574074,
          0.31510416666666646,
          0.1466893325617283,
          0.04938271604938266,
          0.00878906249999997,
          9.645061728394995e-05,
          0,
          0,
          0,
          0,
          0,
          0,
          0,
          0,
          0,
          0,
          0,
          0,
          0,
          0
         ]
        },
        {
         "mode": "lines",
         "name": "BSpline 4",
         "type": "scatter",
         "x": [
          -1,
          -0.9166666666666666,
          -0.8333333333333334,
          -0.75,
          -0.6666666666666667,
          -0.5833333333333334,
          -0.5,
          -0.41666666666666674,
          -0.33333333333333337,
          -0.25,
          -0.16666666666666674,
          -0.08333333333333337,
          0,
          0.08333333333333326,
          0.16666666666666652,
          0.25,
          0.33333333333333326,
          0.4166666666666665,
          0.5,
          0.5833333333333333,
          0.6666666666666665,
          0.75,
          0.8333333333333333,
          0.9166666666666665,
          1
         ],
         "y": [
          0,
          0.004135320216049391,
          0.03308256172839507,
          0.11165364583333343,
          0.26157407407407407,
          0.45272714120370383,
          0.6119791666666667,
          0.6649667245370369,
          0.574074074074074,
          0.3981119791666663,
          0.21151620370370353,
          0.08269434799382701,
          0.020833333333333256,
          0.001507040895061721,
          0,
          0,
          0,
          0,
          0,
          0,
          0,
          0,
          0,
          0,
          0
         ]
        },
        {
         "mode": "lines",
         "name": "BSpline 5",
         "type": "scatter",
         "x": [
          -1,
          -0.9166666666666666,
          -0.8333333333333334,
          -0.75,
          -0.6666666666666667,
          -0.5833333333333334,
          -0.5,
          -0.41666666666666674,
          -0.33333333333333337,
          -0.25,
          -0.16666666666666674,
          -0.08333333333333337,
          0,
          0.08333333333333326,
          0.16666666666666652,
          0.25,
          0.33333333333333326,
          0.4166666666666665,
          0.5,
          0.5833333333333333,
          0.6666666666666665,
          0.75,
          0.8333333333333333,
          0.9166666666666665,
          1
         ],
         "y": [
          0,
          0,
          0,
          0,
          0.0007716049382716075,
          0.016046971450617318,
          0.07031250000000011,
          0.18833188657407415,
          0.37037037037037057,
          0.5524088541666669,
          0.660011574074074,
          0.6277850115740736,
          0.4791666666666661,
          0.28801359953703665,
          0.12837577160493807,
          0.04069010416666643,
          0.006172839506172777,
          1.2056327160492881e-05,
          0,
          0,
          0,
          0,
          0,
          0,
          0
         ]
        },
        {
         "mode": "lines",
         "name": "BSpline 6",
         "type": "scatter",
         "x": [
          -1,
          -0.9166666666666666,
          -0.8333333333333334,
          -0.75,
          -0.6666666666666667,
          -0.5833333333333334,
          -0.5,
          -0.41666666666666674,
          -0.33333333333333337,
          -0.25,
          -0.16666666666666674,
          -0.08333333333333337,
          0,
          0.08333333333333326,
          0.16666666666666652,
          0.25,
          0.33333333333333326,
          0.4166666666666665,
          0.5,
          0.5833333333333333,
          0.6666666666666665,
          0.75,
          0.8333333333333333,
          0.9166666666666665,
          1
         ],
         "y": [
          0,
          0,
          0,
          0,
          0,
          0,
          0,
          1.2056327160493872e-05,
          0.006172839506172853,
          0.040690104166666755,
          0.12837577160493835,
          0.2880135995370373,
          0.479166666666667,
          0.6277850115740743,
          0.6600115740740742,
          0.5524088541666663,
          0.37037037037037,
          0.18833188657407382,
          0.07031249999999975,
          0.01604697145061722,
          0.0007716049382716014,
          0,
          0,
          0,
          0
         ]
        },
        {
         "mode": "lines",
         "name": "BSpline 7",
         "type": "scatter",
         "x": [
          -1,
          -0.9166666666666666,
          -0.8333333333333334,
          -0.75,
          -0.6666666666666667,
          -0.5833333333333334,
          -0.5,
          -0.41666666666666674,
          -0.33333333333333337,
          -0.25,
          -0.16666666666666674,
          -0.08333333333333337,
          0,
          0.08333333333333326,
          0.16666666666666652,
          0.25,
          0.33333333333333326,
          0.4166666666666665,
          0.5,
          0.5833333333333333,
          0.6666666666666665,
          0.75,
          0.8333333333333333,
          0.9166666666666665,
          1
         ],
         "y": [
          0,
          0,
          0,
          0,
          0,
          0,
          0,
          0,
          0,
          0,
          0,
          0.0015070408950617366,
          0.020833333333333405,
          0.08269434799382729,
          0.2115162037037039,
          0.3981119791666673,
          0.5740740740740746,
          0.6649667245370371,
          0.6119791666666663,
          0.4527271412037034,
          0.261574074074074,
          0.11165364583333316,
          0.03308256172839505,
          0.004135320216049398,
          0
         ]
        },
        {
         "mode": "lines",
         "name": "BSpline 8",
         "type": "scatter",
         "x": [
          -1,
          -0.9166666666666666,
          -0.8333333333333334,
          -0.75,
          -0.6666666666666667,
          -0.5833333333333334,
          -0.5,
          -0.41666666666666674,
          -0.33333333333333337,
          -0.25,
          -0.16666666666666674,
          -0.08333333333333337,
          0,
          0.08333333333333326,
          0.16666666666666652,
          0.25,
          0.33333333333333326,
          0.4166666666666665,
          0.5,
          0.5833333333333333,
          0.6666666666666665,
          0.75,
          0.8333333333333333,
          0.9166666666666665,
          1
         ],
         "y": [
          0,
          0,
          0,
          0,
          0,
          0,
          0,
          0,
          0,
          0,
          0,
          0,
          0,
          0,
          9.645061728395102e-05,
          0.00878906250000005,
          0.04938271604938284,
          0.14668933256172856,
          0.31510416666666724,
          0.5047381365740744,
          0.6412037037037037,
          0.6520182291666665,
          0.529224537037037,
          0.3426287615740744,
          0.16666666666666674
         ]
        },
        {
         "mode": "lines",
         "name": "BSpline 9",
         "type": "scatter",
         "x": [
          -1,
          -0.9166666666666666,
          -0.8333333333333334,
          -0.75,
          -0.6666666666666667,
          -0.5833333333333334,
          -0.5,
          -0.41666666666666674,
          -0.33333333333333337,
          -0.25,
          -0.16666666666666674,
          -0.08333333333333337,
          0,
          0.08333333333333326,
          0.16666666666666652,
          0.25,
          0.33333333333333326,
          0.4166666666666665,
          0.5,
          0.5833333333333333,
          0.6666666666666665,
          0.75,
          0.8333333333333333,
          0.9166666666666665,
          1
         ],
         "y": [
          0,
          0,
          0,
          0,
          0,
          0,
          0,
          0,
          0,
          0,
          0,
          0,
          0,
          0,
          0,
          0,
          0,
          0,
          0.002604166666666711,
          0.02648775077160507,
          0.09645061728395077,
          0.23600260416666707,
          0.4256365740740741,
          0.5940031828703702,
          0.6666666666666667
         ]
        },
        {
         "mode": "lines",
         "name": "BSpline 10",
         "type": "scatter",
         "x": [
          -1,
          -0.9166666666666666,
          -0.8333333333333334,
          -0.75,
          -0.6666666666666667,
          -0.5833333333333334,
          -0.5,
          -0.41666666666666674,
          -0.33333333333333337,
          -0.25,
          -0.16666666666666674,
          -0.08333333333333337,
          0,
          0.08333333333333326,
          0.16666666666666652,
          0.25,
          0.33333333333333326,
          0.4166666666666665,
          0.5,
          0.5833333333333333,
          0.6666666666666665,
          0.75,
          0.8333333333333333,
          0.9166666666666665,
          1
         ],
         "y": [
          0,
          0,
          0,
          0,
          0,
          0,
          0,
          0,
          0,
          0,
          0,
          0,
          0,
          0,
          0,
          0,
          0,
          0,
          0,
          0,
          0,
          0.00032552083333333814,
          0.012056327160493836,
          0.05923273533950607,
          0.1666666666666666
         ]
        }
       ],
       "layout": {
        "autosize": true,
        "shapes": [
         {
          "line": {
           "color": "LightSeaGreen",
           "width": 1
          },
          "type": "line",
          "x0": -1.8571428571428577,
          "x1": -1.8571428571428577,
          "y0": 0,
          "y1": 1.2
         },
         {
          "line": {
           "color": "LightSeaGreen",
           "width": 1
          },
          "type": "line",
          "x0": -1.5714285714285716,
          "x1": -1.5714285714285716,
          "y0": 0,
          "y1": 1.2
         },
         {
          "line": {
           "color": "LightSeaGreen",
           "width": 1
          },
          "type": "line",
          "x0": -1.2857142857142856,
          "x1": -1.2857142857142856,
          "y0": 0,
          "y1": 1.2
         },
         {
          "line": {
           "color": "LightSeaGreen",
           "width": 1
          },
          "type": "line",
          "x0": -1,
          "x1": -1,
          "y0": 0,
          "y1": 1.2
         },
         {
          "line": {
           "color": "LightSeaGreen",
           "width": 1
          },
          "type": "line",
          "x0": -0.7142857142857144,
          "x1": -0.7142857142857144,
          "y0": 0,
          "y1": 1.2
         },
         {
          "line": {
           "color": "LightSeaGreen",
           "width": 1
          },
          "type": "line",
          "x0": -0.42857142857142866,
          "x1": -0.42857142857142866,
          "y0": 0,
          "y1": 1.2
         },
         {
          "line": {
           "color": "LightSeaGreen",
           "width": 1
          },
          "type": "line",
          "x0": -0.142857142857143,
          "x1": -0.142857142857143,
          "y0": 0,
          "y1": 1.2
         },
         {
          "line": {
           "color": "LightSeaGreen",
           "width": 1
          },
          "type": "line",
          "x0": 0.14285714285714268,
          "x1": 0.14285714285714268,
          "y0": 0,
          "y1": 1.2
         },
         {
          "line": {
           "color": "LightSeaGreen",
           "width": 1
          },
          "type": "line",
          "x0": 0.4285714285714281,
          "x1": 0.4285714285714281,
          "y0": 0,
          "y1": 1.2
         },
         {
          "line": {
           "color": "LightSeaGreen",
           "width": 1
          },
          "type": "line",
          "x0": 0.7142857142857141,
          "x1": 0.7142857142857141,
          "y0": 0,
          "y1": 1.2
         },
         {
          "line": {
           "color": "LightSeaGreen",
           "width": 1
          },
          "type": "line",
          "x0": 1,
          "x1": 1,
          "y0": 0,
          "y1": 1.2
         },
         {
          "line": {
           "color": "LightSeaGreen",
           "width": 1
          },
          "type": "line",
          "x0": 1.285714285714286,
          "x1": 1.285714285714286,
          "y0": 0,
          "y1": 1.2
         },
         {
          "line": {
           "color": "LightSeaGreen",
           "width": 1
          },
          "type": "line",
          "x0": 1.571428571428572,
          "x1": 1.571428571428572,
          "y0": 0,
          "y1": 1.2
         },
         {
          "line": {
           "color": "LightSeaGreen",
           "width": 1
          },
          "type": "line",
          "x0": 1.857142857142858,
          "x1": 1.857142857142858,
          "y0": 0,
          "y1": 1.2
         },
         {
          "line": {
           "color": "LightSeaGreen",
           "width": 1
          },
          "type": "line",
          "x0": 2.142857142857144,
          "x1": 2.142857142857144,
          "y0": 0,
          "y1": 1.2
         }
        ],
        "template": {
         "data": {
          "bar": [
           {
            "error_x": {
             "color": "#2a3f5f"
            },
            "error_y": {
             "color": "#2a3f5f"
            },
            "marker": {
             "line": {
              "color": "#E5ECF6",
              "width": 0.5
             }
            },
            "type": "bar"
           }
          ],
          "barpolar": [
           {
            "marker": {
             "line": {
              "color": "#E5ECF6",
              "width": 0.5
             }
            },
            "type": "barpolar"
           }
          ],
          "carpet": [
           {
            "aaxis": {
             "endlinecolor": "#2a3f5f",
             "gridcolor": "white",
             "linecolor": "white",
             "minorgridcolor": "white",
             "startlinecolor": "#2a3f5f"
            },
            "baxis": {
             "endlinecolor": "#2a3f5f",
             "gridcolor": "white",
             "linecolor": "white",
             "minorgridcolor": "white",
             "startlinecolor": "#2a3f5f"
            },
            "type": "carpet"
           }
          ],
          "choropleth": [
           {
            "colorbar": {
             "outlinewidth": 0,
             "ticks": ""
            },
            "type": "choropleth"
           }
          ],
          "contour": [
           {
            "colorbar": {
             "outlinewidth": 0,
             "ticks": ""
            },
            "colorscale": [
             [
              0,
              "#0d0887"
             ],
             [
              0.1111111111111111,
              "#46039f"
             ],
             [
              0.2222222222222222,
              "#7201a8"
             ],
             [
              0.3333333333333333,
              "#9c179e"
             ],
             [
              0.4444444444444444,
              "#bd3786"
             ],
             [
              0.5555555555555556,
              "#d8576b"
             ],
             [
              0.6666666666666666,
              "#ed7953"
             ],
             [
              0.7777777777777778,
              "#fb9f3a"
             ],
             [
              0.8888888888888888,
              "#fdca26"
             ],
             [
              1,
              "#f0f921"
             ]
            ],
            "type": "contour"
           }
          ],
          "contourcarpet": [
           {
            "colorbar": {
             "outlinewidth": 0,
             "ticks": ""
            },
            "type": "contourcarpet"
           }
          ],
          "heatmap": [
           {
            "colorbar": {
             "outlinewidth": 0,
             "ticks": ""
            },
            "colorscale": [
             [
              0,
              "#0d0887"
             ],
             [
              0.1111111111111111,
              "#46039f"
             ],
             [
              0.2222222222222222,
              "#7201a8"
             ],
             [
              0.3333333333333333,
              "#9c179e"
             ],
             [
              0.4444444444444444,
              "#bd3786"
             ],
             [
              0.5555555555555556,
              "#d8576b"
             ],
             [
              0.6666666666666666,
              "#ed7953"
             ],
             [
              0.7777777777777778,
              "#fb9f3a"
             ],
             [
              0.8888888888888888,
              "#fdca26"
             ],
             [
              1,
              "#f0f921"
             ]
            ],
            "type": "heatmap"
           }
          ],
          "heatmapgl": [
           {
            "colorbar": {
             "outlinewidth": 0,
             "ticks": ""
            },
            "colorscale": [
             [
              0,
              "#0d0887"
             ],
             [
              0.1111111111111111,
              "#46039f"
             ],
             [
              0.2222222222222222,
              "#7201a8"
             ],
             [
              0.3333333333333333,
              "#9c179e"
             ],
             [
              0.4444444444444444,
              "#bd3786"
             ],
             [
              0.5555555555555556,
              "#d8576b"
             ],
             [
              0.6666666666666666,
              "#ed7953"
             ],
             [
              0.7777777777777778,
              "#fb9f3a"
             ],
             [
              0.8888888888888888,
              "#fdca26"
             ],
             [
              1,
              "#f0f921"
             ]
            ],
            "type": "heatmapgl"
           }
          ],
          "histogram": [
           {
            "marker": {
             "colorbar": {
              "outlinewidth": 0,
              "ticks": ""
             }
            },
            "type": "histogram"
           }
          ],
          "histogram2d": [
           {
            "colorbar": {
             "outlinewidth": 0,
             "ticks": ""
            },
            "colorscale": [
             [
              0,
              "#0d0887"
             ],
             [
              0.1111111111111111,
              "#46039f"
             ],
             [
              0.2222222222222222,
              "#7201a8"
             ],
             [
              0.3333333333333333,
              "#9c179e"
             ],
             [
              0.4444444444444444,
              "#bd3786"
             ],
             [
              0.5555555555555556,
              "#d8576b"
             ],
             [
              0.6666666666666666,
              "#ed7953"
             ],
             [
              0.7777777777777778,
              "#fb9f3a"
             ],
             [
              0.8888888888888888,
              "#fdca26"
             ],
             [
              1,
              "#f0f921"
             ]
            ],
            "type": "histogram2d"
           }
          ],
          "histogram2dcontour": [
           {
            "colorbar": {
             "outlinewidth": 0,
             "ticks": ""
            },
            "colorscale": [
             [
              0,
              "#0d0887"
             ],
             [
              0.1111111111111111,
              "#46039f"
             ],
             [
              0.2222222222222222,
              "#7201a8"
             ],
             [
              0.3333333333333333,
              "#9c179e"
             ],
             [
              0.4444444444444444,
              "#bd3786"
             ],
             [
              0.5555555555555556,
              "#d8576b"
             ],
             [
              0.6666666666666666,
              "#ed7953"
             ],
             [
              0.7777777777777778,
              "#fb9f3a"
             ],
             [
              0.8888888888888888,
              "#fdca26"
             ],
             [
              1,
              "#f0f921"
             ]
            ],
            "type": "histogram2dcontour"
           }
          ],
          "mesh3d": [
           {
            "colorbar": {
             "outlinewidth": 0,
             "ticks": ""
            },
            "type": "mesh3d"
           }
          ],
          "parcoords": [
           {
            "line": {
             "colorbar": {
              "outlinewidth": 0,
              "ticks": ""
             }
            },
            "type": "parcoords"
           }
          ],
          "pie": [
           {
            "automargin": true,
            "type": "pie"
           }
          ],
          "scatter": [
           {
            "marker": {
             "colorbar": {
              "outlinewidth": 0,
              "ticks": ""
             }
            },
            "type": "scatter"
           }
          ],
          "scatter3d": [
           {
            "line": {
             "colorbar": {
              "outlinewidth": 0,
              "ticks": ""
             }
            },
            "marker": {
             "colorbar": {
              "outlinewidth": 0,
              "ticks": ""
             }
            },
            "type": "scatter3d"
           }
          ],
          "scattercarpet": [
           {
            "marker": {
             "colorbar": {
              "outlinewidth": 0,
              "ticks": ""
             }
            },
            "type": "scattercarpet"
           }
          ],
          "scattergeo": [
           {
            "marker": {
             "colorbar": {
              "outlinewidth": 0,
              "ticks": ""
             }
            },
            "type": "scattergeo"
           }
          ],
          "scattergl": [
           {
            "marker": {
             "colorbar": {
              "outlinewidth": 0,
              "ticks": ""
             }
            },
            "type": "scattergl"
           }
          ],
          "scattermapbox": [
           {
            "marker": {
             "colorbar": {
              "outlinewidth": 0,
              "ticks": ""
             }
            },
            "type": "scattermapbox"
           }
          ],
          "scatterpolar": [
           {
            "marker": {
             "colorbar": {
              "outlinewidth": 0,
              "ticks": ""
             }
            },
            "type": "scatterpolar"
           }
          ],
          "scatterpolargl": [
           {
            "marker": {
             "colorbar": {
              "outlinewidth": 0,
              "ticks": ""
             }
            },
            "type": "scatterpolargl"
           }
          ],
          "scatterternary": [
           {
            "marker": {
             "colorbar": {
              "outlinewidth": 0,
              "ticks": ""
             }
            },
            "type": "scatterternary"
           }
          ],
          "surface": [
           {
            "colorbar": {
             "outlinewidth": 0,
             "ticks": ""
            },
            "colorscale": [
             [
              0,
              "#0d0887"
             ],
             [
              0.1111111111111111,
              "#46039f"
             ],
             [
              0.2222222222222222,
              "#7201a8"
             ],
             [
              0.3333333333333333,
              "#9c179e"
             ],
             [
              0.4444444444444444,
              "#bd3786"
             ],
             [
              0.5555555555555556,
              "#d8576b"
             ],
             [
              0.6666666666666666,
              "#ed7953"
             ],
             [
              0.7777777777777778,
              "#fb9f3a"
             ],
             [
              0.8888888888888888,
              "#fdca26"
             ],
             [
              1,
              "#f0f921"
             ]
            ],
            "type": "surface"
           }
          ],
          "table": [
           {
            "cells": {
             "fill": {
              "color": "#EBF0F8"
             },
             "line": {
              "color": "white"
             }
            },
            "header": {
             "fill": {
              "color": "#C8D4E3"
             },
             "line": {
              "color": "white"
             }
            },
            "type": "table"
           }
          ]
         },
         "layout": {
          "annotationdefaults": {
           "arrowcolor": "#2a3f5f",
           "arrowhead": 0,
           "arrowwidth": 1
          },
          "coloraxis": {
           "colorbar": {
            "outlinewidth": 0,
            "ticks": ""
           }
          },
          "colorscale": {
           "diverging": [
            [
             0,
             "#8e0152"
            ],
            [
             0.1,
             "#c51b7d"
            ],
            [
             0.2,
             "#de77ae"
            ],
            [
             0.3,
             "#f1b6da"
            ],
            [
             0.4,
             "#fde0ef"
            ],
            [
             0.5,
             "#f7f7f7"
            ],
            [
             0.6,
             "#e6f5d0"
            ],
            [
             0.7,
             "#b8e186"
            ],
            [
             0.8,
             "#7fbc41"
            ],
            [
             0.9,
             "#4d9221"
            ],
            [
             1,
             "#276419"
            ]
           ],
           "sequential": [
            [
             0,
             "#0d0887"
            ],
            [
             0.1111111111111111,
             "#46039f"
            ],
            [
             0.2222222222222222,
             "#7201a8"
            ],
            [
             0.3333333333333333,
             "#9c179e"
            ],
            [
             0.4444444444444444,
             "#bd3786"
            ],
            [
             0.5555555555555556,
             "#d8576b"
            ],
            [
             0.6666666666666666,
             "#ed7953"
            ],
            [
             0.7777777777777778,
             "#fb9f3a"
            ],
            [
             0.8888888888888888,
             "#fdca26"
            ],
            [
             1,
             "#f0f921"
            ]
           ],
           "sequentialminus": [
            [
             0,
             "#0d0887"
            ],
            [
             0.1111111111111111,
             "#46039f"
            ],
            [
             0.2222222222222222,
             "#7201a8"
            ],
            [
             0.3333333333333333,
             "#9c179e"
            ],
            [
             0.4444444444444444,
             "#bd3786"
            ],
            [
             0.5555555555555556,
             "#d8576b"
            ],
            [
             0.6666666666666666,
             "#ed7953"
            ],
            [
             0.7777777777777778,
             "#fb9f3a"
            ],
            [
             0.8888888888888888,
             "#fdca26"
            ],
            [
             1,
             "#f0f921"
            ]
           ]
          },
          "colorway": [
           "#636efa",
           "#EF553B",
           "#00cc96",
           "#ab63fa",
           "#FFA15A",
           "#19d3f3",
           "#FF6692",
           "#B6E880",
           "#FF97FF",
           "#FECB52"
          ],
          "font": {
           "color": "#2a3f5f"
          },
          "geo": {
           "bgcolor": "white",
           "lakecolor": "white",
           "landcolor": "#E5ECF6",
           "showlakes": true,
           "showland": true,
           "subunitcolor": "white"
          },
          "hoverlabel": {
           "align": "left"
          },
          "hovermode": "closest",
          "mapbox": {
           "style": "light"
          },
          "paper_bgcolor": "white",
          "plot_bgcolor": "#E5ECF6",
          "polar": {
           "angularaxis": {
            "gridcolor": "white",
            "linecolor": "white",
            "ticks": ""
           },
           "bgcolor": "#E5ECF6",
           "radialaxis": {
            "gridcolor": "white",
            "linecolor": "white",
            "ticks": ""
           }
          },
          "scene": {
           "xaxis": {
            "backgroundcolor": "#E5ECF6",
            "gridcolor": "white",
            "gridwidth": 2,
            "linecolor": "white",
            "showbackground": true,
            "ticks": "",
            "zerolinecolor": "white"
           },
           "yaxis": {
            "backgroundcolor": "#E5ECF6",
            "gridcolor": "white",
            "gridwidth": 2,
            "linecolor": "white",
            "showbackground": true,
            "ticks": "",
            "zerolinecolor": "white"
           },
           "zaxis": {
            "backgroundcolor": "#E5ECF6",
            "gridcolor": "white",
            "gridwidth": 2,
            "linecolor": "white",
            "showbackground": true,
            "ticks": "",
            "zerolinecolor": "white"
           }
          },
          "shapedefaults": {
           "line": {
            "color": "#2a3f5f"
           }
          },
          "ternary": {
           "aaxis": {
            "gridcolor": "white",
            "linecolor": "white",
            "ticks": ""
           },
           "baxis": {
            "gridcolor": "white",
            "linecolor": "white",
            "ticks": ""
           },
           "bgcolor": "#E5ECF6",
           "caxis": {
            "gridcolor": "white",
            "linecolor": "white",
            "ticks": ""
           }
          },
          "title": {
           "x": 0.05
          },
          "xaxis": {
           "automargin": true,
           "gridcolor": "white",
           "linecolor": "white",
           "ticks": "",
           "title": {
            "standoff": 15
           },
           "zerolinecolor": "white",
           "zerolinewidth": 2
          },
          "yaxis": {
           "automargin": true,
           "gridcolor": "white",
           "linecolor": "white",
           "ticks": "",
           "title": {
            "standoff": 15
           },
           "zerolinecolor": "white",
           "zerolinewidth": 2
          }
         }
        },
        "title": {
         "text": "B-Spline basis"
        },
        "xaxis": {
         "autorange": true,
         "range": [
          -1.8584007187780778,
          2.1441150044923645
         ],
         "type": "linear"
        },
        "yaxis": {
         "autorange": true,
         "range": [
          -0.06328125,
          1.20234375
         ],
         "type": "linear"
        }
       }
      },
      "image/png": "[encoded data removed]"
     },
     "metadata": {},
     "output_type": "display_data"
    },
    {
     "name": "stdout",
     "output_type": "stream",
     "text": [
      "Test B_spline with random data!\n",
      "\n",
      "'x' from initialization is used for the spline basis!\n"
     ]
    },
    {
     "data": {
      "application/vnd.plotly.v1+json": {
       "config": {
        "plotlyServerURL": "https://plot.ly"
       },
       "data": [
        {
         "mode": "lines",
         "name": "BSpline 1",
         "type": "scatter",
         "x": [
          0.06892772352315024,
          0.09214167126066697,
          0.14539549743193414,
          0.16024211937982946,
          0.19206640773330197,
          0.21771121982464636,
          0.25032423913544777,
          0.256821618697186,
          0.26326451930463113,
          0.27015391334014327,
          0.2948931157997958,
          0.33927704901516065,
          0.3770312460729396,
          0.46984079468755147,
          0.47741043712374065,
          0.4858637414786099,
          0.5337362331116733,
          0.5852770581193977,
          0.7712076276602592,
          0.8103506880886343,
          0.8478732496076171,
          0.8659946461106585,
          0.9403578037045072,
          0.9578207498764802,
          0.9613299920146994
         ],
         "y": [
          0.17015137043208148,
          0.08037870437224558,
          0.00340190704111844,
          0.00037341516551147853,
          0,
          0,
          0,
          0,
          0,
          0,
          0,
          0,
          0,
          0,
          0,
          0,
          0,
          0,
          0,
          0,
          0,
          0,
          0,
          0,
          0
         ]
        },
        {
         "mode": "lines",
         "name": "BSpline 2",
         "type": "scatter",
         "x": [
          0.06892772352315024,
          0.09214167126066697,
          0.14539549743193414,
          0.16024211937982946,
          0.19206640773330197,
          0.21771121982464636,
          0.25032423913544777,
          0.256821618697186,
          0.26326451930463113,
          0.27015391334014327,
          0.2948931157997958,
          0.33927704901516065,
          0.3770312460729396,
          0.46984079468755147,
          0.47741043712374065,
          0.4858637414786099,
          0.5337362331116733,
          0.5852770581193977,
          0.7712076276602592,
          0.8103506880886343,
          0.8478732496076171,
          0.8659946461106585,
          0.9403578037045072,
          0.9578207498764802,
          0.9613299920146994
         ],
         "y": [
          0.653710160991253,
          0.6018916971170496,
          0.2870261321820681,
          0.19496800341739534,
          0.05846200172294952,
          0.012515350220918793,
          3.883599589410014e-05,
          0,
          0,
          0,
          0,
          0,
          0,
          0,
          0,
          0,
          0,
          0,
          0,
          0,
          0,
          0,
          0,
          0,
          0
         ]
        },
        {
         "mode": "lines",
         "name": "BSpline 3",
         "type": "scatter",
         "x": [
          0.06892772352315024,
          0.09214167126066697,
          0.14539549743193414,
          0.16024211937982946,
          0.19206640773330197,
          0.21771121982464636,
          0.25032423913544777,
          0.256821618697186,
          0.26326451930463113,
          0.27015391334014327,
          0.2948931157997958,
          0.33927704901516065,
          0.3770312460729396,
          0.46984079468755147,
          0.47741043712374065,
          0.4858637414786099,
          0.5337362331116733,
          0.5852770581193977,
          0.7712076276602592,
          0.8103506880886343,
          0.8478732496076171,
          0.8659946461106585,
          0.9403578037045072,
          0.9578207498764802,
          0.9613299920146994
         ],
         "y": [
          0.1761384685766654,
          0.3150582315046347,
          0.6140898760112694,
          0.6420646616489722,
          0.5480422058863339,
          0.3573381557733972,
          0.1135407330427645,
          0.07928331920980049,
          0.052759834663974756,
          0.031778186477747786,
          0.001236743469001151,
          0,
          0,
          0,
          0,
          0,
          0,
          0,
          0,
          0,
          0,
          0,
          0,
          0,
          0
         ]
        },
        {
         "mode": "lines",
         "name": "BSpline 4",
         "type": "scatter",
         "x": [
          0.06892772352315024,
          0.09214167126066697,
          0.14539549743193414,
          0.16024211937982946,
          0.19206640773330197,
          0.21771121982464636,
          0.25032423913544777,
          0.256821618697186,
          0.26326451930463113,
          0.27015391334014327,
          0.2948931157997958,
          0.33927704901516065,
          0.3770312460729396,
          0.46984079468755147,
          0.47741043712374065,
          0.4858637414786099,
          0.5337362331116733,
          0.5852770581193977,
          0.7712076276602592,
          0.8103506880886343,
          0.8478732496076171,
          0.8659946461106585,
          0.9403578037045072,
          0.9578207498764802,
          0.9613299920146994
         ],
         "y": [
          0,
          0.0026713670060702914,
          0.09548208476554394,
          0.16259391976812101,
          0.3916757620139604,
          0.604664427149338,
          0.7512342754962489,
          0.7480475287791524,
          0.7315546080773034,
          0.7013013226489417,
          0.5262714402962104,
          0.22679313874161672,
          0.08547656584152544,
          1.4260558725161376e-05,
          0,
          0,
          0,
          0,
          0,
          0,
          0,
          0,
          0,
          0,
          0
         ]
        },
        {
         "mode": "lines",
         "name": "BSpline 5",
         "type": "scatter",
         "x": [
          0.06892772352315024,
          0.09214167126066697,
          0.14539549743193414,
          0.16024211937982946,
          0.19206640773330197,
          0.21771121982464636,
          0.25032423913544777,
          0.256821618697186,
          0.26326451930463113,
          0.27015391334014327,
          0.2948931157997958,
          0.33927704901516065,
          0.3770312460729396,
          0.46984079468755147,
          0.47741043712374065,
          0.4858637414786099,
          0.5337362331116733,
          0.5852770581193977,
          0.7712076276602592,
          0.8103506880886343,
          0.8478732496076171,
          0.8659946461106585,
          0.9403578037045072,
          0.9578207498764802,
          0.9613299920146994
         ],
         "y": [
          0,
          0,
          0,
          0,
          0.0018200303767562564,
          0.02548206685634607,
          0.13518615546509258,
          0.1726689538300243,
          0.21558630555456568,
          0.26620179529240356,
          0.4577915541960681,
          0.6416160478442057,
          0.6010757563061088,
          0.19350231078471528,
          0.16421568809533563,
          0.13514359606117035,
          0.03220595758563576,
          0.0012667836293302635,
          0,
          0,
          0,
          0,
          0,
          0,
          0
         ]
        },
        {
         "mode": "lines",
         "name": "BSpline 6",
         "type": "scatter",
         "x": [
          0.06892772352315024,
          0.09214167126066697,
          0.14539549743193414,
          0.16024211937982946,
          0.19206640773330197,
          0.21771121982464636,
          0.25032423913544777,
          0.256821618697186,
          0.26326451930463113,
          0.27015391334014327,
          0.2948931157997958,
          0.33927704901516065,
          0.3770312460729396,
          0.46984079468755147,
          0.47741043712374065,
          0.4858637414786099,
          0.5337362331116733,
          0.5852770581193977,
          0.7712076276602592,
          0.8103506880886343,
          0.8478732496076171,
          0.8659946461106585,
          0.9403578037045072,
          0.9578207498764802,
          0.9613299920146994
         ],
         "y": [
          0,
          0,
          0,
          0,
          0,
          0,
          0,
          1.9818102290134385e-07,
          9.925170415616219e-05,
          0.0007186955809071732,
          0.014700262038720447,
          0.13045658882545358,
          0.30152005240197793,
          0.6543961614905653,
          0.6614055023196836,
          0.6632569394421467,
          0.5788258687377721,
          0.38826368786361426,
          0.012682049175771275,
          0.0021121267542130923,
          2.136891510171574e-05,
          0,
          0,
          0,
          0
         ]
        },
        {
         "mode": "lines",
         "name": "BSpline 7",
         "type": "scatter",
         "x": [
          0.06892772352315024,
          0.09214167126066697,
          0.14539549743193414,
          0.16024211937982946,
          0.19206640773330197,
          0.21771121982464636,
          0.25032423913544777,
          0.256821618697186,
          0.26326451930463113,
          0.27015391334014327,
          0.2948931157997958,
          0.33927704901516065,
          0.3770312460729396,
          0.46984079468755147,
          0.47741043712374065,
          0.4858637414786099,
          0.5337362331116733,
          0.5852770581193977,
          0.7712076276602592,
          0.8103506880886343,
          0.8478732496076171,
          0.8659946461106585,
          0.9403578037045072,
          0.9578207498764802,
          0.9613299920146994
         ],
         "y": [
          0,
          0,
          0,
          0,
          0,
          0,
          0,
          0,
          0,
          0,
          0,
          0.001134224588724088,
          0.01192762545038785,
          0.15208726716599422,
          0.17437841174026686,
          0.2015524121118036,
          0.38109945144130064,
          0.5580832462391897,
          0.31194720773870366,
          0.1830971623766719,
          0.08324777514762818,
          0.049470904236519966,
          0.0005266465632015598,
          2.4673344095651898e-06,
          0
         ]
        },
        {
         "mode": "lines",
         "name": "BSpline 8",
         "type": "scatter",
         "x": [
          0.06892772352315024,
          0.09214167126066697,
          0.14539549743193414,
          0.16024211937982946,
          0.19206640773330197,
          0.21771121982464636,
          0.25032423913544777,
          0.256821618697186,
          0.26326451930463113,
          0.27015391334014327,
          0.2948931157997958,
          0.33927704901516065,
          0.3770312460729396,
          0.46984079468755147,
          0.47741043712374065,
          0.4858637414786099,
          0.5337362331116733,
          0.5852770581193977,
          0.7712076276602592,
          0.8103506880886343,
          0.8478732496076171,
          0.8659946461106585,
          0.9403578037045072,
          0.9578207498764802,
          0.9613299920146994
         ],
         "y": [
          0,
          0,
          0,
          0,
          0,
          0,
          0,
          0,
          0,
          0,
          0,
          0,
          0,
          0,
          3.9784471401135826e-07,
          4.705238487929645e-05,
          0.007868722235291479,
          0.05238628226786573,
          0.5715115531434047,
          0.6140691694443066,
          0.5793189818900096,
          0.5293738679069546,
          0.19549546681746968,
          0.12591776281225256,
          0.11390105443828082
         ]
        },
        {
         "mode": "lines",
         "name": "BSpline 9",
         "type": "scatter",
         "x": [
          0.06892772352315024,
          0.09214167126066697,
          0.14539549743193414,
          0.16024211937982946,
          0.19206640773330197,
          0.21771121982464636,
          0.25032423913544777,
          0.256821618697186,
          0.26326451930463113,
          0.27015391334014327,
          0.2948931157997958,
          0.33927704901516065,
          0.3770312460729396,
          0.46984079468755147,
          0.47741043712374065,
          0.4858637414786099,
          0.5337362331116733,
          0.5852770581193977,
          0.7712076276602592,
          0.8103506880886343,
          0.8478732496076171,
          0.8659946461106585,
          0.9403578037045072,
          0.9578207498764802,
          0.9613299920146994
         ],
         "y": [
          0,
          0,
          0,
          0,
          0,
          0,
          0,
          0,
          0,
          0,
          0,
          0,
          0,
          0,
          0,
          0,
          0,
          0,
          0.10385918994212039,
          0.2007215414248085,
          0.3374118740472605,
          0.421083992364878,
          0.7197319700450844,
          0.7238587852666554,
          0.7194322788950525
         ]
        },
        {
         "mode": "lines",
         "name": "BSpline 10",
         "type": "scatter",
         "x": [
          0.06892772352315024,
          0.09214167126066697,
          0.14539549743193414,
          0.16024211937982946,
          0.19206640773330197,
          0.21771121982464636,
          0.25032423913544777,
          0.256821618697186,
          0.26326451930463113,
          0.27015391334014327,
          0.2948931157997958,
          0.33927704901516065,
          0.3770312460729396,
          0.46984079468755147,
          0.47741043712374065,
          0.4858637414786099,
          0.5337362331116733,
          0.5852770581193977,
          0.7712076276602592,
          0.8103506880886343,
          0.8478732496076171,
          0.8659946461106585,
          0.9403578037045072,
          0.9578207498764802,
          0.9613299920146994
         ],
         "y": [
          0,
          0,
          0,
          0,
          0,
          0,
          0,
          0,
          0,
          0,
          0,
          0,
          0,
          0,
          0,
          0,
          0,
          0,
          0,
          0,
          0,
          7.123549164727357e-05,
          0.0842459165742443,
          0.15022098458668243,
          0.16666666666666666
         ]
        }
       ],
       "layout": {
        "autosize": true,
        "shapes": [
         {
          "line": {
           "color": "LightSeaGreen",
           "width": 1
          },
          "type": "line",
          "x0": -0.24037725255002584,
          "x1": -0.24037725255002584,
          "y0": 0,
          "y1": 1.2
         },
         {
          "line": {
           "color": "LightSeaGreen",
           "width": 1
          },
          "type": "line",
          "x0": -0.13727559385896715,
          "x1": -0.13727559385896715,
          "y0": 0,
          "y1": 1.2
         },
         {
          "line": {
           "color": "LightSeaGreen",
           "width": 1
          },
          "type": "line",
          "x0": -0.034173935167908454,
          "x1": -0.034173935167908454,
          "y0": 0,
          "y1": 1.2
         },
         {
          "line": {
           "color": "LightSeaGreen",
           "width": 1
          },
          "type": "line",
          "x0": 0.06892772352315024,
          "x1": 0.06892772352315024,
          "y0": 0,
          "y1": 1.2
         },
         {
          "line": {
           "color": "LightSeaGreen",
           "width": 1
          },
          "type": "line",
          "x0": 0.17388110010274624,
          "x1": 0.17388110010274624,
          "y0": 0,
          "y1": 1.2
         },
         {
          "line": {
           "color": "LightSeaGreen",
           "width": 1
          },
          "type": "line",
          "x0": 0.2558934216169377,
          "x1": 0.2558934216169377,
          "y0": 0,
          "y1": 1.2
         },
         {
          "line": {
           "color": "LightSeaGreen",
           "width": 1
          },
          "type": "line",
          "x0": 0.3075742395756143,
          "x1": 0.3075742395756143,
          "y0": 0,
          "y1": 1.2
         },
         {
          "line": {
           "color": "LightSeaGreen",
           "width": 1
          },
          "type": "line",
          "x0": 0.4752476821419723,
          "x1": 0.4752476821419723,
          "y0": 0,
          "y1": 1.2
         },
         {
          "line": {
           "color": "LightSeaGreen",
           "width": 1
          },
          "type": "line",
          "x0": 0.6118385680538058,
          "x1": 0.6118385680538058,
          "y0": 0,
          "y1": 1.2
         },
         {
          "line": {
           "color": "LightSeaGreen",
           "width": 1
          },
          "type": "line",
          "x0": 0.8582283333236407,
          "x1": 0.8582283333236407,
          "y0": 0,
          "y1": 1.2
         },
         {
          "line": {
           "color": "LightSeaGreen",
           "width": 1
          },
          "type": "line",
          "x0": 0.9613299920146994,
          "x1": 0.9613299920146994,
          "y0": 0,
          "y1": 1.2
         },
         {
          "line": {
           "color": "LightSeaGreen",
           "width": 1
          },
          "type": "line",
          "x0": 1.064431650705758,
          "x1": 1.064431650705758,
          "y0": 0,
          "y1": 1.2
         },
         {
          "line": {
           "color": "LightSeaGreen",
           "width": 1
          },
          "type": "line",
          "x0": 1.1675333093968168,
          "x1": 1.1675333093968168,
          "y0": 0,
          "y1": 1.2
         },
         {
          "line": {
           "color": "LightSeaGreen",
           "width": 1
          },
          "type": "line",
          "x0": 1.2706349680878755,
          "x1": 1.2706349680878755,
          "y0": 0,
          "y1": 1.2
         },
         {
          "line": {
           "color": "LightSeaGreen",
           "width": 1
          },
          "type": "line",
          "x0": 1.3737366267789342,
          "x1": 1.3737366267789342,
          "y0": 0,
          "y1": 1.2
         }
        ],
        "template": {
         "data": {
          "bar": [
           {
            "error_x": {
             "color": "#2a3f5f"
            },
            "error_y": {
             "color": "#2a3f5f"
            },
            "marker": {
             "line": {
              "color": "#E5ECF6",
              "width": 0.5
             }
            },
            "type": "bar"
           }
          ],
          "barpolar": [
           {
            "marker": {
             "line": {
              "color": "#E5ECF6",
              "width": 0.5
             }
            },
            "type": "barpolar"
           }
          ],
          "carpet": [
           {
            "aaxis": {
             "endlinecolor": "#2a3f5f",
             "gridcolor": "white",
             "linecolor": "white",
             "minorgridcolor": "white",
             "startlinecolor": "#2a3f5f"
            },
            "baxis": {
             "endlinecolor": "#2a3f5f",
             "gridcolor": "white",
             "linecolor": "white",
             "minorgridcolor": "white",
             "startlinecolor": "#2a3f5f"
            },
            "type": "carpet"
           }
          ],
          "choropleth": [
           {
            "colorbar": {
             "outlinewidth": 0,
             "ticks": ""
            },
            "type": "choropleth"
           }
          ],
          "contour": [
           {
            "colorbar": {
             "outlinewidth": 0,
             "ticks": ""
            },
            "colorscale": [
             [
              0,
              "#0d0887"
             ],
             [
              0.1111111111111111,
              "#46039f"
             ],
             [
              0.2222222222222222,
              "#7201a8"
             ],
             [
              0.3333333333333333,
              "#9c179e"
             ],
             [
              0.4444444444444444,
              "#bd3786"
             ],
             [
              0.5555555555555556,
              "#d8576b"
             ],
             [
              0.6666666666666666,
              "#ed7953"
             ],
             [
              0.7777777777777778,
              "#fb9f3a"
             ],
             [
              0.8888888888888888,
              "#fdca26"
             ],
             [
              1,
              "#f0f921"
             ]
            ],
            "type": "contour"
           }
          ],
          "contourcarpet": [
           {
            "colorbar": {
             "outlinewidth": 0,
             "ticks": ""
            },
            "type": "contourcarpet"
           }
          ],
          "heatmap": [
           {
            "colorbar": {
             "outlinewidth": 0,
             "ticks": ""
            },
            "colorscale": [
             [
              0,
              "#0d0887"
             ],
             [
              0.1111111111111111,
              "#46039f"
             ],
             [
              0.2222222222222222,
              "#7201a8"
             ],
             [
              0.3333333333333333,
              "#9c179e"
             ],
             [
              0.4444444444444444,
              "#bd3786"
             ],
             [
              0.5555555555555556,
              "#d8576b"
             ],
             [
              0.6666666666666666,
              "#ed7953"
             ],
             [
              0.7777777777777778,
              "#fb9f3a"
             ],
             [
              0.8888888888888888,
              "#fdca26"
             ],
             [
              1,
              "#f0f921"
             ]
            ],
            "type": "heatmap"
           }
          ],
          "heatmapgl": [
           {
            "colorbar": {
             "outlinewidth": 0,
             "ticks": ""
            },
            "colorscale": [
             [
              0,
              "#0d0887"
             ],
             [
              0.1111111111111111,
              "#46039f"
             ],
             [
              0.2222222222222222,
              "#7201a8"
             ],
             [
              0.3333333333333333,
              "#9c179e"
             ],
             [
              0.4444444444444444,
              "#bd3786"
             ],
             [
              0.5555555555555556,
              "#d8576b"
             ],
             [
              0.6666666666666666,
              "#ed7953"
             ],
             [
              0.7777777777777778,
              "#fb9f3a"
             ],
             [
              0.8888888888888888,
              "#fdca26"
             ],
             [
              1,
              "#f0f921"
             ]
            ],
            "type": "heatmapgl"
           }
          ],
          "histogram": [
           {
            "marker": {
             "colorbar": {
              "outlinewidth": 0,
              "ticks": ""
             }
            },
            "type": "histogram"
           }
          ],
          "histogram2d": [
           {
            "colorbar": {
             "outlinewidth": 0,
             "ticks": ""
            },
            "colorscale": [
             [
              0,
              "#0d0887"
             ],
             [
              0.1111111111111111,
              "#46039f"
             ],
             [
              0.2222222222222222,
              "#7201a8"
             ],
             [
              0.3333333333333333,
              "#9c179e"
             ],
             [
              0.4444444444444444,
              "#bd3786"
             ],
             [
              0.5555555555555556,
              "#d8576b"
             ],
             [
              0.6666666666666666,
              "#ed7953"
             ],
             [
              0.7777777777777778,
              "#fb9f3a"
             ],
             [
              0.8888888888888888,
              "#fdca26"
             ],
             [
              1,
              "#f0f921"
             ]
            ],
            "type": "histogram2d"
           }
          ],
          "histogram2dcontour": [
           {
            "colorbar": {
             "outlinewidth": 0,
             "ticks": ""
            },
            "colorscale": [
             [
              0,
              "#0d0887"
             ],
             [
              0.1111111111111111,
              "#46039f"
             ],
             [
              0.2222222222222222,
              "#7201a8"
             ],
             [
              0.3333333333333333,
              "#9c179e"
             ],
             [
              0.4444444444444444,
              "#bd3786"
             ],
             [
              0.5555555555555556,
              "#d8576b"
             ],
             [
              0.6666666666666666,
              "#ed7953"
             ],
             [
              0.7777777777777778,
              "#fb9f3a"
             ],
             [
              0.8888888888888888,
              "#fdca26"
             ],
             [
              1,
              "#f0f921"
             ]
            ],
            "type": "histogram2dcontour"
           }
          ],
          "mesh3d": [
           {
            "colorbar": {
             "outlinewidth": 0,
             "ticks": ""
            },
            "type": "mesh3d"
           }
          ],
          "parcoords": [
           {
            "line": {
             "colorbar": {
              "outlinewidth": 0,
              "ticks": ""
             }
            },
            "type": "parcoords"
           }
          ],
          "pie": [
           {
            "automargin": true,
            "type": "pie"
           }
          ],
          "scatter": [
           {
            "marker": {
             "colorbar": {
              "outlinewidth": 0,
              "ticks": ""
             }
            },
            "type": "scatter"
           }
          ],
          "scatter3d": [
           {
            "line": {
             "colorbar": {
              "outlinewidth": 0,
              "ticks": ""
             }
            },
            "marker": {
             "colorbar": {
              "outlinewidth": 0,
              "ticks": ""
             }
            },
            "type": "scatter3d"
           }
          ],
          "scattercarpet": [
           {
            "marker": {
             "colorbar": {
              "outlinewidth": 0,
              "ticks": ""
             }
            },
            "type": "scattercarpet"
           }
          ],
          "scattergeo": [
           {
            "marker": {
             "colorbar": {
              "outlinewidth": 0,
              "ticks": ""
             }
            },
            "type": "scattergeo"
           }
          ],
          "scattergl": [
           {
            "marker": {
             "colorbar": {
              "outlinewidth": 0,
              "ticks": ""
             }
            },
            "type": "scattergl"
           }
          ],
          "scattermapbox": [
           {
            "marker": {
             "colorbar": {
              "outlinewidth": 0,
              "ticks": ""
             }
            },
            "type": "scattermapbox"
           }
          ],
          "scatterpolar": [
           {
            "marker": {
             "colorbar": {
              "outlinewidth": 0,
              "ticks": ""
             }
            },
            "type": "scatterpolar"
           }
          ],
          "scatterpolargl": [
           {
            "marker": {
             "colorbar": {
              "outlinewidth": 0,
              "ticks": ""
             }
            },
            "type": "scatterpolargl"
           }
          ],
          "scatterternary": [
           {
            "marker": {
             "colorbar": {
              "outlinewidth": 0,
              "ticks": ""
             }
            },
            "type": "scatterternary"
           }
          ],
          "surface": [
           {
            "colorbar": {
             "outlinewidth": 0,
             "ticks": ""
            },
            "colorscale": [
             [
              0,
              "#0d0887"
             ],
             [
              0.1111111111111111,
              "#46039f"
             ],
             [
              0.2222222222222222,
              "#7201a8"
             ],
             [
              0.3333333333333333,
              "#9c179e"
             ],
             [
              0.4444444444444444,
              "#bd3786"
             ],
             [
              0.5555555555555556,
              "#d8576b"
             ],
             [
              0.6666666666666666,
              "#ed7953"
             ],
             [
              0.7777777777777778,
              "#fb9f3a"
             ],
             [
              0.8888888888888888,
              "#fdca26"
             ],
             [
              1,
              "#f0f921"
             ]
            ],
            "type": "surface"
           }
          ],
          "table": [
           {
            "cells": {
             "fill": {
              "color": "#EBF0F8"
             },
             "line": {
              "color": "white"
             }
            },
            "header": {
             "fill": {
              "color": "#C8D4E3"
             },
             "line": {
              "color": "white"
             }
            },
            "type": "table"
           }
          ]
         },
         "layout": {
          "annotationdefaults": {
           "arrowcolor": "#2a3f5f",
           "arrowhead": 0,
           "arrowwidth": 1
          },
          "coloraxis": {
           "colorbar": {
            "outlinewidth": 0,
            "ticks": ""
           }
          },
          "colorscale": {
           "diverging": [
            [
             0,
             "#8e0152"
            ],
            [
             0.1,
             "#c51b7d"
            ],
            [
             0.2,
             "#de77ae"
            ],
            [
             0.3,
             "#f1b6da"
            ],
            [
             0.4,
             "#fde0ef"
            ],
            [
             0.5,
             "#f7f7f7"
            ],
            [
             0.6,
             "#e6f5d0"
            ],
            [
             0.7,
             "#b8e186"
            ],
            [
             0.8,
             "#7fbc41"
            ],
            [
             0.9,
             "#4d9221"
            ],
            [
             1,
             "#276419"
            ]
           ],
           "sequential": [
            [
             0,
             "#0d0887"
            ],
            [
             0.1111111111111111,
             "#46039f"
            ],
            [
             0.2222222222222222,
             "#7201a8"
            ],
            [
             0.3333333333333333,
             "#9c179e"
            ],
            [
             0.4444444444444444,
             "#bd3786"
            ],
            [
             0.5555555555555556,
             "#d8576b"
            ],
            [
             0.6666666666666666,
             "#ed7953"
            ],
            [
             0.7777777777777778,
             "#fb9f3a"
            ],
            [
             0.8888888888888888,
             "#fdca26"
            ],
            [
             1,
             "#f0f921"
            ]
           ],
           "sequentialminus": [
            [
             0,
             "#0d0887"
            ],
            [
             0.1111111111111111,
             "#46039f"
            ],
            [
             0.2222222222222222,
             "#7201a8"
            ],
            [
             0.3333333333333333,
             "#9c179e"
            ],
            [
             0.4444444444444444,
             "#bd3786"
            ],
            [
             0.5555555555555556,
             "#d8576b"
            ],
            [
             0.6666666666666666,
             "#ed7953"
            ],
            [
             0.7777777777777778,
             "#fb9f3a"
            ],
            [
             0.8888888888888888,
             "#fdca26"
            ],
            [
             1,
             "#f0f921"
            ]
           ]
          },
          "colorway": [
           "#636efa",
           "#EF553B",
           "#00cc96",
           "#ab63fa",
           "#FFA15A",
           "#19d3f3",
           "#FF6692",
           "#B6E880",
           "#FF97FF",
           "#FECB52"
          ],
          "font": {
           "color": "#2a3f5f"
          },
          "geo": {
           "bgcolor": "white",
           "lakecolor": "white",
           "landcolor": "#E5ECF6",
           "showlakes": true,
           "showland": true,
           "subunitcolor": "white"
          },
          "hoverlabel": {
           "align": "left"
          },
          "hovermode": "closest",
          "mapbox": {
           "style": "light"
          },
          "paper_bgcolor": "white",
          "plot_bgcolor": "#E5ECF6",
          "polar": {
           "angularaxis": {
            "gridcolor": "white",
            "linecolor": "white",
            "ticks": ""
           },
           "bgcolor": "#E5ECF6",
           "radialaxis": {
            "gridcolor": "white",
            "linecolor": "white",
            "ticks": ""
           }
          },
          "scene": {
           "xaxis": {
            "backgroundcolor": "#E5ECF6",
            "gridcolor": "white",
            "gridwidth": 2,
            "linecolor": "white",
            "showbackground": true,
            "ticks": "",
            "zerolinecolor": "white"
           },
           "yaxis": {
            "backgroundcolor": "#E5ECF6",
            "gridcolor": "white",
            "gridwidth": 2,
            "linecolor": "white",
            "showbackground": true,
            "ticks": "",
            "zerolinecolor": "white"
           },
           "zaxis": {
            "backgroundcolor": "#E5ECF6",
            "gridcolor": "white",
            "gridwidth": 2,
            "linecolor": "white",
            "showbackground": true,
            "ticks": "",
            "zerolinecolor": "white"
           }
          },
          "shapedefaults": {
           "line": {
            "color": "#2a3f5f"
           }
          },
          "ternary": {
           "aaxis": {
            "gridcolor": "white",
            "linecolor": "white",
            "ticks": ""
           },
           "baxis": {
            "gridcolor": "white",
            "linecolor": "white",
            "ticks": ""
           },
           "bgcolor": "#E5ECF6",
           "caxis": {
            "gridcolor": "white",
            "linecolor": "white",
            "ticks": ""
           }
          },
          "title": {
           "x": 0.05
          },
          "xaxis": {
           "automargin": true,
           "gridcolor": "white",
           "linecolor": "white",
           "ticks": "",
           "title": {
            "standoff": 15
           },
           "zerolinecolor": "white",
           "zerolinewidth": 2
          },
          "yaxis": {
           "automargin": true,
           "gridcolor": "white",
           "linecolor": "white",
           "ticks": "",
           "title": {
            "standoff": 15
           },
           "zerolinecolor": "white",
           "zerolinewidth": 2
          }
         }
        },
        "title": {
         "text": "B-Spline basis"
        },
        "xaxis": {
         "autorange": true,
         "range": [
          -0.2408848355309469,
          1.3742442097598553
         ],
         "type": "linear"
        },
        "yaxis": {
         "autorange": true,
         "range": [
          -0.06328125,
          1.20234375
         ],
         "type": "linear"
        }
       }
      },
      "image/png": "[encoded data removed]"
     },
     "metadata": {},
     "output_type": "display_data"
    },
    {
     "name": "stdout",
     "output_type": "stream",
     "text": [
      "Test B_spline with logspace data!\n",
      "\n",
      "'x' from initialization is used for the spline basis!\n"
     ]
    },
    {
     "data": {
      "application/vnd.plotly.v1+json": {
       "config": {
        "plotlyServerURL": "https://plot.ly"
       },
       "data": [
        {
         "mode": "lines",
         "name": "BSpline 1",
         "type": "scatter",
         "visible": true,
         "x": [
          10,
          14.677992676220706,
          21.544346900318846,
          31.622776601683793,
          46.41588833612782,
          68.12920690579615,
          100,
          146.77992676220705,
          215.44346900318845,
          316.22776601683796,
          464.1588833612782,
          681.2920690579615,
          1000,
          1467.7992676220706,
          2154.4346900318847,
          3162.2776601683795,
          4641.588833612782,
          6812.920690579615,
          10000,
          14677.992676220705,
          21544.346900318822,
          31622.776601683792,
          46415.88833612782,
          68129.20690579608,
          100000
         ],
         "y": [
          7.39349012980495e-08,
          4.268982414376326e-08,
          1.496581457930955e-08,
          8.617103316152954e-10,
          0,
          0,
          0,
          0,
          0,
          0,
          0,
          0,
          0,
          0,
          0,
          0,
          0,
          0,
          0,
          0,
          0,
          0,
          0,
          0,
          0
         ]
        },
        {
         "mode": "lines",
         "name": "BSpline 2",
         "type": "scatter",
         "visible": true,
         "x": [
          10,
          14.677992676220706,
          21.544346900318846,
          31.622776601683793,
          46.41588833612782,
          68.12920690579615,
          100,
          146.77992676220705,
          215.44346900318845,
          316.22776601683796,
          464.1588833612782,
          681.2920690579615,
          1000,
          1467.7992676220706,
          2154.4346900318847,
          3162.2776601683795,
          4641.588833612782,
          6812.920690579615,
          10000,
          14677.992676220705,
          21544.346900318822,
          31622.776601683792,
          46415.88833612782,
          68129.20690579608,
          100000
         ],
         "y": [
          0.0021701345733958046,
          0.00197791072655234,
          0.0017005640441030696,
          0.0013177901736943865,
          0.0008496250684907069,
          0.00038519984400043776,
          6.662056952170305e-05,
          0,
          0,
          0,
          0,
          0,
          0,
          0,
          0,
          0,
          0,
          0,
          0,
          0,
          0,
          0,
          0,
          0,
          0
         ]
        },
        {
         "mode": "lines",
         "name": "BSpline 3",
         "type": "scatter",
         "visible": true,
         "x": [
          10,
          14.677992676220706,
          21.544346900318846,
          31.622776601683793,
          46.41588833612782,
          68.12920690579615,
          100,
          146.77992676220705,
          215.44346900318845,
          316.22776601683796,
          464.1588833612782,
          681.2920690579615,
          1000,
          1467.7992676220706,
          2154.4346900318847,
          3162.2776601683795,
          4641.588833612782,
          6812.920690579615,
          10000,
          14677.992676220705,
          21544.346900318822,
          31622.776601683792,
          46415.88833612782,
          68129.20690579608,
          100000
         ],
         "y": [
          0.9978297914917029,
          0.9979675314824311,
          0.9974801146500138,
          0.9932986113249864,
          0.9738671266367483,
          0.9147050573474558,
          0.7829542923585682,
          0.561315560065775,
          0.3083930914137307,
          0.09513126848989123,
          0.002453754846297609,
          0,
          0,
          0,
          0,
          0,
          0,
          0,
          0,
          0,
          0,
          0,
          0,
          0,
          0
         ]
        },
        {
         "mode": "lines",
         "name": "BSpline 4",
         "type": "scatter",
         "visible": true,
         "x": [
          10,
          14.677992676220706,
          21.544346900318846,
          31.622776601683793,
          46.41588833612782,
          68.12920690579615,
          100,
          146.77992676220705,
          215.44346900318845,
          316.22776601683796,
          464.1588833612782,
          681.2920690579615,
          1000,
          1467.7992676220706,
          2154.4346900318847,
          3162.2776601683795,
          4641.588833612782,
          6812.920690579615,
          10000,
          14677.992676220705,
          21544.346900318822,
          31622.776601683792,
          46415.88833612782,
          68129.20690579608,
          100000
         ],
         "y": [
          0,
          5.451510119248339e-05,
          0.000819306340068353,
          0.005383597639608805,
          0.025276940213771512,
          0.08462305537234859,
          0.21448568770945323,
          0.42523229297296783,
          0.6391898683254094,
          0.7560633361944217,
          0.6637385797108195,
          0.41646147076986473,
          0.17598781885359166,
          0.02359588985844305,
          0,
          0,
          0,
          0,
          0,
          0,
          0,
          0,
          0,
          0,
          0
         ]
        },
        {
         "mode": "lines",
         "name": "BSpline 5",
         "type": "scatter",
         "visible": true,
         "x": [
          10,
          14.677992676220706,
          21.544346900318846,
          31.622776601683793,
          46.41588833612782,
          68.12920690579615,
          100,
          146.77992676220705,
          215.44346900318845,
          316.22776601683796,
          464.1588833612782,
          681.2920690579615,
          1000,
          1467.7992676220706,
          2154.4346900318847,
          3162.2776601683795,
          4641.588833612782,
          6812.920690579615,
          10000,
          14677.992676220705,
          21544.346900318822,
          31622.776601683792,
          46415.88833612782,
          68129.20690579608,
          100000
         ],
         "y": [
          0,
          0,
          0,
          0,
          6.308080989505237e-06,
          0.0002866874361953426,
          0.0024933993624569,
          0.013452087315623992,
          0.05233155691963738,
          0.14771345414970455,
          0.3270065884271649,
          0.5528614906422782,
          0.7254751177037132,
          0.73262397688923,
          0.5240468818488224,
          0.27125706881228945,
          0.07101325182619195,
          0.0003698518004272989,
          0,
          0,
          0,
          0,
          0,
          0,
          0
         ]
        },
        {
         "mode": "lines",
         "name": "BSpline 6",
         "type": "scatter",
         "visible": true,
         "x": [
          10,
          14.677992676220706,
          21.544346900318846,
          31.622776601683793,
          46.41588833612782,
          68.12920690579615,
          100,
          146.77992676220705,
          215.44346900318845,
          316.22776601683796,
          464.1588833612782,
          681.2920690579615,
          1000,
          1467.7992676220706,
          2154.4346900318847,
          3162.2776601683795,
          4641.588833612782,
          6812.920690579615,
          10000,
          14677.992676220705,
          21544.346900318822,
          31622.776601683792,
          46415.88833612782,
          68129.20690579608,
          100000
         ],
         "y": [
          0,
          0,
          0,
          0,
          0,
          0,
          0,
          5.964563305775435e-08,
          8.548334122251297e-05,
          0.0010919411659825633,
          0.006801077015717979,
          0.030662608188899824,
          0.09812565099636483,
          0.24055099672169136,
          0.45929533912723053,
          0.6669461165458911,
          0.7596367271537708,
          0.6322067505779674,
          0.3810149577590024,
          0.14800802433512972,
          0.014047803251848309,
          0,
          0,
          0,
          0
         ]
        },
        {
         "mode": "lines",
         "name": "BSpline 7",
         "type": "scatter",
         "visible": true,
         "x": [
          10,
          14.677992676220706,
          21.544346900318846,
          31.622776601683793,
          46.41588833612782,
          68.12920690579615,
          100,
          146.77992676220705,
          215.44346900318845,
          316.22776601683796,
          464.1588833612782,
          681.2920690579615,
          1000,
          1467.7992676220706,
          2154.4346900318847,
          3162.2776601683795,
          4641.588833612782,
          6812.920690579615,
          10000,
          14677.992676220705,
          21544.346900318822,
          31622.776601683792,
          46415.88833612782,
          68129.20690579608,
          100000
         ],
         "y": [
          0,
          0,
          0,
          0,
          0,
          0,
          0,
          0,
          0,
          0,
          0,
          1.4430398957003651e-05,
          0.000411412446330184,
          0.0032291365306353274,
          0.016657206786661403,
          0.06166453053602275,
          0.16788573237400825,
          0.35875217860033565,
          0.5816372725613832,
          0.7372619506480567,
          0.7114444225491541,
          0.4837053972637328,
          0.23278481920892127,
          0.04898071966815637,
          0
         ]
        },
        {
         "mode": "lines",
         "name": "BSpline 8",
         "type": "scatter",
         "visible": true,
         "x": [
          10,
          14.677992676220706,
          21.544346900318846,
          31.622776601683793,
          46.41588833612782,
          68.12920690579615,
          100,
          146.77992676220705,
          215.44346900318845,
          316.22776601683796,
          464.1588833612782,
          681.2920690579615,
          1000,
          1467.7992676220706,
          2154.4346900318847,
          3162.2776601683795,
          4641.588833612782,
          6812.920690579615,
          10000,
          14677.992676220705,
          21544.346900318822,
          31622.776601683792,
          46415.88833612782,
          68129.20690579608,
          100000
         ],
         "y": [
          0,
          0,
          0,
          0,
          0,
          0,
          0,
          0,
          0,
          0,
          0,
          0,
          0,
          0,
          5.722372855209563e-07,
          0.0001322841057963606,
          0.0014642886460289773,
          0.008671219021269643,
          0.037281440386064936,
          0.1134063475378378,
          0.26504107595461085,
          0.4696740490789155,
          0.6049811767819594,
          0.5388758828346429,
          0.21972218795951448
         ]
        },
        {
         "mode": "lines",
         "name": "BSpline 9",
         "type": "scatter",
         "visible": true,
         "x": [
          10,
          14.677992676220706,
          21.544346900318846,
          31.622776601683793,
          46.41588833612782,
          68.12920690579615,
          100,
          146.77992676220705,
          215.44346900318845,
          316.22776601683796,
          464.1588833612782,
          681.2920690579615,
          1000,
          1467.7992676220706,
          2154.4346900318847,
          3162.2776601683795,
          4641.588833612782,
          6812.920690579615,
          10000,
          14677.992676220705,
          21544.346900318822,
          31622.776601683792,
          46415.88833612782,
          68129.20690579608,
          100000
         ],
         "y": [
          0,
          0,
          0,
          0,
          0,
          0,
          0,
          0,
          0,
          0,
          0,
          0,
          0,
          0,
          0,
          0,
          0,
          0,
          6.632929354932307e-05,
          0.0013236774789758038,
          0.009466698244386739,
          0.04658559493140681,
          0.15920530817868614,
          0.38262382329679867,
          0.6136111453738189
         ]
        },
        {
         "mode": "lines",
         "name": "BSpline 10",
         "type": "scatter",
         "visible": true,
         "x": [
          10,
          14.677992676220706,
          21.544346900318846,
          31.622776601683793,
          46.41588833612782,
          68.12920690579615,
          100,
          146.77992676220705,
          215.44346900318845,
          316.22776601683796,
          464.1588833612782,
          681.2920690579615,
          1000,
          1467.7992676220706,
          2154.4346900318847,
          3162.2776601683795,
          4641.588833612782,
          6812.920690579615,
          10000,
          14677.992676220705,
          21544.346900318822,
          31622.776601683792,
          46415.88833612782,
          68129.20690579608,
          100000
         ],
         "y": [
          0,
          0,
          0,
          0,
          0,
          0,
          0,
          0,
          0,
          0,
          0,
          0,
          0,
          0,
          0,
          0,
          0,
          0,
          0,
          0,
          0,
          3.4958725945236995e-05,
          0.003028695830433283,
          0.02951957420040218,
          0.16666666666666666
         ]
        }
       ],
       "layout": {
        "autosize": true,
        "shapes": [
         {
          "line": {
           "color": "LightSeaGreen",
           "width": 1
          },
          "type": "line",
          "x0": -218079.65123956077,
          "x1": -218079.65123956077,
          "y0": 0,
          "y1": 1.2
         },
         {
          "line": {
           "color": "LightSeaGreen",
           "width": 1
          },
          "type": "line",
          "x0": -145383.10082637385,
          "x1": -145383.10082637385,
          "y0": 0,
          "y1": 1.2
         },
         {
          "line": {
           "color": "LightSeaGreen",
           "width": 1
          },
          "type": "line",
          "x0": -72686.55041318692,
          "x1": -72686.55041318692,
          "y0": 0,
          "y1": 1.2
         },
         {
          "line": {
           "color": "LightSeaGreen",
           "width": 1
          },
          "type": "line",
          "x0": 10,
          "x1": 10,
          "y0": 0,
          "y1": 1.2
         },
         {
          "line": {
           "color": "LightSeaGreen",
           "width": 1
          },
          "type": "line",
          "x0": 37.962681630731225,
          "x1": 37.962681630731225,
          "y0": 0,
          "y1": 1.2
         },
         {
          "line": {
           "color": "LightSeaGreen",
           "width": 1
          },
          "type": "line",
          "x0": 140.09708008189173,
          "x1": 140.09708008189173,
          "y0": 0,
          "y1": 1.2
         },
         {
          "line": {
           "color": "LightSeaGreen",
           "width": 1
          },
          "type": "line",
          "x0": 526.1969364174732,
          "x1": 526.1969364174732,
          "y0": 0,
          "y1": 1.2
         },
         {
          "line": {
           "color": "LightSeaGreen",
           "width": 1
          },
          "type": "line",
          "x0": 1958.2531407719373,
          "x1": 1958.2531407719373,
          "y0": 0,
          "y1": 1.2
         },
         {
          "line": {
           "color": "LightSeaGreen",
           "width": 1
          },
          "type": "line",
          "x0": 7268.2177347825145,
          "x1": 7268.2177347825145,
          "y0": 0,
          "y1": 1.2
         },
         {
          "line": {
           "color": "LightSeaGreen",
           "width": 1
          },
          "type": "line",
          "x0": 27303.44958681307,
          "x1": 27303.44958681307,
          "y0": 0,
          "y1": 1.2
         },
         {
          "line": {
           "color": "LightSeaGreen",
           "width": 1
          },
          "type": "line",
          "x0": 100000,
          "x1": 100000,
          "y0": 0,
          "y1": 1.2
         },
         {
          "line": {
           "color": "LightSeaGreen",
           "width": 1
          },
          "type": "line",
          "x0": 172696.55041318692,
          "x1": 172696.55041318692,
          "y0": 0,
          "y1": 1.2
         },
         {
          "line": {
           "color": "LightSeaGreen",
           "width": 1
          },
          "type": "line",
          "x0": 245393.10082637385,
          "x1": 245393.10082637385,
          "y0": 0,
          "y1": 1.2
         },
         {
          "line": {
           "color": "LightSeaGreen",
           "width": 1
          },
          "type": "line",
          "x0": 318089.6512395608,
          "x1": 318089.6512395608,
          "y0": 0,
          "y1": 1.2
         },
         {
          "line": {
           "color": "LightSeaGreen",
           "width": 1
          },
          "type": "line",
          "x0": 390786.2016527477,
          "x1": 390786.2016527477,
          "y0": 0,
          "y1": 1.2
         }
        ],
        "template": {
         "data": {
          "bar": [
           {
            "error_x": {
             "color": "#2a3f5f"
            },
            "error_y": {
             "color": "#2a3f5f"
            },
            "marker": {
             "line": {
              "color": "#E5ECF6",
              "width": 0.5
             }
            },
            "type": "bar"
           }
          ],
          "barpolar": [
           {
            "marker": {
             "line": {
              "color": "#E5ECF6",
              "width": 0.5
             }
            },
            "type": "barpolar"
           }
          ],
          "carpet": [
           {
            "aaxis": {
             "endlinecolor": "#2a3f5f",
             "gridcolor": "white",
             "linecolor": "white",
             "minorgridcolor": "white",
             "startlinecolor": "#2a3f5f"
            },
            "baxis": {
             "endlinecolor": "#2a3f5f",
             "gridcolor": "white",
             "linecolor": "white",
             "minorgridcolor": "white",
             "startlinecolor": "#2a3f5f"
            },
            "type": "carpet"
           }
          ],
          "choropleth": [
           {
            "colorbar": {
             "outlinewidth": 0,
             "ticks": ""
            },
            "type": "choropleth"
           }
          ],
          "contour": [
           {
            "colorbar": {
             "outlinewidth": 0,
             "ticks": ""
            },
            "colorscale": [
             [
              0,
              "#0d0887"
             ],
             [
              0.1111111111111111,
              "#46039f"
             ],
             [
              0.2222222222222222,
              "#7201a8"
             ],
             [
              0.3333333333333333,
              "#9c179e"
             ],
             [
              0.4444444444444444,
              "#bd3786"
             ],
             [
              0.5555555555555556,
              "#d8576b"
             ],
             [
              0.6666666666666666,
              "#ed7953"
             ],
             [
              0.7777777777777778,
              "#fb9f3a"
             ],
             [
              0.8888888888888888,
              "#fdca26"
             ],
             [
              1,
              "#f0f921"
             ]
            ],
            "type": "contour"
           }
          ],
          "contourcarpet": [
           {
            "colorbar": {
             "outlinewidth": 0,
             "ticks": ""
            },
            "type": "contourcarpet"
           }
          ],
          "heatmap": [
           {
            "colorbar": {
             "outlinewidth": 0,
             "ticks": ""
            },
            "colorscale": [
             [
              0,
              "#0d0887"
             ],
             [
              0.1111111111111111,
              "#46039f"
             ],
             [
              0.2222222222222222,
              "#7201a8"
             ],
             [
              0.3333333333333333,
              "#9c179e"
             ],
             [
              0.4444444444444444,
              "#bd3786"
             ],
             [
              0.5555555555555556,
              "#d8576b"
             ],
             [
              0.6666666666666666,
              "#ed7953"
             ],
             [
              0.7777777777777778,
              "#fb9f3a"
             ],
             [
              0.8888888888888888,
              "#fdca26"
             ],
             [
              1,
              "#f0f921"
             ]
            ],
            "type": "heatmap"
           }
          ],
          "heatmapgl": [
           {
            "colorbar": {
             "outlinewidth": 0,
             "ticks": ""
            },
            "colorscale": [
             [
              0,
              "#0d0887"
             ],
             [
              0.1111111111111111,
              "#46039f"
             ],
             [
              0.2222222222222222,
              "#7201a8"
             ],
             [
              0.3333333333333333,
              "#9c179e"
             ],
             [
              0.4444444444444444,
              "#bd3786"
             ],
             [
              0.5555555555555556,
              "#d8576b"
             ],
             [
              0.6666666666666666,
              "#ed7953"
             ],
             [
              0.7777777777777778,
              "#fb9f3a"
             ],
             [
              0.8888888888888888,
              "#fdca26"
             ],
             [
              1,
              "#f0f921"
             ]
            ],
            "type": "heatmapgl"
           }
          ],
          "histogram": [
           {
            "marker": {
             "colorbar": {
              "outlinewidth": 0,
              "ticks": ""
             }
            },
            "type": "histogram"
           }
          ],
          "histogram2d": [
           {
            "colorbar": {
             "outlinewidth": 0,
             "ticks": ""
            },
            "colorscale": [
             [
              0,
              "#0d0887"
             ],
             [
              0.1111111111111111,
              "#46039f"
             ],
             [
              0.2222222222222222,
              "#7201a8"
             ],
             [
              0.3333333333333333,
              "#9c179e"
             ],
             [
              0.4444444444444444,
              "#bd3786"
             ],
             [
              0.5555555555555556,
              "#d8576b"
             ],
             [
              0.6666666666666666,
              "#ed7953"
             ],
             [
              0.7777777777777778,
              "#fb9f3a"
             ],
             [
              0.8888888888888888,
              "#fdca26"
             ],
             [
              1,
              "#f0f921"
             ]
            ],
            "type": "histogram2d"
           }
          ],
          "histogram2dcontour": [
           {
            "colorbar": {
             "outlinewidth": 0,
             "ticks": ""
            },
            "colorscale": [
             [
              0,
              "#0d0887"
             ],
             [
              0.1111111111111111,
              "#46039f"
             ],
             [
              0.2222222222222222,
              "#7201a8"
             ],
             [
              0.3333333333333333,
              "#9c179e"
             ],
             [
              0.4444444444444444,
              "#bd3786"
             ],
             [
              0.5555555555555556,
              "#d8576b"
             ],
             [
              0.6666666666666666,
              "#ed7953"
             ],
             [
              0.7777777777777778,
              "#fb9f3a"
             ],
             [
              0.8888888888888888,
              "#fdca26"
             ],
             [
              1,
              "#f0f921"
             ]
            ],
            "type": "histogram2dcontour"
           }
          ],
          "mesh3d": [
           {
            "colorbar": {
             "outlinewidth": 0,
             "ticks": ""
            },
            "type": "mesh3d"
           }
          ],
          "parcoords": [
           {
            "line": {
             "colorbar": {
              "outlinewidth": 0,
              "ticks": ""
             }
            },
            "type": "parcoords"
           }
          ],
          "pie": [
           {
            "automargin": true,
            "type": "pie"
           }
          ],
          "scatter": [
           {
            "marker": {
             "colorbar": {
              "outlinewidth": 0,
              "ticks": ""
             }
            },
            "type": "scatter"
           }
          ],
          "scatter3d": [
           {
            "line": {
             "colorbar": {
              "outlinewidth": 0,
              "ticks": ""
             }
            },
            "marker": {
             "colorbar": {
              "outlinewidth": 0,
              "ticks": ""
             }
            },
            "type": "scatter3d"
           }
          ],
          "scattercarpet": [
           {
            "marker": {
             "colorbar": {
              "outlinewidth": 0,
              "ticks": ""
             }
            },
            "type": "scattercarpet"
           }
          ],
          "scattergeo": [
           {
            "marker": {
             "colorbar": {
              "outlinewidth": 0,
              "ticks": ""
             }
            },
            "type": "scattergeo"
           }
          ],
          "scattergl": [
           {
            "marker": {
             "colorbar": {
              "outlinewidth": 0,
              "ticks": ""
             }
            },
            "type": "scattergl"
           }
          ],
          "scattermapbox": [
           {
            "marker": {
             "colorbar": {
              "outlinewidth": 0,
              "ticks": ""
             }
            },
            "type": "scattermapbox"
           }
          ],
          "scatterpolar": [
           {
            "marker": {
             "colorbar": {
              "outlinewidth": 0,
              "ticks": ""
             }
            },
            "type": "scatterpolar"
           }
          ],
          "scatterpolargl": [
           {
            "marker": {
             "colorbar": {
              "outlinewidth": 0,
              "ticks": ""
             }
            },
            "type": "scatterpolargl"
           }
          ],
          "scatterternary": [
           {
            "marker": {
             "colorbar": {
              "outlinewidth": 0,
              "ticks": ""
             }
            },
            "type": "scatterternary"
           }
          ],
          "surface": [
           {
            "colorbar": {
             "outlinewidth": 0,
             "ticks": ""
            },
            "colorscale": [
             [
              0,
              "#0d0887"
             ],
             [
              0.1111111111111111,
              "#46039f"
             ],
             [
              0.2222222222222222,
              "#7201a8"
             ],
             [
              0.3333333333333333,
              "#9c179e"
             ],
             [
              0.4444444444444444,
              "#bd3786"
             ],
             [
              0.5555555555555556,
              "#d8576b"
             ],
             [
              0.6666666666666666,
              "#ed7953"
             ],
             [
              0.7777777777777778,
              "#fb9f3a"
             ],
             [
              0.8888888888888888,
              "#fdca26"
             ],
             [
              1,
              "#f0f921"
             ]
            ],
            "type": "surface"
           }
          ],
          "table": [
           {
            "cells": {
             "fill": {
              "color": "#EBF0F8"
             },
             "line": {
              "color": "white"
             }
            },
            "header": {
             "fill": {
              "color": "#C8D4E3"
             },
             "line": {
              "color": "white"
             }
            },
            "type": "table"
           }
          ]
         },
         "layout": {
          "annotationdefaults": {
           "arrowcolor": "#2a3f5f",
           "arrowhead": 0,
           "arrowwidth": 1
          },
          "coloraxis": {
           "colorbar": {
            "outlinewidth": 0,
            "ticks": ""
           }
          },
          "colorscale": {
           "diverging": [
            [
             0,
             "#8e0152"
            ],
            [
             0.1,
             "#c51b7d"
            ],
            [
             0.2,
             "#de77ae"
            ],
            [
             0.3,
             "#f1b6da"
            ],
            [
             0.4,
             "#fde0ef"
            ],
            [
             0.5,
             "#f7f7f7"
            ],
            [
             0.6,
             "#e6f5d0"
            ],
            [
             0.7,
             "#b8e186"
            ],
            [
             0.8,
             "#7fbc41"
            ],
            [
             0.9,
             "#4d9221"
            ],
            [
             1,
             "#276419"
            ]
           ],
           "sequential": [
            [
             0,
             "#0d0887"
            ],
            [
             0.1111111111111111,
             "#46039f"
            ],
            [
             0.2222222222222222,
             "#7201a8"
            ],
            [
             0.3333333333333333,
             "#9c179e"
            ],
            [
             0.4444444444444444,
             "#bd3786"
            ],
            [
             0.5555555555555556,
             "#d8576b"
            ],
            [
             0.6666666666666666,
             "#ed7953"
            ],
            [
             0.7777777777777778,
             "#fb9f3a"
            ],
            [
             0.8888888888888888,
             "#fdca26"
            ],
            [
             1,
             "#f0f921"
            ]
           ],
           "sequentialminus": [
            [
             0,
             "#0d0887"
            ],
            [
             0.1111111111111111,
             "#46039f"
            ],
            [
             0.2222222222222222,
             "#7201a8"
            ],
            [
             0.3333333333333333,
             "#9c179e"
            ],
            [
             0.4444444444444444,
             "#bd3786"
            ],
            [
             0.5555555555555556,
             "#d8576b"
            ],
            [
             0.6666666666666666,
             "#ed7953"
            ],
            [
             0.7777777777777778,
             "#fb9f3a"
            ],
            [
             0.8888888888888888,
             "#fdca26"
            ],
            [
             1,
             "#f0f921"
            ]
           ]
          },
          "colorway": [
           "#636efa",
           "#EF553B",
           "#00cc96",
           "#ab63fa",
           "#FFA15A",
           "#19d3f3",
           "#FF6692",
           "#B6E880",
           "#FF97FF",
           "#FECB52"
          ],
          "font": {
           "color": "#2a3f5f"
          },
          "geo": {
           "bgcolor": "white",
           "lakecolor": "white",
           "landcolor": "#E5ECF6",
           "showlakes": true,
           "showland": true,
           "subunitcolor": "white"
          },
          "hoverlabel": {
           "align": "left"
          },
          "hovermode": "closest",
          "mapbox": {
           "style": "light"
          },
          "paper_bgcolor": "white",
          "plot_bgcolor": "#E5ECF6",
          "polar": {
           "angularaxis": {
            "gridcolor": "white",
            "linecolor": "white",
            "ticks": ""
           },
           "bgcolor": "#E5ECF6",
           "radialaxis": {
            "gridcolor": "white",
            "linecolor": "white",
            "ticks": ""
           }
          },
          "scene": {
           "xaxis": {
            "backgroundcolor": "#E5ECF6",
            "gridcolor": "white",
            "gridwidth": 2,
            "linecolor": "white",
            "showbackground": true,
            "ticks": "",
            "zerolinecolor": "white"
           },
           "yaxis": {
            "backgroundcolor": "#E5ECF6",
            "gridcolor": "white",
            "gridwidth": 2,
            "linecolor": "white",
            "showbackground": true,
            "ticks": "",
            "zerolinecolor": "white"
           },
           "zaxis": {
            "backgroundcolor": "#E5ECF6",
            "gridcolor": "white",
            "gridwidth": 2,
            "linecolor": "white",
            "showbackground": true,
            "ticks": "",
            "zerolinecolor": "white"
           }
          },
          "shapedefaults": {
           "line": {
            "color": "#2a3f5f"
           }
          },
          "ternary": {
           "aaxis": {
            "gridcolor": "white",
            "linecolor": "white",
            "ticks": ""
           },
           "baxis": {
            "gridcolor": "white",
            "linecolor": "white",
            "ticks": ""
           },
           "bgcolor": "#E5ECF6",
           "caxis": {
            "gridcolor": "white",
            "linecolor": "white",
            "ticks": ""
           }
          },
          "title": {
           "x": 0.05
          },
          "xaxis": {
           "automargin": true,
           "gridcolor": "white",
           "linecolor": "white",
           "ticks": "",
           "title": {
            "standoff": 15
           },
           "zerolinecolor": "white",
           "zerolinewidth": 2
          },
          "yaxis": {
           "automargin": true,
           "gridcolor": "white",
           "linecolor": "white",
           "ticks": "",
           "title": {
            "standoff": 15
           },
           "zerolinecolor": "white",
           "zerolinewidth": 2
          }
         }
        },
        "title": {
         "text": "B-Spline basis"
        },
        "xaxis": {
         "autorange": true,
         "range": [
          -218271.11848889798,
          390977.6689020849
         ],
         "showspikes": false,
         "type": "linear"
        },
        "yaxis": {
         "autorange": true,
         "range": [
          -0.06328125,
          1.20234375
         ],
         "showspikes": false,
         "type": "linear"
        }
       }
      },
      "image/png": "[encoded data removed]"
     },
     "metadata": {},
     "output_type": "display_data"
    }
   ],
   "source": [
    "test__B_spline()"
   ]
  },
  {
   "cell_type": "code",
   "execution_count": 1,
   "metadata": {},
   "outputs": [],
   "source": [
    "from penalty_matrix import PenaltyMatrix\n",
    "from smooth import Smooths\n",
    "import numpy as np\n",
    "\n",
    "def test():\n",
    "\n",
    "    # generate data\n",
    "    np.random.seed(42)\n",
    "    x = np.linspace(-3,3,1000)\n",
    "    y = np.exp(x**2) + 0.1*np.random.randn(len(x))\n",
    "    s = Smooths(x_data=x, n_param=20, penalty=\"valley\", y_peak_or_valley=y)\n",
    "\n",
    "    # test Penalty_matrix\n",
    "    P = PenaltyMatrix()\n",
    "    print(\"D1 Difference matrix shape: \", P.D1_difference_matrix(n_param=10).shape)\n",
    "    print(\"D2 Difference matrix shape: \", P.D2_difference_matrix(n_param=10).shape)\n",
    "    print(\"Smoothness matrix shape: \", P.Smoothness_matrix(n_param=10).shape)\n",
    "    print(\"Peak matrix shape: \", P.Peak_matrix(n_param=10, y_data=y, basis=s.basis).shape)\n",
    "    print(\"Valley matrix shape: \\n\", P.Valley_matrix(n_param=10, y_data=-y, basis=s.basis))\n"
   ]
  },
  {
   "cell_type": "code",
   "execution_count": 2,
   "metadata": {},
   "outputs": [
    {
     "name": "stdout",
     "output_type": "stream",
     "text": [
      "Use 'x_basis' for the spline basis!\n",
      "D1 Difference matrix shape:  (9, 10)\n",
      "D2 Difference matrix shape:  (8, 10)\n",
      "Smoothness matrix shape:  (8, 10)\n",
      "Peak matrix shape:  (8, 10)\n",
      "Valley matrix shape: \n",
      " [[ 1 -1  0  0  0  0  0  0  0  0]\n",
      " [ 0  0  0  0  0  0  0  0  0  0]\n",
      " [ 0  0  0  0  0  0  0  0  0  0]\n",
      " [ 0  0  0  0  0  0  0  0  0  0]\n",
      " [ 0  0  0  0  0  0  0  0  0  0]\n",
      " [ 0  0  0  0  0  0 -1  1  0  0]\n",
      " [ 0  0  0  0  0  0  0 -1  1  0]\n",
      " [ 0  0  0  0  0  0  0  0 -1  1]]\n"
     ]
    }
   ],
   "source": [
    "test()"
   ]
  },
  {
   "cell_type": "code",
   "execution_count": null,
   "metadata": {},
   "outputs": [],
   "source": []
  }
 ],
 "metadata": {
  "kernelspec": {
   "display_name": "Python 3.7.6 64-bit ('thesis': conda)",
   "language": "python",
   "name": "python37664bitthesisconda4e23a8f720bf476ebd0f5fe3f9ef6962"
  },
  "language_info": {
   "codemirror_mode": {
    "name": "ipython",
    "version": 3
   },
   "file_extension": ".py",
   "mimetype": "text/x-python",
   "name": "python",
   "nbconvert_exporter": "python",
   "pygments_lexer": "ipython3",
   "version": "3.7.6"
  }
 },
 "nbformat": 4,
 "nbformat_minor": 4
}
