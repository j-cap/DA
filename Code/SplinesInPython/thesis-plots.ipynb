{
 "cells": [
  {
   "cell_type": "markdown",
   "metadata": {},
   "source": [
    "IPNYB for the plots in the thesis, especially for Chapter 4\n"
   ]
  },
  {
   "cell_type": "code",
   "execution_count": 2,
   "metadata": {},
   "outputs": [],
   "source": [
    "import os\n",
    "import numpy as np\n",
    "import pandas as pd\n"
   ]
  },
  {
   "cell_type": "markdown",
   "metadata": {},
   "source": [
    "## Peak Example for Chapter 4"
   ]
  },
  {
   "cell_type": "code",
   "execution_count": 1,
   "metadata": {},
   "outputs": [
    {
     "ename": "NameError",
     "evalue": "name 'os' is not defined",
     "output_type": "error",
     "traceback": [
      "\u001b[1;31m---------------------------------------------------------------------------\u001b[0m",
      "\u001b[1;31mNameError\u001b[0m                                 Traceback (most recent call last)",
      "\u001b[1;32m<ipython-input-1-8dac584efee3>\u001b[0m in \u001b[0;36m<module>\u001b[1;34m\u001b[0m\n\u001b[1;32m----> 1\u001b[1;33m \u001b[0msavePath\u001b[0m \u001b[1;33m=\u001b[0m \u001b[0mos\u001b[0m\u001b[1;33m.\u001b[0m\u001b[0mpath\u001b[0m\u001b[1;33m.\u001b[0m\u001b[0mjoin\u001b[0m\u001b[1;33m(\u001b[0m\u001b[0mos\u001b[0m\u001b[1;33m.\u001b[0m\u001b[0mpath\u001b[0m\u001b[1;33m.\u001b[0m\u001b[0mdirname\u001b[0m\u001b[1;33m(\u001b[0m\u001b[1;34m\".\"\u001b[0m\u001b[1;33m)\u001b[0m\u001b[1;33m,\u001b[0m \u001b[1;34m'../../Thesis/tex/graphics/data/cha4/peak_example/'\u001b[0m\u001b[1;33m)\u001b[0m\u001b[1;33m\u001b[0m\u001b[1;33m\u001b[0m\u001b[0m\n\u001b[0m\u001b[0;32m      2\u001b[0m \u001b[0mprint\u001b[0m\u001b[1;33m(\u001b[0m\u001b[1;34m\"Generate linspace some data\"\u001b[0m\u001b[1;33m)\u001b[0m\u001b[1;33m\u001b[0m\u001b[1;33m\u001b[0m\u001b[0m\n\u001b[0;32m      3\u001b[0m \u001b[0mnp\u001b[0m\u001b[1;33m.\u001b[0m\u001b[0mrandom\u001b[0m\u001b[1;33m.\u001b[0m\u001b[0mseed\u001b[0m\u001b[1;33m(\u001b[0m\u001b[1;36m2\u001b[0m\u001b[1;33m)\u001b[0m\u001b[1;33m\u001b[0m\u001b[1;33m\u001b[0m\u001b[0m\n\u001b[0;32m      4\u001b[0m \u001b[0mn_data\u001b[0m \u001b[1;33m=\u001b[0m \u001b[1;36m200\u001b[0m\u001b[1;33m\u001b[0m\u001b[1;33m\u001b[0m\u001b[0m\n\u001b[0;32m      5\u001b[0m \u001b[1;31m#x = np.random.random(n_data)*10\u001b[0m\u001b[1;33m\u001b[0m\u001b[1;33m\u001b[0m\u001b[1;33m\u001b[0m\u001b[0m\n",
      "\u001b[1;31mNameError\u001b[0m: name 'os' is not defined"
     ]
    }
   ],
   "source": [
    "savePath = os.path.join(os.path.dirname(\".\"), '../../Thesis/tex/graphics/data/cha4/peak_example/')\n",
    "print(\"Generate linspace some data\")\n",
    "np.random.seed(2)\n",
    "n_data = 200\n",
    "#x = np.random.random(n_data)*10\n",
    "x = np.linspace(0.1,0.8,n_data)\n",
    "ytrue = 2*np.exp(-(x-0.35)**2/0.01)\n",
    "noise = np.random.normal(loc=0, scale=0.1, size=x.shape)\n",
    "y = ytrue + noise\n",
    "\n",
    "# train-test split\n",
    "print(\"Perform train-test split\")\n",
    "df = pd.DataFrame(data=dict(x=x, y=y, ytrue=ytrue))\n",
    "df_train, df_test = train_test_split(df)"
   ]
  },
  {
   "cell_type": "code",
   "execution_count": null,
   "metadata": {},
   "outputs": [],
   "source": [
    "print(\"Fit the different spline types\")\n",
    "nr_splines, knot_type, spline_order, lam_c = 35, \"e\", 3, 6000\n",
    "B = Bspline()\n",
    "sol = B.fit(df_train[\"x\"].values, df_train[\"y\"].values, nr_splines=nr_splines)\n",
    "opt_lam = B.calc_GCV(df_train[\"x\"].values, df_train[\"y\"].values,nr_splines=nr_splines, nr_lam=100, plot_=0)[\"best_lambda\"]\n",
    "print(\"Optimal lambda = \",opt_lam)\n",
    "sol_p = B.fit_Pspline(df_train[\"x\"].values, df_train[\"y\"].values,nr_splines=nr_splines,lam=opt_lam)\n",
    "sol_c = B.fit_SC_Pspline(df_train[\"x\"].values, df_train[\"y\"].values, \"peak\", nr_splines, lam_c=lam_c)\n",
    "\n",
    "print(\"Show the mean squared errors\")\n",
    "Bspline_pred = B.predict(df_test[\"x\"].values, sol[\"coef_\"], sol[\"knots\"])\n",
    "Pspline_pred = B.predict(df_test[\"x\"].values, sol_p[\"coef_\"], sol_p[\"knots\"])\n",
    "SCPspline_pred = B.predict(df_test[\"x\"].values, sol_c[\"coef_\"], sol_c[\"knots\"])\n",
    "\n",
    "print(\"\".center(50,\"=\"))\n",
    "print(\"\".center(50,\"=\"))\n",
    "print(\"MSEs compared to True Function\")\n",
    "print(\"\".center(50,\"=\"))\n",
    "print(\"Validation Set\".center(30, \" \"))\n",
    "print(\"MSE-Val B-spline = \".ljust(25), mean_squared_error(df_test[\"ytrue\"].values, Bspline_pred).round(6))\n",
    "print(\"MSE-Val P-spline = \".ljust(25), mean_squared_error(df_test[\"ytrue\"].values, Pspline_pred).round(6))\n",
    "print(\"MSE-Val SC-P-spline = \".ljust(25), mean_squared_error(df_test[\"ytrue\"].values, SCPspline_pred).round(6))\n",
    "print(\"\".center(50,\"=\"))\n",
    "print(\"Train Set\".center(30, \" \"))\n",
    "print(\"MSE-Train B-spline = \".ljust(25), mean_squared_error(df_train[\"ytrue\"].values, B.predict(df_train[\"x\"].values, sol[\"coef_\"], sol[\"knots\"])).round(6))\n",
    "print(\"MSE-Train P-spline = \".ljust(25), mean_squared_error(df_train[\"ytrue\"].values, B.predict(df_train[\"x\"].values, sol_p[\"coef_\"], sol_p[\"knots\"])).round(6))\n",
    "print(\"MSE-Train SC-P-spline = \".ljust(25), mean_squared_error(df_train[\"ytrue\"].values, B.predict(df_train[\"x\"].values, sol_c[\"coef_\"], sol_c[\"knots\"])).round(6))\n",
    "print(\"\".center(50,\"=\"))\n",
    "print(\"MSEs compared to Noisy Function\")\n",
    "print(\"\".center(50,\"=\"))\n",
    "print(\"Validation Set\".center(30, \" \"))\n",
    "print(\"MSE-Val B-spline = \".ljust(25), mean_squared_error(df_test[\"y\"].values, Bspline_pred).round(6))\n",
    "print(\"MSE-Val P-spline = \".ljust(25), mean_squared_error(df_test[\"y\"].values, Pspline_pred).round(6))\n",
    "print(\"MSE-Val SC-P-spline = \".ljust(25), mean_squared_error(df_test[\"y\"].values, SCPspline_pred).round(6))\n",
    "print(\"\".center(50,\"=\"))\n",
    "print(\"Train set\".center(30, \" \"))\n",
    "print(\"MSE-Train B-spline = \".ljust(25), mean_squared_error(df_train[\"y\"].values, B.predict(df_train[\"x\"].values, sol[\"coef_\"], sol[\"knots\"])).round(6))\n",
    "print(\"MSE-Train P-spline = \".ljust(25), mean_squared_error(df_train[\"y\"].values, B.predict(df_train[\"x\"].values, sol_p[\"coef_\"], sol_p[\"knots\"])).round(6))\n",
    "print(\"MSE-Train SC-P-spline = \".ljust(25), mean_squared_error(df_train[\"y\"].values, B.predict(df_train[\"x\"].values, sol_c[\"coef_\"], sol_c[\"knots\"])).round(6))\n",
    "print(\"\".center(50,\"=\"))\n",
    "\n",
    "# add the predictions to the dataset and save it\n",
    "xplot = np.linspace(0.1,0.8,200)\n",
    "Bspline_plot = B.predict(xplot, sol[\"coef_\"], sol[\"knots\"])\n",
    "Pspline_plot = B.predict(xplot, sol_p[\"coef_\"], sol_p[\"knots\"])\n",
    "SCPspline_plot = B.predict(xplot, sol_c[\"coef_\"], sol_c[\"knots\"])\n",
    "\n",
    "fig = go.Figure()\n",
    "\n",
    "fig.add_trace(go.Scatter(x=x, y=y, mode=\"markers\", name=\"Training Data\"))\n",
    "fig.add_trace(go.Scatter(x=xplot, y=Bspline_plot, mode=\"lines\", name=\"B-spline on Val Data\"))\n",
    "fig.add_trace(go.Scatter(x=xplot, y=Pspline_plot, mode=\"lines+markers\", name=\"P-spline on Val Data\"))\n",
    "fig.add_trace(go.Scatter(x=xplot, y=SCPspline_plot, mode=\"lines\", name=\"SC-P-spline on Val Data\"))\n",
    "fig.add_trace(go.Scatter(x=x, y=ytrue, mode=\"lines\", name=\"True Function\"))\n",
    "\n",
    "df_mse = pd.DataFrame(columns=[\"Model\", \"MSEVal\", \"MSEValTrueFunction\"])\n",
    "df_mse[\"Model\"] = [\"B-spline\", \"P-spline\", \"SCP-spline\"]\n",
    "df_mse[\"MSEValTrueFunction\"] = [\n",
    "    mean_squared_error(df_test[\"ytrue\"].values, Bspline_pred).round(6),\n",
    "    mean_squared_error(df_test[\"ytrue\"].values, Pspline_pred).round(6),\n",
    "    mean_squared_error(df_test[\"ytrue\"].values, SCPspline_pred).round(6)]\n",
    "df_mse[\"MSEVal\"] = [\n",
    "    mean_squared_error(df_test[\"y\"].values, Bspline_pred).round(6),\n",
    "    mean_squared_error(df_test[\"y\"].values, Pspline_pred).round(6),\n",
    "    mean_squared_error(df_test[\"y\"].values, SCPspline_pred).round(6)\n",
    "]\n",
    "\n",
    "df_info = pd.DataFrame(columns=[\"Info\", \"Value\"])\n",
    "df_info[\"Info\"] = [\"Nr_splines\", \"Knot_type\", \"Spline_Order\", \"Opt_Lambda\", \"Lambda_c\"]\n",
    "df_info[\"Value\"] = [nr_splines, knot_type, spline_order, opt_lam, lam_c]\n",
    "\n",
    "df_plot = pd.DataFrame(data=dict(xplot=xplot, yplot=y, ytrue=ytrue,\n",
    "                                Bspline_fit=Bspline_plot,\n",
    "                                Pspline_fit=Pspline_plot,\n",
    "                                SCP_spline_fit=SCPspline_plot))\n",
    "#df_info.to_csv(savePath+\"info.txt\", sep=\" \", index=False)\n",
    "#df_mse.to_csv(savePath+\"mse.csv\", sep=\",\", index=False)\n",
    "#df_plot.to_csv(savePath+\"data.txt\", sep=\" \", index=0)"
   ]
  },
  {
   "cell_type": "markdown",
   "metadata": {},
   "source": [
    "## Peak example for different $\\lambda_c$ for Chapter 4"
   ]
  },
  {
   "cell_type": "code",
   "execution_count": null,
   "metadata": {},
   "outputs": [],
   "source": [
    "savePath = os.path.join(os.path.dirname(\".\"), '../../Thesis/tex/graphics/data/cha4/lambdas/')\n",
    "print(\"Generate some data for the experiment: Different Lambdas\")\n",
    "np.random.seed(2)\n",
    "n_data = 200\n",
    "#x = np.random.random(n_data)*10\n",
    "x = np.linspace(0.1,0.8,n_data)\n",
    "ytrue = 2*np.exp(-(x-0.35)**2/0.01)\n",
    "noise = np.random.normal(loc=0, scale=0.1, size=x.shape)\n",
    "y = ytrue + noise\n",
    "\n",
    "# train-test split\n",
    "df = pd.DataFrame(data=dict(x=x, y=y, ytrue=ytrue))\n",
    "df_train, df_test = train_test_split(df)\n",
    "\n",
    "px.scatter(df_train, x=\"x\", y=\"y\")"
   ]
  },
  {
   "cell_type": "code",
   "execution_count": null,
   "metadata": {},
   "outputs": [],
   "source": [
    "print(\"Fit the different spline types\")\n",
    "nr_splines, knot_type, spline_order, lam_c = 45, \"e\", 3, 6000\n",
    "B = Bspline()\n",
    "# Calculate B-spline fit\n",
    "sol = B.fit(df_train[\"x\"].values, df_train[\"y\"].values, nr_splines=nr_splines, knot_type=knot_type)\n",
    "# Perform generalized cross-validation\n",
    "opt_lam = B.calc_GCV(df_train[\"x\"].values, df_train[\"y\"].values,nr_splines=nr_splines, knot_type=knot_type, nr_lam=100, plot_=0)[\"best_lambda\"]\n",
    "print(\"Optimal lambda = \",opt_lam)\n",
    "# Calculate optimal P-spline fit\n",
    "sol_p = B.fit_Pspline(df_train[\"x\"].values, df_train[\"y\"].values,nr_splines=nr_splines,lam=opt_lam, knot_type=knot_type)\n",
    "# Calculate the SC-P-spline fits\n",
    "sol_c = {}\n",
    "for c in [0,1,10,100,1000,10000]:\n",
    "    sol_c[\"sol_c\"+str(c)] = B.fit_SC_Pspline(df_train[\"x\"].values, df_train[\"y\"].values, \"peak\", nr_splines, lam_c=c, knot_type=knot_type)"
   ]
  },
  {
   "cell_type": "code",
   "execution_count": null,
   "metadata": {},
   "outputs": [],
   "source": [
    "print(\"Calculate predicted values for validation data.\")\n",
    "Bspline_pred = B.predict(df_test[\"x\"].values, sol[\"coef_\"], sol[\"knots\"])\n",
    "Pspline_pred = B.predict(df_test[\"x\"].values, sol_p[\"coef_\"], sol_p[\"knots\"])\n",
    "SCPspline_pred_c = dict()\n",
    "for k,v in sol_c.items():\n",
    "    SCPspline_pred_c[k.split(\"_\")[-1]] = B.predict(df_test[\"x\"].values, v[\"coef_\"], v[\"knots\"])"
   ]
  },
  {
   "cell_type": "code",
   "execution_count": null,
   "metadata": {},
   "outputs": [],
   "source": [
    "r, lj = 8, 30\n",
    "print(\"\".center(50,\"=\"))\n",
    "print(\"MSEs compared to True Function\")\n",
    "print(\"Validation Set\".center(lj, \" \"))\n",
    "print(\"\".center(50,\"=\"))\n",
    "print(\"MSE-Val B-spline = \".ljust(lj), mean_squared_error(df_test[\"ytrue\"].values, Bspline_pred).round(r))\n",
    "print(\"MSE-Val P-spline = \".ljust(lj), mean_squared_error(df_test[\"ytrue\"].values, Pspline_pred).round(r))\n",
    "for k,v in SCPspline_pred_c.items():\n",
    "    print(f\"MSE-Val SC-P-spline {k} = \".ljust(lj), mean_squared_error(df_test[\"ytrue\"].values, v).round(r))\n",
    "print(\"\".center(50,\"=\"))\n",
    "\n",
    "print(\"\".center(50,\"=\"))\n",
    "print(\"MSEs compared to Noisy Function\")\n",
    "print(\"Validation Set\".center(30, \" \"))\n",
    "print(\"\".center(50,\"=\"))\n",
    "print(\"MSE-Val B-spline = \".ljust(lj), mean_squared_error(df_test[\"y\"].values, Bspline_pred).round(r))\n",
    "print(\"MSE-Val P-spline = \".ljust(lj), mean_squared_error(df_test[\"y\"].values, Pspline_pred).round(r))\n",
    "for k,v in SCPspline_pred_c.items():\n",
    "    print(f\"MSE-Val SC-P-spline {k} = \".ljust(lj), mean_squared_error(df_test[\"y\"].values, v).round(r))\n",
    "print(\"\".center(50,\"=\"))\n",
    "\n",
    "print(\"\".center(50,\"=\"))\n",
    "print(\"MSEs compared to Noisy Function\")\n",
    "print(\"Train Set\".center(lj, \" \"))\n",
    "print(\"\".center(50,\"=\"))\n",
    "print(\"MSE-Train B-spline = \".ljust(lj), \n",
    "      mean_squared_error(df_train[\"ytrue\"].values, B.predict(df_train[\"x\"].values, sol[\"coef_\"], sol[\"knots\"])).round(r))\n",
    "print(\"MSE-Train P-spline = \".ljust(lj), \n",
    "      mean_squared_error(df_train[\"ytrue\"].values, B.predict(df_train[\"x\"].values, sol_p[\"coef_\"], sol_p[\"knots\"])).round(r))\n",
    "for k,v in sol_c.items():\n",
    "    print(f\"MSE-Val SC-P-spline {k.split('_')[-1]} = \".ljust(lj), mean_squared_error(df_train[\"ytrue\"].values, B.predict(df_train[\"x\"].values, v[\"coef_\"], v[\"knots\"])).round(r))\n",
    "print(\"\".center(50,\"=\"))"
   ]
  },
  {
   "cell_type": "code",
   "execution_count": null,
   "metadata": {},
   "outputs": [],
   "source": [
    "# calculate predictions on finer grid and plot it\n",
    "xplot = np.linspace(df_train[\"x\"].min(),df_train[\"x\"].max(),200)\n",
    "Bspline_plot = B.predict(xplot, sol[\"coef_\"], sol[\"knots\"])\n",
    "Pspline_plot = B.predict(xplot, sol_p[\"coef_\"], sol_p[\"knots\"])\n",
    "SCPspline_plot0 = B.predict(xplot, sol_c[\"sol_c0\"][\"coef_\"], sol_c[\"sol_c0\"][\"knots\"])\n",
    "SCPspline_plot1 = B.predict(xplot, sol_c[\"sol_c1\"][\"coef_\"], sol_c[\"sol_c1\"][\"knots\"])\n",
    "SCPspline_plot10 = B.predict(xplot, sol_c[\"sol_c10\"][\"coef_\"], sol_c[\"sol_c10\"][\"knots\"])\n",
    "SCPspline_plot100 = B.predict(xplot, sol_c[\"sol_c100\"][\"coef_\"], sol_c[\"sol_c100\"][\"knots\"])\n",
    "SCPspline_plot1000 = B.predict(xplot, sol_c[\"sol_c1000\"][\"coef_\"], sol_c[\"sol_c1000\"][\"knots\"])\n",
    "SCPspline_plot10000 = B.predict(xplot, sol_c[\"sol_c10000\"][\"coef_\"], sol_c[\"sol_c10000\"][\"knots\"])"
   ]
  },
  {
   "cell_type": "code",
   "execution_count": null,
   "metadata": {},
   "outputs": [],
   "source": [
    "fig = go.Figure()\n",
    "fig.add_trace(go.Scatter(x=x, y=y, mode=\"markers\", name=\"Training Data\"))\n",
    "fig.add_trace(go.Scatter(x=xplot, y=Bspline_plot, mode=\"lines\", name=\"B-spline on Val Data\"))\n",
    "fig.add_trace(go.Scatter(x=xplot, y=Pspline_plot, mode=\"lines+markers\", marker=dict(size=1), name=\"P-spline on Val Data\"))\n",
    "fig.add_trace(go.Scatter(x=xplot, y=SCPspline_plot0, mode=\"lines\", name=\"Lambda_C = 0\"))\n",
    "fig.add_trace(go.Scatter(x=xplot, y=SCPspline_plot1, mode=\"lines\", name=\"Lambda_C = 1\"))\n",
    "fig.add_trace(go.Scatter(x=xplot, y=SCPspline_plot10, mode=\"lines\", name=\"Lambda_C = 10\"))\n",
    "fig.add_trace(go.Scatter(x=xplot, y=SCPspline_plot100, mode=\"lines\", name=\"Lambda_C = 100\"))\n",
    "fig.add_trace(go.Scatter(x=xplot, y=SCPspline_plot1000, mode=\"lines\", name=\"Lambda_C = 1000\"))\n",
    "fig.add_trace(go.Scatter(x=xplot, y=SCPspline_plot10000, mode=\"lines\", name=\"Lambda_C = 10000\"))\n",
    "\n",
    "fig.add_trace(go.Scatter(x=x, y=ytrue, mode=\"lines\", name=\"True Function\"))"
   ]
  },
  {
   "cell_type": "code",
   "execution_count": null,
   "metadata": {},
   "outputs": [],
   "source": [
    "df_mse = pd.DataFrame(columns=[\"Model\", \"MSEVal\", \"MSEValTrueFunction\"])\n",
    "df_mse[\"Model\"] = [\"B-spline\", \"P-spline\"] + [s.split(\"_\")[-1] for s in list(sol_c.keys())]\n",
    "df_mse[\"MSEValTrueFunction\"] = [\n",
    "    mean_squared_error(df_test[\"ytrue\"].values, Bspline_pred).round(6),\n",
    "    mean_squared_error(df_test[\"ytrue\"].values, Pspline_pred).round(6)] + [mean_squared_error(df_test[\"ytrue\"].values, v).round(6) for k,v in SCPspline_pred_c.items()]\n",
    "\n",
    "df_mse[\"MSEVal\"] = [\n",
    "    mean_squared_error(df_test[\"y\"].values, Bspline_pred).round(6),\n",
    "    mean_squared_error(df_test[\"y\"].values, Pspline_pred).round(6)] + [mean_squared_error(df_test[\"y\"].values, B.predict(df_test[\"x\"], v[\"coef_\"], v[\"knots\"])).round(6) for k,v in sol_c.items()]\n",
    "\n",
    "df_info = pd.DataFrame(columns=[\"Info\", \"Value\"])\n",
    "df_info[\"Info\"] = [\"Nr_splines\", \"Knot_type\", \"Spline_Order\", \"Opt_Lambda\", \"Lambda_c\"]\n",
    "lams = [v[\"lambdas\"][1] for k,v in sol_c.items()]\n",
    "df_info[\"Value\"] = [nr_splines, knot_type, spline_order, opt_lam, lams]\n",
    "\n",
    "df_plot = pd.DataFrame(data=dict(xplot=xplot, yplot=y, \n",
    "                                Bspline_fit=Bspline_plot,\n",
    "                                Pspline_fit=Pspline_plot,\n",
    "                                c0=SCPspline_plot0, c1=SCPspline_plot1, \n",
    "                                c10=SCPspline_plot10, c100=SCPspline_plot100, \n",
    "                                c1000=SCPspline_plot1000, c10000=SCPspline_plot10000))\n",
    "\n",
    "#df_info.to_csv(savePath+\"info.txt\", sep=\" \", index=False)\n",
    "#df_mse.to_csv(savePath+\"mse.csv\", sep=\",\", index=False)\n",
    "#df_plot.to_csv(savePath+\"data.txt\", sep=\" \", index=0)"
   ]
  },
  {
   "cell_type": "code",
   "execution_count": null,
   "metadata": {},
   "outputs": [],
   "source": []
  },
  {
   "cell_type": "markdown",
   "metadata": {},
   "source": [
    "## Peak Example for Sparse Data in Chapter 4"
   ]
  },
  {
   "cell_type": "code",
   "execution_count": null,
   "metadata": {},
   "outputs": [],
   "source": [
    "savePath = os.path.join(os.path.dirname(\".\"), '../../Thesis/tex/graphics/data/cha4/sparse_example/')\n",
    "print(\"Generate sparse data\")\n",
    "np.random.seed(2)\n",
    "n_data = 200\n",
    "x1 = np.linspace(0.1,0.2, 30)\n",
    "x2 = np.linspace(0.2,0.5, 10)\n",
    "x3 = np.linspace(0.5,0.8, 30)\n",
    "x = np.hstack((x1,x2,x3))\n",
    "\n",
    "ytrue = 2*np.exp(-(x-0.35)**2/0.01) \n",
    "noise = np.random.normal(loc=0, scale=0.1, size=x.shape)\n",
    "y = ytrue + noise\n",
    "\n",
    "# train-test split\n",
    "df = pd.DataFrame(data=dict(x=x, y=y, ytrue=ytrue))\n",
    "df_train, df_test = train_test_split(df)\n",
    "\n",
    "px.scatter(df_train, x=\"x\", y=\"y\")"
   ]
  },
  {
   "cell_type": "code",
   "execution_count": null,
   "metadata": {},
   "outputs": [],
   "source": [
    "print(\"Fit the different spline types\")\n",
    "nr_splines, knot_type, spline_order, lam_c = 30, \"q\", 3, 1000\n",
    "B = Bspline()\n",
    "sol = B.fit(df_train[\"x\"].values, df_train[\"y\"].values, nr_splines=nr_splines, knot_type=knot_type)\n",
    "opt_lam = B.calc_GCV(df_train[\"x\"].values, df_train[\"y\"].values,nr_splines=nr_splines, nr_lam=100, plot_=0, knot_type=knot_type)[\"best_lambda\"]\n",
    "print(\"Optimal lambda = \",opt_lam)\n",
    "sol_p = B.fit_Pspline(df_train[\"x\"].values, df_train[\"y\"].values,nr_splines=nr_splines,lam=opt_lam, knot_type=knot_type)\n",
    "sol_c = B.fit_SC_Pspline(df_train[\"x\"].values, df_train[\"y\"].values, \"peak\", nr_splines, lam_c=lam_c, knot_type=knot_type)"
   ]
  },
  {
   "cell_type": "code",
   "execution_count": null,
   "metadata": {},
   "outputs": [],
   "source": [
    "print(\"Show the mean squared errors\")\n",
    "Bspline_pred = B.predict(df_test[\"x\"].values, sol[\"coef_\"], sol[\"knots\"])\n",
    "Pspline_pred = B.predict(df_test[\"x\"].values, sol_p[\"coef_\"], sol_p[\"knots\"])\n",
    "SCPspline_pred = B.predict(df_test[\"x\"].values, sol_c[\"coef_\"], sol_c[\"knots\"])\n",
    "\n",
    "print(\"\".center(50,\"=\"))\n",
    "print(\"\".center(50,\"=\"))\n",
    "print(\"MSEs compared to True Function\")\n",
    "print(\"\".center(50,\"=\"))\n",
    "print(\"Validation Set\".center(30, \" \"))\n",
    "print(\"MSE-Val B-spline = \".ljust(25), mean_squared_error(df_test[\"ytrue\"].values, Bspline_pred).round(6))\n",
    "print(\"MSE-Val P-spline = \".ljust(25), mean_squared_error(df_test[\"ytrue\"].values, Pspline_pred).round(6))\n",
    "print(\"MSE-Val SC-P-spline = \".ljust(25), mean_squared_error(df_test[\"ytrue\"].values, SCPspline_pred).round(6))\n",
    "print(\"\".center(50,\"=\"))\n",
    "print(\"Train Set\".center(30, \" \"))\n",
    "print(\"MSE-Train B-spline = \".ljust(25), mean_squared_error(df_train[\"ytrue\"].values, B.predict(df_train[\"x\"].values, sol[\"coef_\"], sol[\"knots\"])).round(6))\n",
    "print(\"MSE-Train P-spline = \".ljust(25), mean_squared_error(df_train[\"ytrue\"].values, B.predict(df_train[\"x\"].values, sol_p[\"coef_\"], sol_p[\"knots\"])).round(6))\n",
    "print(\"MSE-Train SC-P-spline = \".ljust(25), mean_squared_error(df_train[\"ytrue\"].values, B.predict(df_train[\"x\"].values, sol_c[\"coef_\"], sol_c[\"knots\"])).round(6))\n",
    "print(\"\".center(50,\"=\"))\n",
    "print(\"MSEs compared to Noisy Function\")\n",
    "print(\"\".center(50,\"=\"))\n",
    "print(\"Validation Set\".center(30, \" \"))\n",
    "print(\"MSE-Val B-spline = \".ljust(25), mean_squared_error(df_test[\"y\"].values, Bspline_pred).round(6))\n",
    "print(\"MSE-Val P-spline = \".ljust(25), mean_squared_error(df_test[\"y\"].values, Pspline_pred).round(6))\n",
    "print(\"MSE-Val SC-P-spline = \".ljust(25), mean_squared_error(df_test[\"y\"].values, SCPspline_pred).round(6))\n",
    "print(\"\".center(50,\"=\"))\n",
    "print(\"Train set\".center(30, \" \"))\n",
    "print(\"MSE-Train B-spline = \".ljust(25), mean_squared_error(df_train[\"y\"].values, B.predict(df_train[\"x\"].values, sol[\"coef_\"], sol[\"knots\"])).round(6))\n",
    "print(\"MSE-Train P-spline = \".ljust(25), mean_squared_error(df_train[\"y\"].values, B.predict(df_train[\"x\"].values, sol_p[\"coef_\"], sol_p[\"knots\"])).round(6))\n",
    "print(\"MSE-Train SC-P-spline = \".ljust(25), mean_squared_error(df_train[\"y\"].values, B.predict(df_train[\"x\"].values, sol_c[\"coef_\"], sol_c[\"knots\"])).round(6))\n",
    "print(\"\".center(50,\"=\"))"
   ]
  },
  {
   "cell_type": "code",
   "execution_count": null,
   "metadata": {},
   "outputs": [],
   "source": [
    "# add the predictions to the dataset and save it\n",
    "xplot = np.linspace(0.1,0.8,1000)\n",
    "yplot = 2*np.exp(-(xplot-0.35)**2/0.01) \n",
    "Bspline_plot = B.predict(xplot, sol[\"coef_\"], sol[\"knots\"])\n",
    "Pspline_plot = B.predict(xplot, sol_p[\"coef_\"], sol_p[\"knots\"])\n",
    "SCPspline_plot = B.predict(xplot, sol_c[\"coef_\"], sol_c[\"knots\"])"
   ]
  },
  {
   "cell_type": "code",
   "execution_count": null,
   "metadata": {},
   "outputs": [],
   "source": [
    "fig = go.Figure()\n",
    "print(\"Knot type: \", knot_type)\n",
    "fig.add_trace(go.Scatter(x=x, y=y, mode=\"markers\", name=\"Training Data\"))\n",
    "fig.add_trace(go.Scatter(x=xplot, y=Bspline_plot, mode=\"lines\", name=\"B-spline on Val Data\"))\n",
    "fig.add_trace(go.Scatter(x=xplot, y=Pspline_plot, mode=\"lines+markers\", name=\"P-spline on Val Data\"))\n",
    "fig.add_trace(go.Scatter(x=xplot, y=SCPspline_plot, mode=\"lines\", name=\"SC-P-spline on Val Data\"))\n",
    "fig.add_trace(go.Scatter(x=xplot, y=yplot, mode=\"lines\", name=\"True Function\"))\n",
    "fig.update_yaxes(range=[-2, 4])"
   ]
  },
  {
   "cell_type": "code",
   "execution_count": null,
   "metadata": {},
   "outputs": [],
   "source": [
    "df_mse = pd.DataFrame(columns=[\"Model\", \"MSEVal\", \"MSEValTrueFunction\"])\n",
    "df_mse[\"Model\"] = [\"B-spline\", \"P-spline\", \"SCP-spline\"]\n",
    "df_mse[\"MSEValTrueFunction\"] = [\n",
    "    mean_squared_error(df_test[\"ytrue\"].values, Bspline_pred).round(6),\n",
    "    mean_squared_error(df_test[\"ytrue\"].values, Pspline_pred).round(6),\n",
    "    mean_squared_error(df_test[\"ytrue\"].values, SCPspline_pred).round(6)]\n",
    "df_mse[\"MSEVal\"] = [\n",
    "    mean_squared_error(df_test[\"y\"].values, Bspline_pred).round(6),\n",
    "    mean_squared_error(df_test[\"y\"].values, Pspline_pred).round(6),\n",
    "    mean_squared_error(df_test[\"y\"].values, SCPspline_pred).round(6)\n",
    "]\n",
    "\n",
    "df_info = pd.DataFrame(columns=[\"Info\", \"Value\"])\n",
    "df_info[\"Info\"] = [\"Nr_splines\", \"Knot_type\", \"Spline_Order\", \"Opt_Lambda\", \"Lambda_c\"]\n",
    "df_info[\"Value\"] = [nr_splines, knot_type, spline_order, opt_lam, lam_c]\n",
    "df_plot_fit = pd.DataFrame(data=dict(xplot=xplot, yplot=yplot,\n",
    "                                     Bspline_fit=Bspline_plot,\n",
    "                                     Pspline_fit=Pspline_plot,\n",
    "                                     SCP_spline_fit=SCPspline_plot))\n",
    "df_plot_data = pd.DataFrame(data=dict(x=x, y=y))\n",
    "\n",
    "#df_mse.to_csv(savePath+f\"mse-{knot_type}.csv\", sep=\",\", index=False)\n",
    "#df_info.to_csv(savePath+f\"info-{knot_type}.txt\", sep=\" \", index=False)\n",
    "#df_plot_data.to_csv(savePath+f\"data-{knot_type}.txt\", sep=\" \", index=False)\n",
    "#df_plot_fit.to_csv(savePath+f\"fit-{knot_type}.txt\", sep=\" \", index=False)"
   ]
  },
  {
   "cell_type": "code",
   "execution_count": null,
   "metadata": {},
   "outputs": [],
   "source": []
  },
  {
   "cell_type": "code",
   "execution_count": null,
   "metadata": {},
   "outputs": [],
   "source": []
  }
 ],
 "metadata": {
  "kernelspec": {
   "display_name": "Python 3.7.6 64-bit ('thesis': conda)",
   "language": "python",
   "name": "python37664bitthesisconda4e23a8f720bf476ebd0f5fe3f9ef6962"
  },
  "language_info": {
   "codemirror_mode": {
    "name": "ipython",
    "version": 3
   },
   "file_extension": ".py",
   "mimetype": "text/x-python",
   "name": "python",
   "nbconvert_exporter": "python",
   "pygments_lexer": "ipython3",
   "version": "3.7.7"
  }
 },
 "nbformat": 4,
 "nbformat_minor": 4
}
