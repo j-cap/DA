{
 "cells": [
  {
   "cell_type": "markdown",
   "metadata": {},
   "source": [
    "**Implementation of the penalty matrices**"
   ]
  },
  {
   "cell_type": "code",
   "execution_count": 3,
   "metadata": {},
   "outputs": [
    {
     "name": "stderr",
     "output_type": "stream",
     "text": [
      "[NbConvertApp] Converting notebook PenaltyMatrices.ipynb to script\n",
      "[NbConvertApp] Writing 2474 bytes to PenaltyMatrices.py\n"
     ]
    }
   ],
   "source": [
    "# convert jupyter notebook to python script\n",
    "#!jupyter nbconvert --to script PenaltyMatrices.ipynb"
   ]
  },
  {
   "cell_type": "code",
   "execution_count": 1,
   "metadata": {},
   "outputs": [],
   "source": [
    "import numpy as np\n",
    "from scipy.sparse import diags\n",
    "\n",
    "class PenaltyMatrix():\n",
    "    \"\"\"Implementation of the various penalty matrices for penalized B-Splines.\"\"\"\n",
    "    def __init__(self, n_param):\n",
    "        self.n_param = n_param\n",
    "        self.D1 = None\n",
    "        self.D2 = None\n",
    "        \n",
    "    def D1_difference_matrix(self, n_param=0, print_shape=False):\n",
    "        \"\"\"Calculated the first order difference matrix.  \n",
    "        \n",
    "        Parameters:\n",
    "        ------------\n",
    "        n_param : integer  - Dimension of the difference matrix, overwrites\n",
    "                             the specified dimension.\n",
    "        print_shape : bool - Prints the dimension of the penalty matrix.\n",
    "        \n",
    "        Returns:\n",
    "        ------------\n",
    "        D1 : ndarray  - a matrix of size [k x k], \n",
    "                        where the last row contains only zeros.\n",
    "        \"\"\"\n",
    "        if n_param == 0:\n",
    "            k = self.n_param\n",
    "        else:\n",
    "            k = n_param\n",
    "        assert (type(k) is int), \"Type of input k must be integer!\"\n",
    "        d = np.array([-1*np.ones(k), np.ones(k)])\n",
    "        offset=[0,1]\n",
    "        D1 = diags(d,offset, dtype=np.int).toarray()\n",
    "        D1[-1:] = 0.\n",
    "        if print_shape:\n",
    "            print(\"Shape of D1-Matrix: {}\".format(D1.shape))\n",
    "        self.D1 = D1\n",
    "        return D1\n",
    "\n",
    "    def D2_difference_matrix(self, n_param=0, print_shape=False):\n",
    "        \"\"\"Calculated the second order difference matrix. \n",
    "\n",
    "        Parameters:\n",
    "        ------------\n",
    "        n_param : integer  - Dimension of the difference matrix, overwrites\n",
    "                             the specified dimension.\n",
    "        print_shape : bool - Prints the dimension of the penalty matrix.\n",
    "        \n",
    "        Returns:\n",
    "        ------------\n",
    "        D2 : ndarray  - a matrix of size [k x k], \n",
    "                        where the last two row contains only zeros.\n",
    "        \"\"\"\n",
    "        if n_param == 0:\n",
    "            k = self.n_param\n",
    "        else:\n",
    "            k = n_param\n",
    "        assert (type(k) is int), \"Type of input k is not integer!\"\n",
    "        d = np.array([np.ones(k), -2*np.ones(k), np.ones(k)])\n",
    "        offset=[0,1,2]\n",
    "        D2 = diags(d,offset, dtype=np.int).toarray()\n",
    "        D2[-2:] = 0.\n",
    "        if print_shape:\n",
    "            print(\"Shape of D2-Matrix: {}\".format(D2.shape))\n",
    "        self.D2 = D2\n",
    "        return D2\n",
    "    "
   ]
  },
  {
   "cell_type": "code",
   "execution_count": null,
   "metadata": {},
   "outputs": [],
   "source": []
  }
 ],
 "metadata": {
  "kernelspec": {
   "display_name": "Python 3",
   "language": "python",
   "name": "python3"
  },
  "language_info": {
   "codemirror_mode": {
    "name": "ipython",
    "version": 3
   },
   "file_extension": ".py",
   "mimetype": "text/x-python",
   "name": "python",
   "nbconvert_exporter": "python",
   "pygments_lexer": "ipython3",
   "version": "3.7.7"
  }
 },
 "nbformat": 4,
 "nbformat_minor": 4
}
