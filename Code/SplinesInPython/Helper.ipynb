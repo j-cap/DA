{
 "cells": [
  {
   "cell_type": "markdown",
   "metadata": {},
   "source": [
    "**Little functions which help**"
   ]
  },
  {
   "cell_type": "code",
   "execution_count": null,
   "metadata": {},
   "outputs": [],
   "source": [
    "# add a vertical line to a plotly plot\n",
    "import plotly.graph_object as go\n",
    "\n",
    "def addVertLinePlotly(fig, x0=0, y0=0, y1=1):\n",
    "    \"\"\" plots a vertical line to the given figure at position x\"\"\"\n",
    "    fig.add_shape(dict(type=\"line\", x0=x0, x1=x0, y0=y0, y1=1.2*y1, \n",
    "                       line=dict(color=\"LightSeaGreen\", width=1)))\n",
    "    return"
   ]
  },
  {
   "cell_type": "code",
   "execution_count": null,
   "metadata": {},
   "outputs": [],
   "source": [
    "# check if x1 is none, if x2 is ndarray, use it\n",
    "def check_if_none(x1, x2, cls):\n",
    "    if x1 is None:\n",
    "        if type(x2) is None:\n",
    "            print(\"Type of x: \", type(x))\n",
    "            print(\"Include data for 'x'!\")\n",
    "            return    \n",
    "        elif type(x2) is np.ndarray:\n",
    "            print(\"use this\")\n",
    "            #pass\n",
    "            cls.x = x2\n",
    "        else:\n",
    "            print(\"Datatype for 'x' not supported!\")\n",
    "            return\n",
    "    else:\n",
    "        print(\"'x' from initialization is used\")\n",
    "    return"
   ]
  },
  {
   "cell_type": "code",
   "execution_count": 17,
   "metadata": {},
   "outputs": [],
   "source": [
    "#import numpy as np\n",
    "#x1 = np.array([])\n",
    "#x2 = np.array([])\n",
    "##check_if_none(None, x2)\n",
    "#from ClassBSplines import BSpline\n",
    "#B = BSpline()\n",
    "#check_if_none(B.x, x2, B)\n",
    "#B.x"
   ]
  }
 ],
 "metadata": {
  "kernelspec": {
   "display_name": "Python 3",
   "language": "python",
   "name": "python3"
  },
  "language_info": {
   "codemirror_mode": {
    "name": "ipython",
    "version": 3
   },
   "file_extension": ".py",
   "mimetype": "text/x-python",
   "name": "python",
   "nbconvert_exporter": "python",
   "pygments_lexer": "ipython3",
   "version": "3.7.7"
  }
 },
 "nbformat": 4,
 "nbformat_minor": 4
}
