{
 "cells": [
  {
   "cell_type": "code",
   "execution_count": null,
   "metadata": {},
   "outputs": [],
   "source": [
    "import plotly.graph_object as go\n",
    "\n",
    "def addVertLinePlotly(fig, x0=0, y0=0, y1=1):\n",
    "    \"\"\" plots a vertical line to the given figure at position x\"\"\"\n",
    "    fig.add_shape(dict(type=\"line\", x0=x0, x1=x0, y0=y0, y1=1.2*y1, \n",
    "                       line=dict(color=\"LightSeaGreen\", width=1)))\n",
    "    return"
   ]
  }
 ],
 "metadata": {
  "kernelspec": {
   "display_name": "Python 3",
   "language": "python",
   "name": "python3"
  },
  "language_info": {
   "codemirror_mode": {
    "name": "ipython",
    "version": 3
   },
   "file_extension": ".py",
   "mimetype": "text/x-python",
   "name": "python",
   "nbconvert_exporter": "python",
   "pygments_lexer": "ipython3",
   "version": "3.7.7"
  }
 },
 "nbformat": 4,
 "nbformat_minor": 4
}
