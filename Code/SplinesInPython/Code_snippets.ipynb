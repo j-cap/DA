{
 "cells": [
  {
   "cell_type": "markdown",
   "metadata": {},
   "source": [
    "### File for saving usefull code snippets for\n",
    "\n",
    "- Plotting\n",
    "- Fast calculations\n",
    "- Test"
   ]
  },
  {
   "cell_type": "code",
   "execution_count": 8,
   "metadata": {},
   "outputs": [
    {
     "name": "stderr",
     "output_type": "stream",
     "text": [
      "[NbConvertApp] Converting notebook Code_snippets.ipynb to script\n",
      "[NbConvertApp] Writing 1930 bytes to Code_snippets.py\n"
     ]
    }
   ],
   "source": [
    "# convert jupyter notebook to python script\n",
    "!jupyter nbconvert --to script Code_snippets.ipynb"
   ]
  },
  {
   "cell_type": "code",
   "execution_count": 1,
   "metadata": {},
   "outputs": [],
   "source": [
    "# add a vertical line to a plotly plot\n",
    "import plotly.graph_objects as go\n",
    "\n",
    "def addVertLinePlotly(fig, x0=0, y0=0, y1=1):\n",
    "    \"\"\" plots a vertical line to the given figure at position x\"\"\"\n",
    "    fig.add_shape(dict(type=\"line\", x0=x0, x1=x0, y0=y0, y1=1.2*y1, \n",
    "                       line=dict(color=\"LightSeaGreen\", width=1)))\n",
    "    return"
   ]
  },
  {
   "cell_type": "code",
   "execution_count": 5,
   "metadata": {},
   "outputs": [],
   "source": [
    "def find_peak_and_basis(x=None, y=None):\n",
    "    import numpy as np\n",
    "    import plotly.graph_objects as go\n",
    "    import plotly.express as px\n",
    "    from scipy.signal import find_peaks\n",
    "    from Smooth import Smooths\n",
    "    \n",
    "    np.random.seed(42)\n",
    "\n",
    "    if x is None and y is None:\n",
    "        x = np.linspace(-3,3,1000)\n",
    "        y = np.sin(x) + 0.1*np.random.randn(len(x))\n",
    "    \n",
    "    peaks, properties = find_peaks(y, distance=int(len(x)))\n",
    "    x_peak, y_peak = x[peaks], y[peaks]\n",
    "\n",
    "    s = Smooths(x_data=x, n_param=20)\n",
    "\n",
    "    s.basis[peaks]\n",
    "\n",
    "\n",
    "\n",
    "    fig = go.Figure()\n",
    "    for i in range(s.basis.shape[1]):\n",
    "        fig.add_trace(go.Scatter(x=s.x, y=s.basis[:,i], \n",
    "                                 name=f\"BSpline {i+1}\", mode=\"lines\"))\n",
    "    for i in s.knots:\n",
    "        addVertLinePlotly(fig, x0=i)\n",
    "\n",
    "    fig.add_trace(go.Scatter(x=x, y=y, mode=\"markers\", name=\"Data\"))\n",
    "    fig.add_trace(\n",
    "        go.Scatter(\n",
    "            mode=\"markers\",\n",
    "            x=x_peak, \n",
    "            y=y_peak,\n",
    "            marker=dict(color=\"red\", size=18, line=dict(color=\"DarkSlateGrey\", width=2)),\n",
    "            name=\"Peak Locations\"\n",
    "        )\n",
    "\n",
    "    )   \n",
    "    fig.show()"
   ]
  },
  {
   "cell_type": "code",
   "execution_count": 6,
   "metadata": {},
   "outputs": [],
   "source": [
    "def test__find_peak_and_pasis():\n",
    "    import numpy as np\n",
    "    x = np.linspace(-3,3,1000)\n",
    "    y = np.sin(x) + 0.1*np.random.randn(len(x))\n",
    "\n",
    "    find_peak_and_basis(x=x, y=y)\n"
   ]
  },
  {
   "cell_type": "code",
   "execution_count": null,
   "metadata": {},
   "outputs": [],
   "source": []
  }
 ],
 "metadata": {
  "kernelspec": {
   "display_name": "Python 3",
   "language": "python",
   "name": "python3"
  },
  "language_info": {
   "codemirror_mode": {
    "name": "ipython",
    "version": 3
   },
   "file_extension": ".py",
   "mimetype": "text/x-python",
   "name": "python",
   "nbconvert_exporter": "python",
   "pygments_lexer": "ipython3",
   "version": "3.7.6"
  }
 },
 "nbformat": 4,
 "nbformat_minor": 4
}
