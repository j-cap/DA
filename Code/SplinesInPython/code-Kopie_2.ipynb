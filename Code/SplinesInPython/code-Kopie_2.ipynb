import plotly.express as px
import plotly.graph_objects as go
from plotly.subplots import make_subplots
import numpy as np
np.random.seed(42)

import numpy as np
import pandas as pd
from numpy.linalg import lstsq, cholesky
from scipy.linalg import sqrtm, schur
from sklearn.model_selection import train_test_split
from sklearn.metrics import mean_squared_error
from sklearn.preprocessing import MinMaxScaler, StandardScaler

from ClassBSplines import BSpline
from TensorProductSplines import TensorProductSpline
from PenaltyMatrices import PenaltyMatrix
from Smooth import Smooths as s

from ClassBSplines import BSpline as b
from TensorProductSplines import TensorProductSpline as t

class Model():
    
    possible_penalties = { "smooth": PenaltyMatrix().D2_difference_matrix, 
                           "inc": PenaltyMatrix().D1_difference_matrix,
                           "dec": PenaltyMatrix().D1_difference_matrix,
                           "conc": PenaltyMatrix().D2_difference_matrix, 
                           "conv": PenaltyMatrix().D2_difference_matrix,
                           "peak": None }
    
    def __init__(self, descr, n_param=20):
        """
        descr : tuple - ever entry describens one part of 
                        the model, e.g.
                        descr =( (s(0), 10),
                                  (s(1), 15), 
                                  (t(0,1), 5) 
                               )
                        with the scheme: (type of smooth, number of knots)
        
        !!! currently only smooths with BSpline basis !!!
        """
        self.description_str = descr
        self.coef_ = None
        self.n_param = n_param
        self.description_dict = { t: (p, n) for t, p, n  in self.description_str}
        self.smooths = None

    def create_basis(self, X, n_param=10):
        """Create the unpenalized BSpline basis for the data X.
        
        Parameters:
        ------------
        X : np.ndarray - data
        n_param : int  - number of parameters for the spline basis 
        
        """
        if len(self.description_str) == X.shape[1]:
            pass
        else:
            print("Number of specified smooths must match number of columns in X!")
            print("Nr of smooths = ", len(self.description_str))
            print("Nr of columns in X = ", X.shape[1])
            return
        
        self.n_param = n_param       
        self.smooths = [ 
            s(x_data=X_norm[:, int(k[2])-1], 
            n_param=int(v[1]), 
            penalty=v[0]) for k, v in self.description_dict.items()
        ]    
        self.basis_without_penalty = np.concatenate([smooth.basis for smooth in self.smooths], axis=1) 
        
        return 
    
    def create_basis_with_penalty_and_weight(self, X):
        """Create the penalty matrices specified in self.description_str.
        
        Parameters:
        ---------------
        X : np.ndarray  - data
        
        TODO:
            [ ]  include the weights !!! 
        
        """
        
        pm = []
        if self.smooths is None:
            print("Run Model.create_basis() first!")
            return
            
        self.basis_with_penalty = np.concatenate(
            [np.vstack(
                (smooth.basis, smooth.penalty_matrix.T @ smooth.penalty_matrix)
            ) for smooth in M.smooths
            ], axis=1
        )
       
        return
        
    def fit(self, X, y, plot_=True, lam=None):
        """Lstsq fit try 2 using Smooths.
        
        Parameters:
        -------------
        X : pd.DataFrame or np.ndarray
        y : pd.DataFrame or np.array
        plot_ : boolean
        
        """
        print("Include one lambda per penalty!")
        if lam is None:
            lam = np.random.random(X.shape[1])
        else:
            print("Number of lambdas: ", len(lam))
        self.create_basis(X, n_param=self.n_param, lam=lam)
        if type(y) is pd.core.frame.DataFrame:
            y = y.values
                
        length_diff = int(self.basis_with_penalty.shape[0]) - y.shape[0]
        if length_diff == 0:
            y_fit = y
        else:
            #print("Shape y:", y.shape)
            #print("Shape padding: ", np.zeros((length_diff, 1)).shape)
            y_fit = np.append(y, np.zeros((length_diff, 1)))
          
        print(f"\n Shape of the finale basis with penalty: {self.basis_with_penalty.shape}")
        
        fitting = lstsq(a=self.basis_with_penalty, b=y_fit, rcond=None)
        self.coef_ = fitting[0]
        fitting = (*fitting, self.basis_without_penalty @ self.coef_)
    
        self.mse = mean_squared_error(y, fitting[-1])
        print(f"Mean squared error: {np.round(self.mse, 4)}")
        
        if plot_:
            fig = self.plot_xy(x=X[:,0], y=y.reshape((-1,)), name="Data")
            fig.add_trace(go.Scatter(x=X[:,0], y=fitting[-1], name="Fit", mode="markers"))
            fig.show()
        return fitting
    
    def predict(self, X, y=None, plot_=False):
        """Prediction of the trained model on the data in X."""
        if self.coef_ is None:
            print("Model untrained!")
            return
        
        self.create_basis(X, n_param=self.n_param, penalty=None)
        # prediction_basis, pad_y = self.multiple_smooths(X.values)
        #if pad_y is False:
        #    pass
        #else:
        #    prediction_basis = prediction_basis[:-len(pad_y)]
        
        print("Shape prediction basis: ", self.basis_without_penalty.shape)
        print("Shape coef_: ", self.coef_.shape)
        pred = self.basis_without_penalty @ self.coef_
        if plot_:
            fig = self.plot_xy(x=X[:,0], y=pred, name="Prediction")
            if type(y) is not None:
                print("shape y: ", y.shape)
                fig.add_trace(go.Scatter(x=X[:,0], y=y.reshape((-1,)), name="Data", mode="markers"))
            fig.show()
        return pred
    
    def plot_xy(self, x, y, title="Titel", name="Data", xlabel="xlabel", ylabel="ylabel"):
        """Basic plotting function."""
        fig = go.Figure()
        fig.add_trace(go.Scatter(x=x, y=y, name=name, mode="markers"))
        fig.update_layout(title=title)
        fig.update_xaxes(title=xlabel)
        fig.update_yaxes(title=ylabel)
        return fig
    
    def plot_basis(self, matrix):
        """Plot the matrix."""
        fig = go.Figure(go.Image(z=matrix)).show()
        return
                        
      
    
def isSPD(matrix):
    try:
        np.linalg.cholesky(matrix)
        return True
    except np.linalg.LinAlgError as err:
        return False
    
def check_constraint(beta, constraint, print_idx=False):
    """Checks if beta fits the constraint."""
    V = np.zeros((len(beta), len(beta)))
    beta_diff = np.diff(beta)
    if constraint is "inc":
        v = [0 if i > 0 else 1 for i in beta_diff]
    elif constraint is "dec":
        v = [0 if i < 0 else 1 for i in beta_diff]
    V[:-1,:-1] = np.diag(v)
    if print_idx:
        print("Constraint violated at the followin indices: ")
        print([idx for idx, n in enumerate(v) if n == 1])
    return V
    
    
    