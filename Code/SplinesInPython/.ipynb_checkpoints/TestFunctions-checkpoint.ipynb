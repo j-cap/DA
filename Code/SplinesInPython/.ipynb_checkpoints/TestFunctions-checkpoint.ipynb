{
 "cells": [
  {
   "cell_type": "markdown",
   "metadata": {},
   "source": [
    "### Implementation of some test functions\n",
    "\n",
    "This is the Jupyter notebook which implements the class TestFunctions with 4 different functions. Further work could be done on some plotting functionality."
   ]
  },
  {
   "cell_type": "code",
   "execution_count": null,
   "metadata": {},
   "outputs": [],
   "source": [
    "import numpy as np\n",
    "\n",
    "class TestFunctions():\n",
    "    \"\"\"\n",
    "    Collection of test functions.\n",
    "    \n",
    "    ...\n",
    "    \n",
    "    Attributes\n",
    "    ----------\n",
    "    x1_min : float\n",
    "             Minimum value of axis 1. \n",
    "    x1_max : float\n",
    "             Maximum value of axis 1.\n",
    "    x2_min : float\n",
    "             Minimum value of axis 2.\n",
    "    x2_max : float\n",
    "             Maximum value of axis 2.\n",
    "    n_samples : int\n",
    "                Number of samples to evaluate\n",
    "    noise_level : float\n",
    "                  Specify the magnitude of noise influence.\n",
    "    \n",
    "\n",
    "    Methods\n",
    "    ---------\n",
    "    f1(x)\n",
    "        tanh + exp + noise\n",
    "    f2( )\n",
    "        peak + noise (optional)\n",
    "    f3(x)\n",
    "        sin + linear part + noise\n",
    "    f4(x1, x2)\n",
    "        affensattel\n",
    "    \"\"\"\n",
    "    def __init__(self, x1_min=0, x1_max=1, x2_min=0, x2_max=1, n_samples=1000, noise_level=0.25):\n",
    "        self.x1_min = x1_min\n",
    "        self.x1_max = x1_max\n",
    "        self.x2_min = x2_min\n",
    "        self.x2_max = x2_max\n",
    "        self.n_samples = n_samples\n",
    "        self.noise_level = noise_level\n",
    "        \n",
    "    def f1(self):\n",
    "        x = np.linspace(self.x1_min, self.x1_max, self.n_samples)\n",
    "        y = np.tanh(-(x-5)) + np.exp(-(x)**2) + np.random.randn(len(x))*self.noise_level\n",
    "        return x, y\n",
    "    \n",
    "    def f2(self, a=1, b=1):\n",
    "        x = np.linspace(self.x1_min, self.x1_max, self.n_samples)\n",
    "        y = a / (1 + (b*x)**2) + np.random.randn(len(x))*self.noise_level\n",
    "        return x, y\n",
    "    \n",
    "    def f3(self): \n",
    "        x = np.linspace(self.x1_min, self.x1_max, self.n_samples)\n",
    "        y = 0.5*np.sin(x) + 3.5*np.linspace(0,1,len(x)) + np.random.randn(len(x))*self.noise_level\n",
    "        return x, y\n",
    "    \n",
    "    def f4(self, grid=True):\n",
    "        \"\"\"Evaluate the 2-d function on a grid \"\"\"\n",
    "        x1 = np.linspace(self.x1_min, self.x1_max, self.n_samples)\n",
    "        x2 = np.linspace(self.x2_min, self.x2_max, self.n_samples)\n",
    "        y = x1**3 - 3*x1*x2**2 + np.random.randn(len(x1))*self.noise_level\n",
    "        return x, y\n"
   ]
  },
  {
   "cell_type": "code",
   "execution_count": null,
   "metadata": {},
   "outputs": [],
   "source": [
    "#!jupyter nbconvert --to script TestFunctions.ipynb"
   ]
  },
  {
   "cell_type": "code",
   "execution_count": null,
   "metadata": {},
   "outputs": [],
   "source": []
  }
 ],
 "metadata": {
  "kernelspec": {
   "display_name": "Python 3",
   "language": "python",
   "name": "python3"
  },
  "language_info": {
   "codemirror_mode": {
    "name": "ipython",
    "version": 3
   },
   "file_extension": ".py",
   "mimetype": "text/x-python",
   "name": "python",
   "nbconvert_exporter": "python",
   "pygments_lexer": "ipython3",
   "version": "3.7.7"
  }
 },
 "nbformat": 4,
 "nbformat_minor": 4
}
