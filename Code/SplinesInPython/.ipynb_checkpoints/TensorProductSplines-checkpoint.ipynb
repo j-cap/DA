{
 "cells": [
  {
   "cell_type": "markdown",
   "metadata": {},
   "source": [
    "**Tensor product spline implementation**"
   ]
  },
  {
   "cell_type": "code",
   "execution_count": 9,
   "metadata": {},
   "outputs": [
    {
     "name": "stderr",
     "output_type": "stream",
     "text": [
      "[NbConvertApp] Converting notebook TensorProductSplines.ipynb to script\n",
      "[NbConvertApp] Writing 2550 bytes to TensorProductSplines.py\n"
     ]
    }
   ],
   "source": [
    "# convert jupyter notebook to python script\n",
    "!jupyter nbconvert --to script TensorProductSplines.ipynb"
   ]
  },
  {
   "cell_type": "code",
   "execution_count": 4,
   "metadata": {},
   "outputs": [],
   "source": [
    "import numpy as np\n",
    "import plotly.graph_objects as go\n",
    "\n",
    "from scipy.sparse import kron\n",
    "\n",
    "from ClassBSplines import BSpline\n",
    "from PenaltyMatrices import PenaltyMatrix\n",
    "\n",
    "\n",
    "class TensorProductSpline(BSpline):\n",
    "    \"\"\"Implementation of the tensor product spline according to Simon Wood, 2006.\"\"\"\n",
    "    \n",
    "    def __init__(self, x1=None, x2=None):\n",
    "        \"\"\"It is important that len(x1) == len(x2).\"\"\"\n",
    "        self.x1 = x1\n",
    "        self.x2 = x2\n",
    "        self.basis = None\n",
    "        \n",
    "    def tensor_product_spline_2d(self, k1=5, k2=5, print_shapes=False):\n",
    "        \"\"\"Calculate the TPS from two 1d B-splines.\n",
    "        \n",
    "        Parameters:\n",
    "        -------------\n",
    "        k1 : integer   - Number of knots for the first B-spline.\n",
    "        k2 : integer   - Number of knots for the second B-Spline.\n",
    "        print_shape : bool - prints the dimensions of the basis matrices.\n",
    "        \n",
    "        \"\"\"\n",
    "        self.k1 = k1\n",
    "        self.k2 = k2\n",
    "        BSpline_x1 = BSpline(self.x1)\n",
    "        BSpline_x2 = BSpline(self.x2)\n",
    "        BSpline_x1.b_spline_basis(k=self.k1)\n",
    "        BSpline_x2.b_spline_basis(k=self.k2)\n",
    "        self.X1 = BSpline_x1.basis\n",
    "        self.X2 = BSpline_x2.basis\n",
    "        self.basis = kron(self.X1, self.X2).toarray()\n",
    "\n",
    "        if print_shapes:\n",
    "            print(\"Shape of the first basis: \", self.X1.shape)\n",
    "            print(\"Shape of the second basis: \", self.X2.shape)\n",
    "            print(\"Shape of the tensor product basis: \", self.basis.shape)\n",
    "        return\n",
    "        \n",
    "    def plot_basis(self):\n",
    "        \"\"\"Plot the tensor product spline basis matrix for a 2d TPS.\"\"\"\n",
    "        fig = go.Figure()\n",
    "        x1g, x2g = np.meshgrid(self.x1, self.x2)\n",
    "        #print(\"x1g: \", x1g.shape)\n",
    "        #print(\"x2g: \", x2g.shape)\n",
    "        for i in range(self.basis.shape[1]):\n",
    "            fig.add_trace(\n",
    "                go.Surface(\n",
    "                    x=x1g, y=x2g,\n",
    "                    z=self.basis[:,i].reshape((self.X2.shape[0], self.X1.shape[0])),\n",
    "                    name=f\"TPS Basis {i+1}\",\n",
    "                    showscale=False\n",
    "                )\n",
    "            )\n",
    "                \n",
    "        fig.update_layout(\n",
    "            scene=dict(\n",
    "                xaxis_title=\"x1\",\n",
    "                yaxis_title=\"x2\",\n",
    "                zaxis_title=\"\"\n",
    "            ),\n",
    "            title=\"Tensor product spline basis\", \n",
    "        )\n",
    "        fig.show()\n",
    "        return\n"
   ]
  }
 ],
 "metadata": {
  "kernelspec": {
   "display_name": "Python 3",
   "language": "python",
   "name": "python3"
  },
  "language_info": {
   "codemirror_mode": {
    "name": "ipython",
    "version": 3
   },
   "file_extension": ".py",
   "mimetype": "text/x-python",
   "name": "python",
   "nbconvert_exporter": "python",
   "pygments_lexer": "ipython3",
   "version": "3.7.7"
  }
 },
 "nbformat": 4,
 "nbformat_minor": 4
}
