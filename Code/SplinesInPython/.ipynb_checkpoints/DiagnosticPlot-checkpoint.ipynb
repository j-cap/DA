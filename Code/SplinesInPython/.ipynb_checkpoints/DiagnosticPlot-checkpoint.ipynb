{
 "cells": [
  {
   "cell_type": "code",
   "execution_count": 10,
   "metadata": {},
   "outputs": [
    {
     "name": "stderr",
     "output_type": "stream",
     "text": [
      "[NbConvertApp] Converting notebook DiagnosticPlot.ipynb to script\n",
      "[NbConvertApp] Writing 668 bytes to DiagnosticPlot.py\n"
     ]
    }
   ],
   "source": [
    "# convert jupyter notebook to python script\n",
    "!jupyter nbconvert --to script DiagnosticPlot.ipynb"
   ]
  },
  {
   "cell_type": "code",
   "execution_count": 9,
   "metadata": {},
   "outputs": [],
   "source": [
    "import plotly.graph_objects as go\n",
    "    \n",
    "    \n",
    "class DiagnosticPlotter():\n",
    "    \"\"\" DiagnosticPlotter class. \"\"\"\n",
    "    \n",
    "    def __init__(self):\n",
    "        \n",
    "        pass\n",
    "    \n",
    "    def bar_chart_of_coefficient_dataframe(self, df):\n",
    "        \"\"\"Takes the dataframe Model.df_beta and plots a bar chart of the rows. \"\"\"\n",
    "        \n",
    "        fig = go.Figure()\n",
    "        x = np.arange(df.shape[1])\n",
    "        \n",
    "        for i in range(df.shape[0]):\n",
    "            fig.add_trace(go.Bar(x=x, y=df.iloc[i], name=f\"Iteration {i}\"))\n",
    "\n",
    "        fig.update_layout(title=\"Parameter change\", )\n",
    "        fig.show()\n",
    "        \n",
    "        "
   ]
  },
  {
   "cell_type": "code",
   "execution_count": null,
   "metadata": {},
   "outputs": [],
   "source": []
  }
 ],
 "metadata": {
  "kernelspec": {
   "display_name": "Python 3",
   "language": "python",
   "name": "python3"
  },
  "language_info": {
   "codemirror_mode": {
    "name": "ipython",
    "version": 3
   },
   "file_extension": ".py",
   "mimetype": "text/x-python",
   "name": "python",
   "nbconvert_exporter": "python",
   "pygments_lexer": "ipython3",
   "version": "3.7.6"
  }
 },
 "nbformat": 4,
 "nbformat_minor": 4
}
