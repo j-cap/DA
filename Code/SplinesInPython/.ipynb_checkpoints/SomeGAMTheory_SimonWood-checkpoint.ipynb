{
 "cells": [
  {
   "cell_type": "markdown",
   "metadata": {},
   "source": [
    "## Chapter 4 Some GAM theory\n",
    "\n",
    "The problem of estimation a GAM becomes the problem of estimation *smoothing parameters* $\\lambda_i$ and *model coefficients* $\\beta_i$ for a *penalized liklehood maximization problem* once a *basis* for the smooth functions and a *measure of function wiggliness* has been chosen. In practice, this is solved by *P-IRLS*, while the smoothing parameters can be estimated using cross validation or related criteria. \n",
    "\n",
    "The methods discussed here are almost all built around penalized regression smoothers, based on splines. Some sources are\n",
    "\n",
    "- Wahba (1980) - groudwork on penalized regression smoothers\n",
    "- de Boor (1978) - introduced B-splines\n",
    "- Parker and Rice (1985) - groundwork on penalized regression smoothers\n",
    "- Hastie and Tibshirani (1990) - use P-Splines in the GAM context\n",
    "- Marx and Eilers (1998) - new impetus\n",
    "\n",
    "The main components of the framework for generalized additive modelling are covered in this chapter. \n",
    "\n",
    "#### 4.1 Smoothing bases\n",
    "For simplicity of presentation, only one very simple type of penalized regression smoother was presented in Chapter 3. For practical work a variety of alternative smoothers are available, and this section introduces a useful subset of the possibilities, starting with smooths of one covariate, and then moving on to smooths of one or more covariates. Since all the smooths presented are based on splines (although the tensor product smooths need not be), the section starts by addressing the question: what’s so special about splines?\n",
    "\n",
    "##### 4.1.1 Why splines?\n",
    "Some theoretical properties that make cubic splines appealing for penalized regression, first in the concext of interpolation, and then of smoothing.\n",
    "\n",
    "**Natural cubic splines are smoothest interpolators** \\\n",
    "Consider a set of points $\\{ x_i, y_i: i=1,...,n\\}$ where $x_i < x_{i+1}$. The *natural cubic spline*, $g(x)$, interpolating these points, is a function made up of sections of cubic polynomial, one for each $[x_i, x_{i+1}]$, which are joined together so that the whole spline is continous to second derivative, while $g(x_i) = y_i$ and $g''(x_1) = g''(x_n) = 0$.\n",
    "\n",
    "Of all functions that are continous on $[x_1, x_n]$, have continous first derivatives and interpolate $\\{x_i, y_i\\}$, the natural cubic spline $g(x)$ is the smoothest in the sense of minimizing\n",
    "$$\n",
    "    J(f) = \\int_{x_1}^{x_n} f''(x)^2 dx. \n",
    "$$\n",
    "The prove is given by Green and Silverman (1994), based on the original work of Schoenberg (1964). In de Boor (1978, Cha. 5) a number of results are presented showing that cubic spline interpolation is optimal, or at least very good.\n",
    "\n",
    "**Cubic smoothing splines** \\\n",
    "Usually $y_i$ is measured with noise, and it is generally more useful to smooth $\\{x_i, y_i\\}$ data, rather that interpolating them. Rather than setting $g(x_i) = y_i$, it might be better to treat the $g(x_i)$ as $n$ free parameters of a cubic spline, and to estimate them in order to minimize\n",
    "$$\n",
    "    \\sum_{i=1}^n \\big( y_i - g(x_i)\\big)^2 + \\lambda \\int g''(x)^2 dx, \n",
    "$$\n",
    "where $\\lambda$ is a tuneable parameter controling the relative weight of the conflicting goals of matching the data and producing a smooth $g$. The result $g(x)$ is a *smoothing spline* (Reinsch, 1967). Of all functions, that are continuous on $[x_1, x_n]$ and have cont. first derivatives, $g(x)$ is the function minimizing:\n",
    "$$\n",
    "    \\sum_{i=1}^n \\big( y_i - f(x_i)\\big)^2 + \\lambda \\int f''(x)^2 dx. \\quad (4.1)\n",
    "$$\n",
    "Smoothing splines seem to be ideal smoothers. The only problem is that they have as many free parameters as there are data to be smoothed. This is a problem as soon as we try to deal with more covariates/dimensions.\n",
    "\n",
    "An obvious compromise between retaining the good properties of splines, and computational efficiency, is to use penalized regression splines, as introduced in Chapter 3. At its simplest, this involves constructing a spline basis (and associated penalties) for a much smaller data-set than the one to be analyzed, and then using that basis\n",
    "(plus penalties) to model the original data set. The covariate values in the smaller data set should be arranged to nicely cover the distribution of covariate values in the original data set. This penalized regression spline idea is presented in Wahba (1980) and Parker and Rice (1985), for example. In the rest of this section, some spline based\n",
    "penalized regression smoothers will be presented, starting with univariate smoothers, and then moving on to smooths of several variables.\n",
    "\n",
    "##### 4.1.2 Cubic regression splines\n",
    "One approach is to parametrize the spline in terms of its values at the knots. Consider defining a cubic spline function, $f(x)$ with $k$ knots, $x_1,..., x_k$. Let $\\beta_j = f(x_j)$ and $\\delta_j = f''(x_j)$. Then the spline can be written as\n",
    "$$\n",
    "    f(x) = a_j^-(x)\\beta_j + a_j^+ \\beta_{j+1} + c_j^-(x) \\delta_j + c_j^+(x) \\delta_{j+1} \\quad if \\ x_j \\le x \\le x_{j+1} \\quad (4.2)\n",
    "$$\n",
    "for some special form of $a$ and $c$ given in the following figure. ![](img/wood-cubic-spline-coeff.png) \n",
    "With some work, the spline can be re-written entirely in terms of $\\beta$, which can then be re-written as \n",
    "$$\n",
    "    f(x) = \\sum_{i=1}^k b_i(x) \\beta_i.\n",
    "$$\n",
    "Hence, given a set of $x$ values at which to evaluate the spline, it is easy to obtain a model matrix mapping $\\beta$ to the evaluated spline. It is important to notice that in addition to having directly interpretable parameters, this basis does not require any re-scaling of the predictor variables before it can be used to construct a GAM. One only needs to choose the locations of the knots $x_j$. \n",
    "\n",
    "##### 4.1.3 Cyclic cubic regression splines\n",
    "It is quite often appropriate for a model smooth function to be 'cyclic', meaning that the function has the same value and first few derviatives at its upper and lower boundaries. The penalized cubic regression spline can be modified to produce such a smooth. The spline can still be written in the form of (4.2), but we now have that $\\beta_1 = \\beta_k$ and $\\delta_1 = \\delta_k$\n",
    "\n",
    "##### 4.1.4 P-splines\n",
    "Yet another way to represent cubic splines (and indeed splines of higher or lower order), is by use of the **B-spline basis**. The B-spline basis is appealing because the basis functions are strictly local - each basis function is only non-zero over the intervals between $m + 3$ adjacent knots, where $m + 1$ is the order of the basis (e.g. $m = 2$ for a cubic spline). To define a $k$ parameter B-spline basis, we need to define $k+m+1$ knots, $x_1 < x_2 < . . . < x_{k+m+1}$, where the interval over which the spline is to be evaluated lies within $[x_{m+2}, x_k]$ (so that the first and last $m+1$ knot locations are essentially arbitrary). An $(m+1)^{th}$ order spline can be represented as\n",
    "$$\n",
    "    f(x) = \\sum_{i*1}^k B_i^m(x) \\beta_i,\n",
    "$$\n",
    "where the B-spline basis functions are most conveniently defined recursively as follows:\n",
    "$$\n",
    "    B_i^m(x) = \\frac{x - x_i}{x_{i+m+1} - x_i} B_i^{m-1}(x) + \\frac{x_{i+m+2} - x}{x_{i+m+2} - x_{i+1}} B_{i+1}^{m-1}(x), \\quad i=1,...k\n",
    "$$\n",
    "and\n",
    "$$\n",
    "    B_i^{-1}(x) = \\begin{cases}\n",
    "                    1 \\quad if  \\ x_i \\le x < x_{i+1} \\\\\n",
    "                    0 \\quad else \n",
    "                  \\end{cases}\n",
    "$$\n",
    "(see e.g. de Boor 1978). \n",
    "\n",
    "B-splines were developed by de Boor as a very stable basis for large scale spline interpolation, but for most statistical work with low rank penalized regression spline, you would have to be using very poor numerical methods before the enhanced stability of the basis became noticable. The real statistical interest in B-splines has resulted from the work of Eilers and Marx (1996) in using them to develop what they term *P-splines*.\n",
    "\n",
    "P-splines are low rank smoothers using a B-spline basis, usually defined on evenly spaced knots, and a difference penalty applied directly to the parameters $\\beta_i$ to control function wiggliness. If the squared difference between adjacent $\\beta_i$ values are penalized then the penalty would be\n",
    "$$\n",
    "    \\mathcal P = \\sum_{i=1}^{k-1} (\\beta_{i+1} - \\beta_i)^2 = \\beta_1^2 - 2 \\beta_1 \\beta_2 + 2 \\beta_2^2 - 2\\beta_2 \\beta_3 + ... + \\beta_k^2,\n",
    "$$\n",
    "and it is straightforward to see that this can be written as\n",
    "$$\n",
    "    \\mathcal P = \\beta^T \\begin{bmatrix} 1 & -1 &  0& .& . \\\\\n",
    "                                        -1 &  2 & -1& .& . \\\\\n",
    "                                         0 & -1 &  2& .& . \\\\\n",
    "                                         . &  . &  .& .& . \\\\\n",
    "                                         . &  . &  .& .& .\n",
    "                         \\end{bmatrix} \\beta. \n",
    "$$\n",
    "Higher order penalties are also possible.\n",
    "\n",
    "P-splines are extremely easy to set up and use, and allow a good deal of flexibility, in that any order of penalty can be combined with any order of B-spline basis. Their disadvantage is that the simplicity is somewhat diminished if uneven knot spacing is required and that the penalties are less easy to interpret in terms of properties of fitted smooth than the more usual spline penalites. \n",
    "\n",
    "* [ ] Exercise 7\n",
    "* [ ] Exercise 9 \n",
    "##### 4.1.5 Thin plate regression splines\n",
    "The bases covered so far are each useful in practice, but are open to some criticism:\n",
    "\n",
    "1. necessary to choose knot locations -> extra degree of subjectivity\n",
    "2. only useful representing smooths of one predictor variable\n",
    "3. not clear to what extend this bases are better or worse than any other basis that might be used\n",
    "\n",
    "**Thin plate splines**\n",
    "Introduced by Duchon (1977). Very elegnat and general solution to the problem of estimating a smooth function of multiple predictor variables, from noisy observations of the function. The problem is to estimate a smooth function $g(x)$, from $n$ observations $(x_i, y_i)$ such that\n",
    "$$\n",
    "    y_i = g(x_i) + \\epsilon_i\n",
    "$$ \n",
    "where $\\epsilon_i$ is a random error term and $x \\in \\mathbb R^d$ ($d \\le n$).\n",
    "\n",
    "Thin plate spline smoothing estimates $g$ by finding the function $\\hat f$ minimizing:\n",
    "$$\n",
    "    \\lVert y - f \\rVert^2 + \\lambda J_{md}(f) \\quad (4.4)\n",
    "$$\n",
    "where $y$ is the vector of data and $f = (f(x_1), f(x_2), ..., f(x_n))^T$. $J_{md}(f)$ is a penalty function measuring the 'wiggliness' of $f$ and $\\lambda$ is a smoothing parameter. $J_{md}(f)$ is defined as\n",
    "$$\n",
    "    J_{md}(f) = \\int ... \\int_{\\mathbb R} \\sum_{\\nu_1+...+\\nu_d=m} \\frac{m!}{\\nu_1!...\\nu_d!} \\big( \\frac{\\partial^m f} {\\partial x_1^{\\nu_1}... \\partial x_d^{\\nu_d}}\\big)^2 dx_1 ... dx_2. \\quad (4.5)\n",
    "$$\n",
    "The penalty function looks somewhat intimidating, but an example will help. In the case of a smooth of two predictors with wiggliness measured using second derivatives, we have\n",
    "$$\n",
    "    J_{22} = \\int \\int \\big(\\frac{\\partial^2 f}{\\partial x_1^2}\\big)^2 +\n",
    "                       \\big(\\frac{\\partial^2 f}{\\partial x_1 x_2}\\big)^2 + \n",
    "                       \\big(\\frac{\\partial^2 f}{\\partial x_2^2}\\big)^2 dx_1 dx_2.\n",
    "$$\n",
    "Further progress is only possible if $m$ is choosen so that $2m > d$ (for 'visually smooth' results one needs $2m > d+1$. Subject to the first of these restrictions, it can be shown that the function minimizing (4.4) has the form\n",
    "$$\n",
    "    \\hat f(x) = \\sum_{i=1}^n \\delta_i \\eta_{md}(\\lVert x - x_i \\rVert) + \\sum_{j=1}^M \\alpha_j \\phi_j(X), \\quad (4.6)\n",
    "$$\n",
    "where $\\alpha$ and $\\delta$ are the coefficients to be estimated, $\\delta$ being jubject to the linear constraint that $T^T \\delta = 0$ where $T_{ij} = \\phi_j(x_i)$. The $M = \\binom{m+d-1}{k}$ functions $\\phi_i$ are linearly independent polynomioals spanning the space of polynomials in $\\mathbb R^d$ of degree less than $m$. For example, for $m = d = 2$ these functions are $\\phi_1(x) = 1, \\phi_2(x) = x_1$ and $\\phi_3(x) = x_2$. The remaining basis fucntions used in (4.6) are defined as $\\Gamma(as)$\n",
    "$$\n",
    "    \\eta_{nd}(r) = \\begin{cases}\n",
    "                            \\frac{(-1)^{m+1+d/2}}{2^{2m-1} \\pi^{d/2} (m-1)!(m-d/2)!} r^{2m-d} \\log (r) \\quad if \\ d \\ even \\\\\n",
    "                            \\frac{\\Gamma(d/2 - m)}{2^{2m} \\pi^{d/2} (m-1)!} r^{2m-d} \\quad \\quad \\quad if \\ d \\ even\n",
    "                    \\end{cases}\n",
    "$$\n",
    "\n",
    "Now defining the matrix $E$ by $E_{ij} = \\eta_{md}(\\lVert x_i - x_j \\rVert)$, the thin plate spline fitting problem becomes, \n",
    "$$\n",
    "    \\min_{\\alpha, \\delta} \\lVert y - E \\delta - T \\alpha \\rVert^2 +  \\lambda \\delta^T E \\delta \\ s.t. \\ T^T \\delta = 0, \\quad (4.7)\n",
    "$$\n",
    "The thin plate spline $\\hat f$ is somethin of an ideal smoother: it has been constructed by defining\n",
    "\n",
    "- what is meant by smoothness\n",
    "- how much weight to give the conflicting goal of matching the data and making $\\hat f$ smooth\n",
    "- finding the function that best satisfies the resulting smoothing objective. \n",
    "\n",
    "One did not need to choose knot positions or select basis functions. In addition, TPS can deal with an arbitrary number of predictors. Here also lies the problem of TPS: the computational cost is proportional to the cube of the number of parameters (which is the number of data $n$). Given that the effective degrees of freedom estimated for a model term is usually a small proportion of $n$, the question arises wheter a low rank approximation could be produced which is as close as possible to the TPS, without incurring the high computational cost.\n",
    "\n",
    "**Thin plate regression splines**\n",
    "Are based on the idea of truncating the space of wiggly componets of the TPS (with parameters $\\delta$), while leaving the components of 'zeor wiggliness' unchanged (with parameters $\\alpha$). This is done by an eigen-decomposition of the matrix $E$ into $E = UDU^T$. Now only take the first $k$ columns of $U$ and denote them $U_k$. $D_K$ denotes the top right $k \\times k$ submatrix of $D$. Restricting $\\delta$ to the columns space of $U_k$, by writing $\\delta = U_k \\delta_k$, means that (4.7) becomes \n",
    "$$\n",
    "    \\min_{\\alpha, \\delta_k} \\lVert y - U_k D_k \\delta_k - T \\alpha \\rVert^2 +  \\lambda \\delta_k^T D_k \\delta_k \\ s.t. \\ T^U_k \\delta_k = 0.\n",
    "$$\n",
    "The constraints can be absorbed in the usual manner, described in Section 1.8.1 and A.6.\n",
    "\n",
    "First we find any orthogonal column basis $Z_k$, such that $T^T U_k Z_k = 0$ (e.g. by $QR$ decomposition of $U_k^T T$: the final $M$ columns of the orthogonal factor give a $Z_k$). Restricting the $\\delta_k$ to this space ( $\\delta_k = Z_k \\tilde \\delta$), yields the unconstrained problem that must be solved to fit the rank $k$ approximation to the smoothing spline:\n",
    "$$\n",
    "    \\min_{\\alpha, \\tilde \\delta} \\lVert y - U_k D_k Z_k \\tilde \\delta - T \\alpha \\rVert^2 +  \\lambda \\tilde \\delta^T Z_k^T D_k Z_k \\tilde \\delta \n",
    "$$\n",
    "This has a computational cost of $\\mathcal O(k^3)$. Having the fitted model, evaluation of the spline at any point is easy: just evaluate $\\delta = U_K Z_K \\tilde \\delta$ and use (4.6). The eigen-decomposition can be found by Lanczos iteration ($\\mathcal O(n^2k)$ )for large systems and be full $QR$ ($\\mathcal O(n^3)$) for small systems. \n",
    "\n",
    "**Properties of TPRS** \\\n",
    "TPRS properties are:\n",
    "\n",
    "    - aviod knot placement\n",
    "    - relatively cheap to compute\n",
    "    - can use any number of predictor variables\n",
    "    - [ ] what about optimality ? \n",
    "\n",
    "**Knot based approximation** \\\n",
    "If knot locations $\\{x_i^*: i=1...k\\}$ are chosen, then the spline can be approximated by\n",
    "$$\n",
    "    \\hat f(x) = \\sum_{i=1}^k \\delta_i \\eta_{md}(\\lVert x - x_i^*\\rVert) + \\sum_{j=1}^M \\alpha_j \\phi_j(x), \\quad (4.8)\n",
    "$$\n",
    "where $\\delta$ and $\\alpha$ are estimated by minimizing\n",
    "$$\n",
    "    \\lVert y - X \\beta \\rVert^2 + \\lambda \\beta^T S \\beta, \\quad \\ s.t. \\ C\\beta = 0\n",
    "$$\n",
    "w.r.t $\\beta^T = (\\delta^T, \\alpha^T)$. $X$ is an $n \\times k + M$ matrix such that\n",
    "$$\n",
    "    X_{ij} = \\begin{cases}\n",
    "                \\eta_{md} (\\lVert x_i - x_j^* \\rVert ) \\quad j=1, ..., k \\\\\n",
    "                \\phi_{j-k}(x_i) \\quad j=k+1, ..., k + M,\n",
    "             \\end{cases}\n",
    "$$\n",
    "\n",
    "$S$ is a $(k + M) \\times (k + M)$ matrix with zeros everywhere except in its upper left $k \\times k$ block where $S_{ij} = \\eta_{md}(\\lVert x_i^* - x_j^* \\rVert)$. Finally, $C$ is an $M \\times (k + M)$ matrix such that \n",
    "\n",
    "$$\n",
    "    X_{ij} = \\begin{cases}\n",
    "                \\eta_{md} (\\lVert x_i - x_j^* \\rVert ) \\quad j=1, ..., k \\\\\n",
    "                \\phi_{j-k}(x_i) \\quad j=k+1, ..., k + M,\n",
    "             \\end{cases}\n",
    "$$\n",
    "\n",
    "\n",
    "- [ ] Section 1.8.1: Constraint - absorbtion\n",
    "\n",
    "\n"
   ]
  },
  {
   "cell_type": "code",
   "execution_count": null,
   "metadata": {},
   "outputs": [],
   "source": []
  },
  {
   "cell_type": "code",
   "execution_count": 2,
   "metadata": {},
   "outputs": [
    {
     "data": {
      "text/html": [
       "        <script type=\"text/javascript\">\n",
       "        window.PlotlyConfig = {MathJaxConfig: 'local'};\n",
       "        if (window.MathJax) {MathJax.Hub.Config({SVG: {font: \"STIX-Web\"}});}\n",
       "        if (typeof require !== 'undefined') {\n",
       "        require.undef(\"plotly\");\n",
       "        requirejs.config({\n",
       "            paths: {\n",
       "                'plotly': ['https://cdn.plot.ly/plotly-latest.min']\n",
       "            }\n",
       "        });\n",
       "        require(['plotly'], function(Plotly) {\n",
       "            window._Plotly = Plotly;\n",
       "        });\n",
       "        }\n",
       "        </script>\n",
       "        "
      ]
     },
     "metadata": {},
     "output_type": "display_data"
    }
   ],
   "source": [
    "import numpy as np\n",
    "import plotly.express as px\n",
    "from plotly.offline import init_notebook_mode, iplot\n",
    "init_notebook_mode(connected=True) \n",
    "\n",
    "def bSpline(x, k, i, m=2):\n",
    "    \"\"\" evaluate i-th b-spline basis function of order m at the values in x, given knot \n",
    "        loactions in k\n",
    "    \"\"\"\n",
    "    if m==-1:\n",
    "        # return 1 if x is in {k[i], k[i+1]}, otherwise 0\n",
    "        return (x >= k[i]) & (x < k[i+1]).astype(int)\n",
    "    else:\n",
    "        z0 = (x - k[i]) / (k[i+m+1] - k[i])\n",
    "        z1 = (k[i+m+2] - x) / (k[i+m+2] - k[i+1])\n",
    "        return z0*bspline(x, k, i, m-1) + z1*bspline(x, k, i+1, m-1)\n",
    "\n",
    "\n",
    "def vertLinePlotly(fig, x0=0, y0=0, y1=1):\n",
    "    \"\"\" plots a vertical line to the given figure at position x\"\"\"\n",
    "    fig.add_shape(\n",
    "        dict(\n",
    "            type=\"line\", \n",
    "            x0=x0, x1=x0, \n",
    "            y0=y0, y1=1.2*y1, \n",
    "            line=dict(color=\"LightSeaGreen\", width=1)\n",
    "        )\n",
    "    )\n",
    "    return\n",
    "\n",
    "def pSplinePenalty(k):\n",
    "    \"\"\" compute the P-spline second order difference penalty matrix of dimension k according to p.150 Wood 2006 \"\"\"\n",
    "    assert (type(k) is int), \"Type of input k is not int\"\n",
    "    a =np.eye(k)\n",
    "    P = np.diff(a, axis=0)\n",
    "    S = np.dot(P.T,P).shape\n",
    "    return S"
   ]
  },
  {
   "cell_type": "code",
   "execution_count": 54,
   "metadata": {},
   "outputs": [
    {
     "data": {
      "application/vnd.plotly.v1+json": {
       "config": {
        "plotlyServerURL": "https://plot.ly"
       },
       "data": [
        {
         "hoverlabel": {
          "namelength": 0
         },
         "hovertemplate": "x=%{x}<br>y=%{y}",
         "legendgroup": "",
         "marker": {
          "color": "#636efa",
          "symbol": "circle"
         },
         "mode": "markers",
         "name": "",
         "showlegend": false,
         "type": "scatter",
         "x": [
          0,
          0.010101010101010102,
          0.020202020202020204,
          0.030303030303030304,
          0.04040404040404041,
          0.05050505050505051,
          0.06060606060606061,
          0.07070707070707072,
          0.08080808080808081,
          0.09090909090909091,
          0.10101010101010102,
          0.11111111111111112,
          0.12121212121212122,
          0.13131313131313133,
          0.14141414141414144,
          0.15151515151515152,
          0.16161616161616163,
          0.17171717171717174,
          0.18181818181818182,
          0.19191919191919193,
          0.20202020202020204,
          0.21212121212121213,
          0.22222222222222224,
          0.23232323232323235,
          0.24242424242424243,
          0.25252525252525254,
          0.26262626262626265,
          0.27272727272727276,
          0.2828282828282829,
          0.29292929292929293,
          0.30303030303030304,
          0.31313131313131315,
          0.32323232323232326,
          0.33333333333333337,
          0.3434343434343435,
          0.3535353535353536,
          0.36363636363636365,
          0.37373737373737376,
          0.38383838383838387,
          0.393939393939394,
          0.4040404040404041,
          0.4141414141414142,
          0.42424242424242425,
          0.43434343434343436,
          0.4444444444444445,
          0.4545454545454546,
          0.4646464646464647,
          0.4747474747474748,
          0.48484848484848486,
          0.494949494949495,
          0.5050505050505051,
          0.5151515151515152,
          0.5252525252525253,
          0.5353535353535354,
          0.5454545454545455,
          0.5555555555555556,
          0.5656565656565657,
          0.5757575757575758,
          0.5858585858585859,
          0.595959595959596,
          0.6060606060606061,
          0.6161616161616162,
          0.6262626262626263,
          0.6363636363636365,
          0.6464646464646465,
          0.6565656565656566,
          0.6666666666666667,
          0.6767676767676768,
          0.686868686868687,
          0.696969696969697,
          0.7070707070707072,
          0.7171717171717172,
          0.7272727272727273,
          0.7373737373737375,
          0.7474747474747475,
          0.7575757575757577,
          0.7676767676767677,
          0.7777777777777778,
          0.787878787878788,
          0.797979797979798,
          0.8080808080808082,
          0.8181818181818182,
          0.8282828282828284,
          0.8383838383838385,
          0.8484848484848485,
          0.8585858585858587,
          0.8686868686868687,
          0.8787878787878789,
          0.888888888888889,
          0.8989898989898991,
          0.9090909090909092,
          0.9191919191919192,
          0.9292929292929294,
          0.9393939393939394,
          0.9494949494949496,
          0.9595959595959597,
          0.9696969696969697,
          0.9797979797979799,
          0.98989898989899,
          1
         ],
         "xaxis": "x",
         "y": [
          0,
          0,
          0,
          0,
          0,
          0,
          0,
          0,
          0,
          0,
          0,
          0,
          0,
          0,
          0,
          0,
          0,
          0,
          0,
          0,
          0,
          0,
          0,
          0,
          0,
          0,
          0,
          0,
          0,
          0,
          0,
          0,
          0,
          0,
          0,
          0,
          0,
          0,
          0,
          0,
          0,
          0,
          0,
          0,
          0,
          0,
          0,
          0,
          0,
          0,
          2.147104483600802e-05,
          0.0005797182105722164,
          0.0026838806045009667,
          0.00736456837875061,
          0.01565239168544962,
          0.02857796067672615,
          0.04717188550470889,
          0.07246477632152579,
          0.10548724327930535,
          0.14726989653017641,
          0.19869493836436,
          0.2584239497309598,
          0.32340907287341353,
          0.39055847733533755,
          0.4567803326603453,
          0.5189828083920525,
          0.5740740740740744,
          0.6189622992500251,
          0.6505556534635202,
          0.6657623062581739,
          0.6618439264597817,
          0.639711573442825,
          0.6024292511895816,
          0.5530887901564359,
          0.49478202079977385,
          0.4306007735759795,
          0.36363687894143937,
          0.2969821673525377,
          0.23372846926565893,
          0.17696761513718953,
          0.1294396538249203,
          0.09128474830954159,
          0.06147778502640225,
          0.038988153823374616,
          0.02278524454832994,
          0.011838447049139776,
          0.005117151173676006,
          0.0015907467698101111,
          0.0002286236854138064,
          1.717683586880074e-07,
          0,
          0,
          0,
          0,
          0,
          0,
          0,
          0,
          0,
          0
         ],
         "yaxis": "y"
        }
       ],
       "layout": {
        "legend": {
         "tracegroupgap": 0
        },
        "margin": {
         "t": 60
        },
        "shapes": [
         {
          "line": {
           "color": "LightSeaGreen",
           "width": 1
          },
          "type": "line",
          "x0": 0.1,
          "x1": 0.1,
          "y0": 0,
          "y1": 0.7989147675098086
         },
         {
          "line": {
           "color": "LightSeaGreen",
           "width": 1
          },
          "type": "line",
          "x0": 0.2,
          "x1": 0.2,
          "y0": 0,
          "y1": 0.7989147675098086
         },
         {
          "line": {
           "color": "LightSeaGreen",
           "width": 1
          },
          "type": "line",
          "x0": 0.3,
          "x1": 0.3,
          "y0": 0,
          "y1": 0.7989147675098086
         },
         {
          "line": {
           "color": "LightSeaGreen",
           "width": 1
          },
          "type": "line",
          "x0": 0.4,
          "x1": 0.4,
          "y0": 0,
          "y1": 0.7989147675098086
         },
         {
          "line": {
           "color": "LightSeaGreen",
           "width": 1
          },
          "type": "line",
          "x0": 0.5,
          "x1": 0.5,
          "y0": 0,
          "y1": 0.7989147675098086
         },
         {
          "line": {
           "color": "LightSeaGreen",
           "width": 1
          },
          "type": "line",
          "x0": 0.6,
          "x1": 0.6,
          "y0": 0,
          "y1": 0.7989147675098086
         },
         {
          "line": {
           "color": "LightSeaGreen",
           "width": 1
          },
          "type": "line",
          "x0": 0.7,
          "x1": 0.7,
          "y0": 0,
          "y1": 0.7989147675098086
         },
         {
          "line": {
           "color": "LightSeaGreen",
           "width": 1
          },
          "type": "line",
          "x0": 0.8,
          "x1": 0.8,
          "y0": 0,
          "y1": 0.7989147675098086
         },
         {
          "line": {
           "color": "LightSeaGreen",
           "width": 1
          },
          "type": "line",
          "x0": 0.9,
          "x1": 0.9,
          "y0": 0,
          "y1": 0.7989147675098086
         }
        ],
        "template": {
         "data": {
          "bar": [
           {
            "error_x": {
             "color": "#2a3f5f"
            },
            "error_y": {
             "color": "#2a3f5f"
            },
            "marker": {
             "line": {
              "color": "#E5ECF6",
              "width": 0.5
             }
            },
            "type": "bar"
           }
          ],
          "barpolar": [
           {
            "marker": {
             "line": {
              "color": "#E5ECF6",
              "width": 0.5
             }
            },
            "type": "barpolar"
           }
          ],
          "carpet": [
           {
            "aaxis": {
             "endlinecolor": "#2a3f5f",
             "gridcolor": "white",
             "linecolor": "white",
             "minorgridcolor": "white",
             "startlinecolor": "#2a3f5f"
            },
            "baxis": {
             "endlinecolor": "#2a3f5f",
             "gridcolor": "white",
             "linecolor": "white",
             "minorgridcolor": "white",
             "startlinecolor": "#2a3f5f"
            },
            "type": "carpet"
           }
          ],
          "choropleth": [
           {
            "colorbar": {
             "outlinewidth": 0,
             "ticks": ""
            },
            "type": "choropleth"
           }
          ],
          "contour": [
           {
            "colorbar": {
             "outlinewidth": 0,
             "ticks": ""
            },
            "colorscale": [
             [
              0,
              "#0d0887"
             ],
             [
              0.1111111111111111,
              "#46039f"
             ],
             [
              0.2222222222222222,
              "#7201a8"
             ],
             [
              0.3333333333333333,
              "#9c179e"
             ],
             [
              0.4444444444444444,
              "#bd3786"
             ],
             [
              0.5555555555555556,
              "#d8576b"
             ],
             [
              0.6666666666666666,
              "#ed7953"
             ],
             [
              0.7777777777777778,
              "#fb9f3a"
             ],
             [
              0.8888888888888888,
              "#fdca26"
             ],
             [
              1,
              "#f0f921"
             ]
            ],
            "type": "contour"
           }
          ],
          "contourcarpet": [
           {
            "colorbar": {
             "outlinewidth": 0,
             "ticks": ""
            },
            "type": "contourcarpet"
           }
          ],
          "heatmap": [
           {
            "colorbar": {
             "outlinewidth": 0,
             "ticks": ""
            },
            "colorscale": [
             [
              0,
              "#0d0887"
             ],
             [
              0.1111111111111111,
              "#46039f"
             ],
             [
              0.2222222222222222,
              "#7201a8"
             ],
             [
              0.3333333333333333,
              "#9c179e"
             ],
             [
              0.4444444444444444,
              "#bd3786"
             ],
             [
              0.5555555555555556,
              "#d8576b"
             ],
             [
              0.6666666666666666,
              "#ed7953"
             ],
             [
              0.7777777777777778,
              "#fb9f3a"
             ],
             [
              0.8888888888888888,
              "#fdca26"
             ],
             [
              1,
              "#f0f921"
             ]
            ],
            "type": "heatmap"
           }
          ],
          "heatmapgl": [
           {
            "colorbar": {
             "outlinewidth": 0,
             "ticks": ""
            },
            "colorscale": [
             [
              0,
              "#0d0887"
             ],
             [
              0.1111111111111111,
              "#46039f"
             ],
             [
              0.2222222222222222,
              "#7201a8"
             ],
             [
              0.3333333333333333,
              "#9c179e"
             ],
             [
              0.4444444444444444,
              "#bd3786"
             ],
             [
              0.5555555555555556,
              "#d8576b"
             ],
             [
              0.6666666666666666,
              "#ed7953"
             ],
             [
              0.7777777777777778,
              "#fb9f3a"
             ],
             [
              0.8888888888888888,
              "#fdca26"
             ],
             [
              1,
              "#f0f921"
             ]
            ],
            "type": "heatmapgl"
           }
          ],
          "histogram": [
           {
            "marker": {
             "colorbar": {
              "outlinewidth": 0,
              "ticks": ""
             }
            },
            "type": "histogram"
           }
          ],
          "histogram2d": [
           {
            "colorbar": {
             "outlinewidth": 0,
             "ticks": ""
            },
            "colorscale": [
             [
              0,
              "#0d0887"
             ],
             [
              0.1111111111111111,
              "#46039f"
             ],
             [
              0.2222222222222222,
              "#7201a8"
             ],
             [
              0.3333333333333333,
              "#9c179e"
             ],
             [
              0.4444444444444444,
              "#bd3786"
             ],
             [
              0.5555555555555556,
              "#d8576b"
             ],
             [
              0.6666666666666666,
              "#ed7953"
             ],
             [
              0.7777777777777778,
              "#fb9f3a"
             ],
             [
              0.8888888888888888,
              "#fdca26"
             ],
             [
              1,
              "#f0f921"
             ]
            ],
            "type": "histogram2d"
           }
          ],
          "histogram2dcontour": [
           {
            "colorbar": {
             "outlinewidth": 0,
             "ticks": ""
            },
            "colorscale": [
             [
              0,
              "#0d0887"
             ],
             [
              0.1111111111111111,
              "#46039f"
             ],
             [
              0.2222222222222222,
              "#7201a8"
             ],
             [
              0.3333333333333333,
              "#9c179e"
             ],
             [
              0.4444444444444444,
              "#bd3786"
             ],
             [
              0.5555555555555556,
              "#d8576b"
             ],
             [
              0.6666666666666666,
              "#ed7953"
             ],
             [
              0.7777777777777778,
              "#fb9f3a"
             ],
             [
              0.8888888888888888,
              "#fdca26"
             ],
             [
              1,
              "#f0f921"
             ]
            ],
            "type": "histogram2dcontour"
           }
          ],
          "mesh3d": [
           {
            "colorbar": {
             "outlinewidth": 0,
             "ticks": ""
            },
            "type": "mesh3d"
           }
          ],
          "parcoords": [
           {
            "line": {
             "colorbar": {
              "outlinewidth": 0,
              "ticks": ""
             }
            },
            "type": "parcoords"
           }
          ],
          "pie": [
           {
            "automargin": true,
            "type": "pie"
           }
          ],
          "scatter": [
           {
            "marker": {
             "colorbar": {
              "outlinewidth": 0,
              "ticks": ""
             }
            },
            "type": "scatter"
           }
          ],
          "scatter3d": [
           {
            "line": {
             "colorbar": {
              "outlinewidth": 0,
              "ticks": ""
             }
            },
            "marker": {
             "colorbar": {
              "outlinewidth": 0,
              "ticks": ""
             }
            },
            "type": "scatter3d"
           }
          ],
          "scattercarpet": [
           {
            "marker": {
             "colorbar": {
              "outlinewidth": 0,
              "ticks": ""
             }
            },
            "type": "scattercarpet"
           }
          ],
          "scattergeo": [
           {
            "marker": {
             "colorbar": {
              "outlinewidth": 0,
              "ticks": ""
             }
            },
            "type": "scattergeo"
           }
          ],
          "scattergl": [
           {
            "marker": {
             "colorbar": {
              "outlinewidth": 0,
              "ticks": ""
             }
            },
            "type": "scattergl"
           }
          ],
          "scattermapbox": [
           {
            "marker": {
             "colorbar": {
              "outlinewidth": 0,
              "ticks": ""
             }
            },
            "type": "scattermapbox"
           }
          ],
          "scatterpolar": [
           {
            "marker": {
             "colorbar": {
              "outlinewidth": 0,
              "ticks": ""
             }
            },
            "type": "scatterpolar"
           }
          ],
          "scatterpolargl": [
           {
            "marker": {
             "colorbar": {
              "outlinewidth": 0,
              "ticks": ""
             }
            },
            "type": "scatterpolargl"
           }
          ],
          "scatterternary": [
           {
            "marker": {
             "colorbar": {
              "outlinewidth": 0,
              "ticks": ""
             }
            },
            "type": "scatterternary"
           }
          ],
          "surface": [
           {
            "colorbar": {
             "outlinewidth": 0,
             "ticks": ""
            },
            "colorscale": [
             [
              0,
              "#0d0887"
             ],
             [
              0.1111111111111111,
              "#46039f"
             ],
             [
              0.2222222222222222,
              "#7201a8"
             ],
             [
              0.3333333333333333,
              "#9c179e"
             ],
             [
              0.4444444444444444,
              "#bd3786"
             ],
             [
              0.5555555555555556,
              "#d8576b"
             ],
             [
              0.6666666666666666,
              "#ed7953"
             ],
             [
              0.7777777777777778,
              "#fb9f3a"
             ],
             [
              0.8888888888888888,
              "#fdca26"
             ],
             [
              1,
              "#f0f921"
             ]
            ],
            "type": "surface"
           }
          ],
          "table": [
           {
            "cells": {
             "fill": {
              "color": "#EBF0F8"
             },
             "line": {
              "color": "white"
             }
            },
            "header": {
             "fill": {
              "color": "#C8D4E3"
             },
             "line": {
              "color": "white"
             }
            },
            "type": "table"
           }
          ]
         },
         "layout": {
          "annotationdefaults": {
           "arrowcolor": "#2a3f5f",
           "arrowhead": 0,
           "arrowwidth": 1
          },
          "coloraxis": {
           "colorbar": {
            "outlinewidth": 0,
            "ticks": ""
           }
          },
          "colorscale": {
           "diverging": [
            [
             0,
             "#8e0152"
            ],
            [
             0.1,
             "#c51b7d"
            ],
            [
             0.2,
             "#de77ae"
            ],
            [
             0.3,
             "#f1b6da"
            ],
            [
             0.4,
             "#fde0ef"
            ],
            [
             0.5,
             "#f7f7f7"
            ],
            [
             0.6,
             "#e6f5d0"
            ],
            [
             0.7,
             "#b8e186"
            ],
            [
             0.8,
             "#7fbc41"
            ],
            [
             0.9,
             "#4d9221"
            ],
            [
             1,
             "#276419"
            ]
           ],
           "sequential": [
            [
             0,
             "#0d0887"
            ],
            [
             0.1111111111111111,
             "#46039f"
            ],
            [
             0.2222222222222222,
             "#7201a8"
            ],
            [
             0.3333333333333333,
             "#9c179e"
            ],
            [
             0.4444444444444444,
             "#bd3786"
            ],
            [
             0.5555555555555556,
             "#d8576b"
            ],
            [
             0.6666666666666666,
             "#ed7953"
            ],
            [
             0.7777777777777778,
             "#fb9f3a"
            ],
            [
             0.8888888888888888,
             "#fdca26"
            ],
            [
             1,
             "#f0f921"
            ]
           ],
           "sequentialminus": [
            [
             0,
             "#0d0887"
            ],
            [
             0.1111111111111111,
             "#46039f"
            ],
            [
             0.2222222222222222,
             "#7201a8"
            ],
            [
             0.3333333333333333,
             "#9c179e"
            ],
            [
             0.4444444444444444,
             "#bd3786"
            ],
            [
             0.5555555555555556,
             "#d8576b"
            ],
            [
             0.6666666666666666,
             "#ed7953"
            ],
            [
             0.7777777777777778,
             "#fb9f3a"
            ],
            [
             0.8888888888888888,
             "#fdca26"
            ],
            [
             1,
             "#f0f921"
            ]
           ]
          },
          "colorway": [
           "#636efa",
           "#EF553B",
           "#00cc96",
           "#ab63fa",
           "#FFA15A",
           "#19d3f3",
           "#FF6692",
           "#B6E880",
           "#FF97FF",
           "#FECB52"
          ],
          "font": {
           "color": "#2a3f5f"
          },
          "geo": {
           "bgcolor": "white",
           "lakecolor": "white",
           "landcolor": "#E5ECF6",
           "showlakes": true,
           "showland": true,
           "subunitcolor": "white"
          },
          "hoverlabel": {
           "align": "left"
          },
          "hovermode": "closest",
          "mapbox": {
           "style": "light"
          },
          "paper_bgcolor": "white",
          "plot_bgcolor": "#E5ECF6",
          "polar": {
           "angularaxis": {
            "gridcolor": "white",
            "linecolor": "white",
            "ticks": ""
           },
           "bgcolor": "#E5ECF6",
           "radialaxis": {
            "gridcolor": "white",
            "linecolor": "white",
            "ticks": ""
           }
          },
          "scene": {
           "xaxis": {
            "backgroundcolor": "#E5ECF6",
            "gridcolor": "white",
            "gridwidth": 2,
            "linecolor": "white",
            "showbackground": true,
            "ticks": "",
            "zerolinecolor": "white"
           },
           "yaxis": {
            "backgroundcolor": "#E5ECF6",
            "gridcolor": "white",
            "gridwidth": 2,
            "linecolor": "white",
            "showbackground": true,
            "ticks": "",
            "zerolinecolor": "white"
           },
           "zaxis": {
            "backgroundcolor": "#E5ECF6",
            "gridcolor": "white",
            "gridwidth": 2,
            "linecolor": "white",
            "showbackground": true,
            "ticks": "",
            "zerolinecolor": "white"
           }
          },
          "shapedefaults": {
           "line": {
            "color": "#2a3f5f"
           }
          },
          "ternary": {
           "aaxis": {
            "gridcolor": "white",
            "linecolor": "white",
            "ticks": ""
           },
           "baxis": {
            "gridcolor": "white",
            "linecolor": "white",
            "ticks": ""
           },
           "bgcolor": "#E5ECF6",
           "caxis": {
            "gridcolor": "white",
            "linecolor": "white",
            "ticks": ""
           }
          },
          "title": {
           "x": 0.05
          },
          "xaxis": {
           "automargin": true,
           "gridcolor": "white",
           "linecolor": "white",
           "ticks": "",
           "title": {
            "standoff": 15
           },
           "zerolinecolor": "white",
           "zerolinewidth": 2
          },
          "yaxis": {
           "automargin": true,
           "gridcolor": "white",
           "linecolor": "white",
           "ticks": "",
           "title": {
            "standoff": 15
           },
           "zerolinecolor": "white",
           "zerolinewidth": 2
          }
         }
        },
        "title": {
         "text": "cubic spline for knot at x=0.7"
        },
        "xaxis": {
         "anchor": "y",
         "domain": [
          0,
          1
         ],
         "title": {
          "text": "x"
         }
        },
        "yaxis": {
         "anchor": "x",
         "domain": [
          0,
          1
         ],
         "title": {
          "text": "y"
         }
        }
       }
      },
      "text/html": [
       "<div>\n",
       "        \n",
       "        \n",
       "            <div id=\"54c99b5e-22b5-4337-931b-02aa118a1cdd\" class=\"plotly-graph-div\" style=\"height:525px; width:100%;\"></div>\n",
       "            <script type=\"text/javascript\">\n",
       "                require([\"plotly\"], function(Plotly) {\n",
       "                    window.PLOTLYENV=window.PLOTLYENV || {};\n",
       "                    \n",
       "                if (document.getElementById(\"54c99b5e-22b5-4337-931b-02aa118a1cdd\")) {\n",
       "                    Plotly.newPlot(\n",
       "                        '54c99b5e-22b5-4337-931b-02aa118a1cdd',\n",
       "                        [{\"hoverlabel\": {\"namelength\": 0}, \"hovertemplate\": \"x=%{x}<br>y=%{y}\", \"legendgroup\": \"\", \"marker\": {\"color\": \"#636efa\", \"symbol\": \"circle\"}, \"mode\": \"markers\", \"name\": \"\", \"showlegend\": false, \"type\": \"scatter\", \"x\": [0.0, 0.010101010101010102, 0.020202020202020204, 0.030303030303030304, 0.04040404040404041, 0.05050505050505051, 0.06060606060606061, 0.07070707070707072, 0.08080808080808081, 0.09090909090909091, 0.10101010101010102, 0.11111111111111112, 0.12121212121212122, 0.13131313131313133, 0.14141414141414144, 0.15151515151515152, 0.16161616161616163, 0.17171717171717174, 0.18181818181818182, 0.19191919191919193, 0.20202020202020204, 0.21212121212121213, 0.22222222222222224, 0.23232323232323235, 0.24242424242424243, 0.25252525252525254, 0.26262626262626265, 0.27272727272727276, 0.2828282828282829, 0.29292929292929293, 0.30303030303030304, 0.31313131313131315, 0.32323232323232326, 0.33333333333333337, 0.3434343434343435, 0.3535353535353536, 0.36363636363636365, 0.37373737373737376, 0.38383838383838387, 0.393939393939394, 0.4040404040404041, 0.4141414141414142, 0.42424242424242425, 0.43434343434343436, 0.4444444444444445, 0.4545454545454546, 0.4646464646464647, 0.4747474747474748, 0.48484848484848486, 0.494949494949495, 0.5050505050505051, 0.5151515151515152, 0.5252525252525253, 0.5353535353535354, 0.5454545454545455, 0.5555555555555556, 0.5656565656565657, 0.5757575757575758, 0.5858585858585859, 0.595959595959596, 0.6060606060606061, 0.6161616161616162, 0.6262626262626263, 0.6363636363636365, 0.6464646464646465, 0.6565656565656566, 0.6666666666666667, 0.6767676767676768, 0.686868686868687, 0.696969696969697, 0.7070707070707072, 0.7171717171717172, 0.7272727272727273, 0.7373737373737375, 0.7474747474747475, 0.7575757575757577, 0.7676767676767677, 0.7777777777777778, 0.787878787878788, 0.797979797979798, 0.8080808080808082, 0.8181818181818182, 0.8282828282828284, 0.8383838383838385, 0.8484848484848485, 0.8585858585858587, 0.8686868686868687, 0.8787878787878789, 0.888888888888889, 0.8989898989898991, 0.9090909090909092, 0.9191919191919192, 0.9292929292929294, 0.9393939393939394, 0.9494949494949496, 0.9595959595959597, 0.9696969696969697, 0.9797979797979799, 0.98989898989899, 1.0], \"xaxis\": \"x\", \"y\": [0.0, 0.0, 0.0, 0.0, 0.0, 0.0, 0.0, 0.0, 0.0, 0.0, 0.0, 0.0, 0.0, 0.0, 0.0, 0.0, 0.0, 0.0, 0.0, 0.0, 0.0, 0.0, 0.0, 0.0, 0.0, 0.0, 0.0, 0.0, 0.0, 0.0, 0.0, 0.0, 0.0, 0.0, 0.0, 0.0, 0.0, 0.0, 0.0, 0.0, 0.0, 0.0, 0.0, 0.0, 0.0, 0.0, 0.0, 0.0, 0.0, 0.0, 2.147104483600802e-05, 0.0005797182105722164, 0.0026838806045009667, 0.00736456837875061, 0.01565239168544962, 0.02857796067672615, 0.04717188550470889, 0.07246477632152579, 0.10548724327930535, 0.14726989653017641, 0.19869493836436, 0.2584239497309598, 0.32340907287341353, 0.39055847733533755, 0.4567803326603453, 0.5189828083920525, 0.5740740740740744, 0.6189622992500251, 0.6505556534635202, 0.6657623062581739, 0.6618439264597817, 0.639711573442825, 0.6024292511895816, 0.5530887901564359, 0.49478202079977385, 0.4306007735759795, 0.36363687894143937, 0.2969821673525377, 0.23372846926565893, 0.17696761513718953, 0.1294396538249203, 0.09128474830954159, 0.06147778502640225, 0.038988153823374616, 0.02278524454832994, 0.011838447049139776, 0.005117151173676006, 0.0015907467698101111, 0.0002286236854138064, 1.717683586880074e-07, 0.0, 0.0, 0.0, 0.0, 0.0, 0.0, 0.0, 0.0, 0.0, 0.0], \"yaxis\": \"y\"}],\n",
       "                        {\"legend\": {\"tracegroupgap\": 0}, \"margin\": {\"t\": 60}, \"shapes\": [{\"line\": {\"color\": \"LightSeaGreen\", \"width\": 1}, \"type\": \"line\", \"x0\": 0.1, \"x1\": 0.1, \"y0\": 0, \"y1\": 0.7989147675098086}, {\"line\": {\"color\": \"LightSeaGreen\", \"width\": 1}, \"type\": \"line\", \"x0\": 0.2, \"x1\": 0.2, \"y0\": 0, \"y1\": 0.7989147675098086}, {\"line\": {\"color\": \"LightSeaGreen\", \"width\": 1}, \"type\": \"line\", \"x0\": 0.3, \"x1\": 0.3, \"y0\": 0, \"y1\": 0.7989147675098086}, {\"line\": {\"color\": \"LightSeaGreen\", \"width\": 1}, \"type\": \"line\", \"x0\": 0.4, \"x1\": 0.4, \"y0\": 0, \"y1\": 0.7989147675098086}, {\"line\": {\"color\": \"LightSeaGreen\", \"width\": 1}, \"type\": \"line\", \"x0\": 0.5, \"x1\": 0.5, \"y0\": 0, \"y1\": 0.7989147675098086}, {\"line\": {\"color\": \"LightSeaGreen\", \"width\": 1}, \"type\": \"line\", \"x0\": 0.6, \"x1\": 0.6, \"y0\": 0, \"y1\": 0.7989147675098086}, {\"line\": {\"color\": \"LightSeaGreen\", \"width\": 1}, \"type\": \"line\", \"x0\": 0.7, \"x1\": 0.7, \"y0\": 0, \"y1\": 0.7989147675098086}, {\"line\": {\"color\": \"LightSeaGreen\", \"width\": 1}, \"type\": \"line\", \"x0\": 0.8, \"x1\": 0.8, \"y0\": 0, \"y1\": 0.7989147675098086}, {\"line\": {\"color\": \"LightSeaGreen\", \"width\": 1}, \"type\": \"line\", \"x0\": 0.9, \"x1\": 0.9, \"y0\": 0, \"y1\": 0.7989147675098086}], \"template\": {\"data\": {\"bar\": [{\"error_x\": {\"color\": \"#2a3f5f\"}, \"error_y\": {\"color\": \"#2a3f5f\"}, \"marker\": {\"line\": {\"color\": \"#E5ECF6\", \"width\": 0.5}}, \"type\": \"bar\"}], \"barpolar\": [{\"marker\": {\"line\": {\"color\": \"#E5ECF6\", \"width\": 0.5}}, \"type\": \"barpolar\"}], \"carpet\": [{\"aaxis\": {\"endlinecolor\": \"#2a3f5f\", \"gridcolor\": \"white\", \"linecolor\": \"white\", \"minorgridcolor\": \"white\", \"startlinecolor\": \"#2a3f5f\"}, \"baxis\": {\"endlinecolor\": \"#2a3f5f\", \"gridcolor\": \"white\", \"linecolor\": \"white\", \"minorgridcolor\": \"white\", \"startlinecolor\": \"#2a3f5f\"}, \"type\": \"carpet\"}], \"choropleth\": [{\"colorbar\": {\"outlinewidth\": 0, \"ticks\": \"\"}, \"type\": \"choropleth\"}], \"contour\": [{\"colorbar\": {\"outlinewidth\": 0, \"ticks\": \"\"}, \"colorscale\": [[0.0, \"#0d0887\"], [0.1111111111111111, \"#46039f\"], [0.2222222222222222, \"#7201a8\"], [0.3333333333333333, \"#9c179e\"], [0.4444444444444444, \"#bd3786\"], [0.5555555555555556, \"#d8576b\"], [0.6666666666666666, \"#ed7953\"], [0.7777777777777778, \"#fb9f3a\"], [0.8888888888888888, \"#fdca26\"], [1.0, \"#f0f921\"]], \"type\": \"contour\"}], \"contourcarpet\": [{\"colorbar\": {\"outlinewidth\": 0, \"ticks\": \"\"}, \"type\": \"contourcarpet\"}], \"heatmap\": [{\"colorbar\": {\"outlinewidth\": 0, \"ticks\": \"\"}, \"colorscale\": [[0.0, \"#0d0887\"], [0.1111111111111111, \"#46039f\"], [0.2222222222222222, \"#7201a8\"], [0.3333333333333333, \"#9c179e\"], [0.4444444444444444, \"#bd3786\"], [0.5555555555555556, \"#d8576b\"], [0.6666666666666666, \"#ed7953\"], [0.7777777777777778, \"#fb9f3a\"], [0.8888888888888888, \"#fdca26\"], [1.0, \"#f0f921\"]], \"type\": \"heatmap\"}], \"heatmapgl\": [{\"colorbar\": {\"outlinewidth\": 0, \"ticks\": \"\"}, \"colorscale\": [[0.0, \"#0d0887\"], [0.1111111111111111, \"#46039f\"], [0.2222222222222222, \"#7201a8\"], [0.3333333333333333, \"#9c179e\"], [0.4444444444444444, \"#bd3786\"], [0.5555555555555556, \"#d8576b\"], [0.6666666666666666, \"#ed7953\"], [0.7777777777777778, \"#fb9f3a\"], [0.8888888888888888, \"#fdca26\"], [1.0, \"#f0f921\"]], \"type\": \"heatmapgl\"}], \"histogram\": [{\"marker\": {\"colorbar\": {\"outlinewidth\": 0, \"ticks\": \"\"}}, \"type\": \"histogram\"}], \"histogram2d\": [{\"colorbar\": {\"outlinewidth\": 0, \"ticks\": \"\"}, \"colorscale\": [[0.0, \"#0d0887\"], [0.1111111111111111, \"#46039f\"], [0.2222222222222222, \"#7201a8\"], [0.3333333333333333, \"#9c179e\"], [0.4444444444444444, \"#bd3786\"], [0.5555555555555556, \"#d8576b\"], [0.6666666666666666, \"#ed7953\"], [0.7777777777777778, \"#fb9f3a\"], [0.8888888888888888, \"#fdca26\"], [1.0, \"#f0f921\"]], \"type\": \"histogram2d\"}], \"histogram2dcontour\": [{\"colorbar\": {\"outlinewidth\": 0, \"ticks\": \"\"}, \"colorscale\": [[0.0, \"#0d0887\"], [0.1111111111111111, \"#46039f\"], [0.2222222222222222, \"#7201a8\"], [0.3333333333333333, \"#9c179e\"], [0.4444444444444444, \"#bd3786\"], [0.5555555555555556, \"#d8576b\"], [0.6666666666666666, \"#ed7953\"], [0.7777777777777778, \"#fb9f3a\"], [0.8888888888888888, \"#fdca26\"], [1.0, \"#f0f921\"]], \"type\": \"histogram2dcontour\"}], \"mesh3d\": [{\"colorbar\": {\"outlinewidth\": 0, \"ticks\": \"\"}, \"type\": \"mesh3d\"}], \"parcoords\": [{\"line\": {\"colorbar\": {\"outlinewidth\": 0, \"ticks\": \"\"}}, \"type\": \"parcoords\"}], \"pie\": [{\"automargin\": true, \"type\": \"pie\"}], \"scatter\": [{\"marker\": {\"colorbar\": {\"outlinewidth\": 0, \"ticks\": \"\"}}, \"type\": \"scatter\"}], \"scatter3d\": [{\"line\": {\"colorbar\": {\"outlinewidth\": 0, \"ticks\": \"\"}}, \"marker\": {\"colorbar\": {\"outlinewidth\": 0, \"ticks\": \"\"}}, \"type\": \"scatter3d\"}], \"scattercarpet\": [{\"marker\": {\"colorbar\": {\"outlinewidth\": 0, \"ticks\": \"\"}}, \"type\": \"scattercarpet\"}], \"scattergeo\": [{\"marker\": {\"colorbar\": {\"outlinewidth\": 0, \"ticks\": \"\"}}, \"type\": \"scattergeo\"}], \"scattergl\": [{\"marker\": {\"colorbar\": {\"outlinewidth\": 0, \"ticks\": \"\"}}, \"type\": \"scattergl\"}], \"scattermapbox\": [{\"marker\": {\"colorbar\": {\"outlinewidth\": 0, \"ticks\": \"\"}}, \"type\": \"scattermapbox\"}], \"scatterpolar\": [{\"marker\": {\"colorbar\": {\"outlinewidth\": 0, \"ticks\": \"\"}}, \"type\": \"scatterpolar\"}], \"scatterpolargl\": [{\"marker\": {\"colorbar\": {\"outlinewidth\": 0, \"ticks\": \"\"}}, \"type\": \"scatterpolargl\"}], \"scatterternary\": [{\"marker\": {\"colorbar\": {\"outlinewidth\": 0, \"ticks\": \"\"}}, \"type\": \"scatterternary\"}], \"surface\": [{\"colorbar\": {\"outlinewidth\": 0, \"ticks\": \"\"}, \"colorscale\": [[0.0, \"#0d0887\"], [0.1111111111111111, \"#46039f\"], [0.2222222222222222, \"#7201a8\"], [0.3333333333333333, \"#9c179e\"], [0.4444444444444444, \"#bd3786\"], [0.5555555555555556, \"#d8576b\"], [0.6666666666666666, \"#ed7953\"], [0.7777777777777778, \"#fb9f3a\"], [0.8888888888888888, \"#fdca26\"], [1.0, \"#f0f921\"]], \"type\": \"surface\"}], \"table\": [{\"cells\": {\"fill\": {\"color\": \"#EBF0F8\"}, \"line\": {\"color\": \"white\"}}, \"header\": {\"fill\": {\"color\": \"#C8D4E3\"}, \"line\": {\"color\": \"white\"}}, \"type\": \"table\"}]}, \"layout\": {\"annotationdefaults\": {\"arrowcolor\": \"#2a3f5f\", \"arrowhead\": 0, \"arrowwidth\": 1}, \"coloraxis\": {\"colorbar\": {\"outlinewidth\": 0, \"ticks\": \"\"}}, \"colorscale\": {\"diverging\": [[0, \"#8e0152\"], [0.1, \"#c51b7d\"], [0.2, \"#de77ae\"], [0.3, \"#f1b6da\"], [0.4, \"#fde0ef\"], [0.5, \"#f7f7f7\"], [0.6, \"#e6f5d0\"], [0.7, \"#b8e186\"], [0.8, \"#7fbc41\"], [0.9, \"#4d9221\"], [1, \"#276419\"]], \"sequential\": [[0.0, \"#0d0887\"], [0.1111111111111111, \"#46039f\"], [0.2222222222222222, \"#7201a8\"], [0.3333333333333333, \"#9c179e\"], [0.4444444444444444, \"#bd3786\"], [0.5555555555555556, \"#d8576b\"], [0.6666666666666666, \"#ed7953\"], [0.7777777777777778, \"#fb9f3a\"], [0.8888888888888888, \"#fdca26\"], [1.0, \"#f0f921\"]], \"sequentialminus\": [[0.0, \"#0d0887\"], [0.1111111111111111, \"#46039f\"], [0.2222222222222222, \"#7201a8\"], [0.3333333333333333, \"#9c179e\"], [0.4444444444444444, \"#bd3786\"], [0.5555555555555556, \"#d8576b\"], [0.6666666666666666, \"#ed7953\"], [0.7777777777777778, \"#fb9f3a\"], [0.8888888888888888, \"#fdca26\"], [1.0, \"#f0f921\"]]}, \"colorway\": [\"#636efa\", \"#EF553B\", \"#00cc96\", \"#ab63fa\", \"#FFA15A\", \"#19d3f3\", \"#FF6692\", \"#B6E880\", \"#FF97FF\", \"#FECB52\"], \"font\": {\"color\": \"#2a3f5f\"}, \"geo\": {\"bgcolor\": \"white\", \"lakecolor\": \"white\", \"landcolor\": \"#E5ECF6\", \"showlakes\": true, \"showland\": true, \"subunitcolor\": \"white\"}, \"hoverlabel\": {\"align\": \"left\"}, \"hovermode\": \"closest\", \"mapbox\": {\"style\": \"light\"}, \"paper_bgcolor\": \"white\", \"plot_bgcolor\": \"#E5ECF6\", \"polar\": {\"angularaxis\": {\"gridcolor\": \"white\", \"linecolor\": \"white\", \"ticks\": \"\"}, \"bgcolor\": \"#E5ECF6\", \"radialaxis\": {\"gridcolor\": \"white\", \"linecolor\": \"white\", \"ticks\": \"\"}}, \"scene\": {\"xaxis\": {\"backgroundcolor\": \"#E5ECF6\", \"gridcolor\": \"white\", \"gridwidth\": 2, \"linecolor\": \"white\", \"showbackground\": true, \"ticks\": \"\", \"zerolinecolor\": \"white\"}, \"yaxis\": {\"backgroundcolor\": \"#E5ECF6\", \"gridcolor\": \"white\", \"gridwidth\": 2, \"linecolor\": \"white\", \"showbackground\": true, \"ticks\": \"\", \"zerolinecolor\": \"white\"}, \"zaxis\": {\"backgroundcolor\": \"#E5ECF6\", \"gridcolor\": \"white\", \"gridwidth\": 2, \"linecolor\": \"white\", \"showbackground\": true, \"ticks\": \"\", \"zerolinecolor\": \"white\"}}, \"shapedefaults\": {\"line\": {\"color\": \"#2a3f5f\"}}, \"ternary\": {\"aaxis\": {\"gridcolor\": \"white\", \"linecolor\": \"white\", \"ticks\": \"\"}, \"baxis\": {\"gridcolor\": \"white\", \"linecolor\": \"white\", \"ticks\": \"\"}, \"bgcolor\": \"#E5ECF6\", \"caxis\": {\"gridcolor\": \"white\", \"linecolor\": \"white\", \"ticks\": \"\"}}, \"title\": {\"x\": 0.05}, \"xaxis\": {\"automargin\": true, \"gridcolor\": \"white\", \"linecolor\": \"white\", \"ticks\": \"\", \"title\": {\"standoff\": 15}, \"zerolinecolor\": \"white\", \"zerolinewidth\": 2}, \"yaxis\": {\"automargin\": true, \"gridcolor\": \"white\", \"linecolor\": \"white\", \"ticks\": \"\", \"title\": {\"standoff\": 15}, \"zerolinecolor\": \"white\", \"zerolinewidth\": 2}}}, \"title\": {\"text\": \"cubic spline for knot at x=0.7\"}, \"xaxis\": {\"anchor\": \"y\", \"domain\": [0.0, 1.0], \"title\": {\"text\": \"x\"}}, \"yaxis\": {\"anchor\": \"x\", \"domain\": [0.0, 1.0], \"title\": {\"text\": \"y\"}}},\n",
       "                        {\"responsive\": true}\n",
       "                    ).then(function(){\n",
       "                            \n",
       "var gd = document.getElementById('54c99b5e-22b5-4337-931b-02aa118a1cdd');\n",
       "var x = new MutationObserver(function (mutations, observer) {{\n",
       "        var display = window.getComputedStyle(gd).display;\n",
       "        if (!display || display === 'none') {{\n",
       "            console.log([gd, 'removed!']);\n",
       "            Plotly.purge(gd);\n",
       "            observer.disconnect();\n",
       "        }}\n",
       "}});\n",
       "\n",
       "// Listen for the removal of the full notebook cells\n",
       "var notebookContainer = gd.closest('#notebook-container');\n",
       "if (notebookContainer) {{\n",
       "    x.observe(notebookContainer, {childList: true});\n",
       "}}\n",
       "\n",
       "// Listen for the clearing of the current output cell\n",
       "var outputEl = gd.closest('.output');\n",
       "if (outputEl) {{\n",
       "    x.observe(outputEl, {childList: true});\n",
       "}}\n",
       "\n",
       "                        })\n",
       "                };\n",
       "                });\n",
       "            </script>\n",
       "        </div>"
      ]
     },
     "metadata": {},
     "output_type": "display_data"
    }
   ],
   "source": [
    "x = np.linspace(0,1,100)\n",
    "k = np.arange(1,10) / 10\n",
    "i, m = 4, 2\n",
    "\n",
    "b4 = bspline(x, k, i, m)\n",
    "fig = px.scatter(x = x, y=b4)\n",
    "for knot in k:\n",
    "    vertLinePlotly(fig, x0=knot, y1=np.max(b4))\n",
    "\n",
    "#fig.add_shape(dict(type=\"line\", x0=k[i], x1=k[i], y0=0, y1=1.2*np.max(b4), line=dict(color=\"LightSeaGreen\", width=2)))\n",
    "fig.update_layout(title=\"cubic spline for knot at x=0.7\")\n",
    "fig.show()"
   ]
  },
  {
   "cell_type": "code",
   "execution_count": 25,
   "metadata": {},
   "outputs": [
    {
     "ename": "AssertionError",
     "evalue": "Type of input k is not int",
     "output_type": "error",
     "traceback": [
      "\u001b[1;31m---------------------------------------------------------------------------\u001b[0m",
      "\u001b[1;31mAssertionError\u001b[0m                            Traceback (most recent call last)",
      "\u001b[1;32m<ipython-input-25-0064478e6c0a>\u001b[0m in \u001b[0;36m<module>\u001b[1;34m\u001b[0m\n\u001b[0;32m      1\u001b[0m \u001b[0mk\u001b[0m \u001b[1;33m=\u001b[0m \u001b[1;36m6.1\u001b[0m\u001b[1;33m\u001b[0m\u001b[1;33m\u001b[0m\u001b[0m\n\u001b[1;32m----> 2\u001b[1;33m \u001b[1;32massert\u001b[0m \u001b[1;33m(\u001b[0m\u001b[0mtype\u001b[0m\u001b[1;33m(\u001b[0m\u001b[0mk\u001b[0m\u001b[1;33m)\u001b[0m \u001b[1;32mis\u001b[0m \u001b[0mint\u001b[0m\u001b[1;33m)\u001b[0m\u001b[1;33m,\u001b[0m \u001b[1;34m\"Type of input k is not int\"\u001b[0m\u001b[1;33m\u001b[0m\u001b[1;33m\u001b[0m\u001b[0m\n\u001b[0m\u001b[0;32m      3\u001b[0m \u001b[0ma\u001b[0m \u001b[1;33m=\u001b[0m\u001b[0mnp\u001b[0m\u001b[1;33m.\u001b[0m\u001b[0meye\u001b[0m\u001b[1;33m(\u001b[0m\u001b[0mk\u001b[0m\u001b[1;33m)\u001b[0m\u001b[1;33m\u001b[0m\u001b[1;33m\u001b[0m\u001b[0m\n\u001b[0;32m      4\u001b[0m \u001b[0mP\u001b[0m \u001b[1;33m=\u001b[0m \u001b[0mnp\u001b[0m\u001b[1;33m.\u001b[0m\u001b[0mdiff\u001b[0m\u001b[1;33m(\u001b[0m\u001b[0ma\u001b[0m\u001b[1;33m,\u001b[0m \u001b[0maxis\u001b[0m\u001b[1;33m=\u001b[0m\u001b[1;36m0\u001b[0m\u001b[1;33m)\u001b[0m\u001b[1;33m\u001b[0m\u001b[1;33m\u001b[0m\u001b[0m\n\u001b[0;32m      5\u001b[0m \u001b[0mnp\u001b[0m\u001b[1;33m.\u001b[0m\u001b[0mdot\u001b[0m\u001b[1;33m(\u001b[0m\u001b[0mP\u001b[0m\u001b[1;33m.\u001b[0m\u001b[0mT\u001b[0m\u001b[1;33m,\u001b[0m\u001b[0mP\u001b[0m\u001b[1;33m)\u001b[0m\u001b[1;33m.\u001b[0m\u001b[0mshape\u001b[0m\u001b[1;33m\u001b[0m\u001b[1;33m\u001b[0m\u001b[0m\n",
      "\u001b[1;31mAssertionError\u001b[0m: Type of input k is not int"
     ]
    }
   ],
   "source": [
    "k = 6.1\n",
    "assert (type(k) is int), \"Type of input k is not int\"\n",
    "a =np.eye(k)\n",
    "P = np.diff(a, axis=0)\n",
    "np.dot(P.T,P).shape"
   ]
  },
  {
   "cell_type": "code",
   "execution_count": null,
   "metadata": {},
   "outputs": [],
   "source": []
  }
 ],
 "metadata": {
  "kernelspec": {
   "display_name": "Python 3.7.6 64-bit ('thesis': conda)",
   "language": "python",
   "name": "python37664bitthesisconda4e23a8f720bf476ebd0f5fe3f9ef6962"
  },
  "language_info": {
   "codemirror_mode": {
    "name": "ipython",
    "version": 3
   },
   "file_extension": ".py",
   "mimetype": "text/x-python",
   "name": "python",
   "nbconvert_exporter": "python",
   "pygments_lexer": "ipython3",
   "version": "3.7.6"
  }
 },
 "nbformat": 4,
 "nbformat_minor": 4
}
