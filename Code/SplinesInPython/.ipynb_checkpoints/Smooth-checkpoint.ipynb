{
 "cells": [
  {
   "cell_type": "markdown",
   "metadata": {},
   "source": [
    "**Implementation of the 1D smooth for a BSpline basis with penalties**"
   ]
  },
  {
   "cell_type": "code",
   "execution_count": 5,
   "metadata": {},
   "outputs": [
    {
     "name": "stderr",
     "output_type": "stream",
     "text": [
      "[NbConvertApp] Converting notebook Smooth.ipynb to script\n",
      "[NbConvertApp] Writing 1351 bytes to Smooth.py\n"
     ]
    }
   ],
   "source": [
    "# convert jupyter notebook to python script\n",
    "!jupyter nbconvert --to script Smooth.ipynb"
   ]
  },
  {
   "cell_type": "code",
   "execution_count": 4,
   "metadata": {},
   "outputs": [],
   "source": [
    "from ClassBSplines import BSpline\n",
    "\n",
    "class Smooths(BSpline):\n",
    "    \"\"\"Implementation of the 1d smooth used in Additive Models.\"\"\"\n",
    "\n",
    "    def __init__(self, x_data, n_param, penalties=\"smooth\"):\n",
    "        print(\"Type x_data: \", type(x_data))\n",
    "        self.x_data = x_data\n",
    "        self.n_param = n_param\n",
    "        self.penalties = penalties\n",
    "        self.lam = None\n",
    "        self.bspline = BSpline()\n",
    "        self.b_spline_basis(x_basis=self.x_data, k=self.n_param)\n",
    "        \n",
    "        if penalties is \"inc\":\n",
    "            self.penalty_matrix = self.D1_difference_matrix()\n",
    "        elif penalties is \"dec\":\n",
    "            self.penalty_matrix = -1 * self.D1_difference_matrix() \n",
    "        elif penalties is \"conv\":\n",
    "            self.penalty_matrix = self.D2_difference_matrix()\n",
    "        elif penalties is \"conc\":\n",
    "            self.penalty_matrix = -1 * self.D2_difference_matrix()\n",
    "        elif penalties is \"smooth\":\n",
    "            self.penalty_matrix = self.D2_difference_matrix()\n",
    "        else:\n",
    "            print(f\"Penalty {penalties} not implemented!\")\n",
    "    "
   ]
  },
  {
   "cell_type": "code",
   "execution_count": null,
   "metadata": {},
   "outputs": [],
   "source": []
  }
 ],
 "metadata": {
  "kernelspec": {
   "display_name": "Python 3",
   "language": "python",
   "name": "python3"
  },
  "language_info": {
   "codemirror_mode": {
    "name": "ipython",
    "version": 3
   },
   "file_extension": ".py",
   "mimetype": "text/x-python",
   "name": "python",
   "nbconvert_exporter": "python",
   "pygments_lexer": "ipython3",
   "version": "3.7.7"
  }
 },
 "nbformat": 4,
 "nbformat_minor": 4
}
