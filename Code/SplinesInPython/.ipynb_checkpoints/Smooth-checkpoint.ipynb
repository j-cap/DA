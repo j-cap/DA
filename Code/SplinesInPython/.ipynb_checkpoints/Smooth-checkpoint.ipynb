{
 "cells": [
  {
   "cell_type": "markdown",
   "metadata": {},
   "source": [
    "**Implementation of the 1D smooth for a BSpline basis with penalties**"
   ]
  },
  {
   "cell_type": "code",
   "execution_count": 7,
   "metadata": {},
   "outputs": [
    {
     "name": "stderr",
     "output_type": "stream",
     "text": [
      "[NbConvertApp] Converting notebook smooth.ipynb to script\n",
      "[NbConvertApp] Writing 4617 bytes to smooth.py\n"
     ]
    }
   ],
   "source": [
    "# convert jupyter notebook to python script\n",
    "!jupyter nbconvert --to script smooth.ipynb"
   ]
  },
  {
   "cell_type": "code",
   "execution_count": 1,
   "metadata": {},
   "outputs": [],
   "source": [
    "import numpy as np\n",
    "\n",
    "from bspline import B_spline\n",
    "from TensorProductSplines import TensorProductSpline\n",
    "\n",
    "class Smooths(B_spline):\n",
    "    \"\"\"Implementation of the 1d smooth used in Additive Models.\"\"\"\n",
    "\n",
    "    def __init__(self, x_data, n_param, penalty=\"smooth\", y_peak_or_valley=None, lam_c=None, lam_s=None):\n",
    "        \"\"\"Create the B-spline basis as well as the penalty matrices for the penalty.\n",
    "        \n",
    "        Parameters:\n",
    "        -------------------\n",
    "        x_data  : array of shape (len(x_data), )          - Values to build the B-spline basis for.\n",
    "        n_param : int                                     - Number of B-Splines to use for the basis.\n",
    "        penalty : string                                  - Type of penalty, one of \"smooth\", \"inc\", \"dec\"\n",
    "                                                            \"conv\", \"conc\", \"peak\", \"valley\".\n",
    "        y_peak_or_valley : array of shape (len(x_data), ) - Response variable values to search for the peak\n",
    "                                                            or valley, respectively. \n",
    "        lam_c   : float                                   - Smoothing parameter value for the constraint. \n",
    "        lam_s   : float                                   - Smoothing parameter value for the smoothness\n",
    "                                                            penalty.\n",
    "        -------------------\n",
    "        \"\"\"\n",
    "        self.x_data = x_data\n",
    "        self.n_param = n_param\n",
    "        self.penalty = penalty\n",
    "        self.lam_constraint = lam_c\n",
    "        self.lam_smooth = lam_s\n",
    "        self.bspline = B_spline()\n",
    "        self.b_spline_basis(x_basis=self.x_data, k=self.n_param)\n",
    "        \n",
    "        # Sanity check for peak/valley penalty\n",
    "        if penalty is \"peak\" or penalty is \"valley\":\n",
    "            assert (y_peak_or_valley is not None), \"Include real y_data in Smooths()\"\n",
    "        \n",
    "        # Create the penalty matrix for the given penalty\n",
    "        if penalty is \"inc\":\n",
    "            self.penalty_matrix = self.D1_difference_matrix()\n",
    "        elif penalty is \"dec\":\n",
    "            self.penalty_matrix = -1 * self.D1_difference_matrix() \n",
    "        elif penalty is \"conv\":\n",
    "            self.penalty_matrix = self.D2_difference_matrix()\n",
    "        elif penalty is \"conc\":\n",
    "            self.penalty_matrix = -1 * self.D2_difference_matrix()\n",
    "        elif penalty is \"smooth\":\n",
    "            self.penalty_matrix = self.Smoothness_matrix()\n",
    "        elif penalty is \"peak\":\n",
    "            self.penalty_matrix = self.Peak_matrix(basis=self.basis, y_data=y_peak_or_valley)\n",
    "        elif penalty is \"valley\":\n",
    "            self.penalty_matrix = self.Valley_matrix(basis=self.basis, y_data=y_peak_or_valley)\n",
    "        else:\n",
    "            print(f\"Penalty {penalty} not implemented!\")\n",
    "    \n",
    "class TensorProductSmooths(TensorProductSpline):\n",
    "    \"\"\"Implementation of the 2d tensor product spline smooth in Additive Models.\"\"\"\n",
    "    \n",
    "    def __init__(self, x_data=None, n_param=(1,1), penalty=\"smooth\", lam_c=None, lam_s=None):\n",
    "        \"\"\"Create the tensor product spline basis as well as the smoothness penalty matrices.\n",
    "        \n",
    "        Parameters:\n",
    "        -------------------\n",
    "        x_data  : array of shape (len(x_data), 2)         - Values to build the B-spline basis for.\n",
    "        n_param : tuple of integer                        - Number of B-Splines per dimension.\n",
    "        penalty : string                                  - Type of penalty, currently only \"smooth\"\n",
    "        lam_c   : float                                   - Smoothing parameter value for the constraint. \n",
    "        lam_s   : float                                   - Smoothing parameter value for the smoothness\n",
    "                                                            penalty.\n",
    "        -------------------\n",
    "        \"\"\"\n",
    "        \n",
    "        self.x_data = x_data\n",
    "        self.x1, self.x2 = x_data[:,0], x_data[:,1]\n",
    "        self.n_param = n_param\n",
    "        self.penalty = penalty\n",
    "        self.lam_constraint = lam_c\n",
    "        self.lam_smooth = lam_s\n",
    "        self.tps = TensorProductSpline()\n",
    "        self.tensor_product_spline_2d_basis(x_basis=self.x_data, k1=n_param[0], k2=n_param[1])\n",
    "        \n",
    "        # Create the penalty matrix for the given penalty\n",
    "        if penalty is \"smooth\":\n",
    "            print(f\"Penalty [{penalty}] Needs to be implemented!\")\n",
    "            #self.penalty_matrix = self.Smoothness_matrix()\n",
    "        else:\n",
    "            print(f\"Penalty {penalty} not implemented!\")\n",
    "        "
   ]
  },
  {
   "cell_type": "code",
   "execution_count": 14,
   "metadata": {},
   "outputs": [],
   "source": []
  }
 ],
 "metadata": {
  "kernelspec": {
   "display_name": "Python 3",
   "language": "python",
   "name": "python3"
  },
  "language_info": {
   "codemirror_mode": {
    "name": "ipython",
    "version": 3
   },
   "file_extension": ".py",
   "mimetype": "text/x-python",
   "name": "python",
   "nbconvert_exporter": "python",
   "pygments_lexer": "ipython3",
   "version": "3.7.6"
  }
 },
 "nbformat": 4,
 "nbformat_minor": 4
}
