{
 "cells": [
  {
   "cell_type": "code",
   "execution_count": 1,
   "metadata": {},
   "outputs": [],
   "source": [
    "import plotly.express as px\n",
    "import plotly.graph_objects as go\n",
    "from plotly.subplots import make_subplots\n",
    "import numpy as np\n",
    "import pprint\n",
    "\n",
    "np.random.seed(42)\n",
    "\n",
    "import pandas as pd\n",
    "from numpy.linalg import lstsq, cholesky\n",
    "from scipy.linalg import sqrtm, schur, block_diag\n",
    "from sklearn.model_selection import train_test_split\n",
    "from sklearn.metrics import mean_squared_error\n",
    "from sklearn.preprocessing import MinMaxScaler, StandardScaler\n",
    "\n",
    "from ClassBSplines import BSpline\n",
    "from TensorProductSplines import TensorProductSpline\n",
    "from PenaltyMatrices import PenaltyMatrix\n",
    "from Smooth import Smooths as s\n",
    "from Smooth import TP_Smooths as tps\n",
    " \n",
    "from ClassBSplines import BSpline as b\n",
    "from TensorProductSplines import TensorProductSpline as t\n",
    "from DiagnosticPlot import DiagnosticPlotter\n",
    "from Model_Notebook import Model, bar_chart_of_coefficient_difference_dataframe\n",
    "from Model_Notebook import line_chart_of_coefficient_dataframe, check_constraint, check_constraint_full_model"
   ]
  },
  {
   "cell_type": "code",
   "execution_count": 10,
   "metadata": {},
   "outputs": [],
   "source": [
    "#########################################################################\n",
    "## DATA GENERATION TEST CASE\n",
    "#########################################################################\n",
    "np.random.seed(42)\n",
    "X = pd.DataFrame(data={\"x1\": np.linspace(-2,2,1000), \n",
    "                       \"x2\": np.linspace(0,1,1000) }) #,\n",
    "                       #\"x3\": np.linspace(-2,2,1000), \"x4\": np.linspace(0,1,1000) \n",
    "                       #\"x5\": np.linspace(-2,2,1000), \"x6\": np.linspace(0,1,1000)})\n",
    "y = pd.DataFrame(data={\"y\": -2*np.exp(-X[\"x1\"]**2) + 0.1*np.exp(X[\"x2\"]) + \n",
    "                       0.1*np.random.randn(len(X[\"x1\"])) + X[\"x1\"] * X[\"x2\"]  })\n",
    "\n",
    "X_norm = MinMaxScaler().fit_transform(X)\n",
    "y_norm = MinMaxScaler().fit_transform(y)\n",
    "\n",
    "X_train, X_test, y_train, y_test = train_test_split(X_norm, y_norm, test_size=0.5, shuffle=True)\n",
    "\n",
    "\n",
    "#X_test, X_train = X_test.sort_index(), X_train.sort_index()\n",
    "#y_train, y_test = y_train.sort_index(), y_test.sort_index()\n",
    "\n",
    "#fig = make_subplots(rows=1, cols=2, \n",
    "#                    specs=[[{'type':'scatter'}, {'type':'scatter3d'}] ])\n",
    "#fig.add_trace(go.Scatter(x=X_norm[:,0], y=y_norm.ravel(), mode=\"markers\", name=\"Data\"), row=1, col=1)\n",
    "#fig.add_trace(go.Scatter3d(x=X_norm[:,0], y=X_norm[:,1], z=y_norm.ravel(),\n",
    "#                           name=\"Data\", mode=\"markers\"), row=1, col=2)\n",
    "#fig.show()\n",
    "\n",
    "#########################################################################\n",
    "# TEST CASE\n",
    "#########################################################################\n",
    "m = ( ('s(1)', 'valley', 25, (1, 1000)),  \n",
    "      ('s(2)', 'smooth', 25, (1, 1000)), \n",
    "      ('t(1,2)','tps', [5,5], (1, 1000)), )\n",
    "     #('s(3)', 'smooth', 10), ('s(4)', 'smooth', 10), )\n",
    "     #   ('s(3)', 'smooth', 10), ('s(4)', 'smooth', 10)  )\n"
   ]
  },
  {
   "cell_type": "code",
   "execution_count": 13,
   "metadata": {},
   "outputs": [],
   "source": [
    "M1 = Model(m)\n",
    "\n",
    "print(\"Description of the model: \")\n",
    "pprint.pprint(M1.description_dict)\n",
    "f = M1.fit(X_norm, y_norm.ravel(), lam_c=1, plot_=False)\n",
    "#bar_chart_of_coefficient_difference_dataframe(M1.df_beta)\n",
    "#line_chart_of_coefficient_dataframe(M1.df_beta)\n",
    "\n",
    "pred = M1.predict(X=X_test)\n",
    "print(\"MSE prediction: \", mean_squared_error(pred.ravel(), y_test.ravel()))\n",
    "\n",
    "fig = go.Figure()\n",
    "fig.add_trace(go.Scatter(x=X_train[:,0], y=y_train.ravel(), name=\"Train set\", mode=\"markers\"))\n",
    "fig.add_trace(go.Scatter(x=X_test[:,0], y=y_test.ravel(), name=\"Test set\",mode=\"markers\"))\n",
    "fig.add_trace(go.Scatter(x=M1.X_fit[:,0], y=f, name=\"Fit\", mode=\"lines\"))\n",
    "fig.add_trace(go.Scatter(x=M1.X_pred[:,0], y=pred.ravel(), name=\"Prediction\", mode=\"lines\"))\n",
    "\n",
    "fig.update_layout(xaxis_title=\"x1\", yaxis_title=\"y\")\n",
    "fig.show()"
   ]
  },
  {
   "cell_type": "code",
   "execution_count": null,
   "metadata": {},
   "outputs": [],
   "source": []
  }
 ],
 "metadata": {
  "kernelspec": {
   "display_name": "Python 3",
   "language": "python",
   "name": "python3"
  },
  "language_info": {
   "codemirror_mode": {
    "name": "ipython",
    "version": 3
   },
   "file_extension": ".py",
   "mimetype": "text/x-python",
   "name": "python",
   "nbconvert_exporter": "python",
   "pygments_lexer": "ipython3",
   "version": "3.7.6"
  }
 },
 "nbformat": 4,
 "nbformat_minor": 4
}
