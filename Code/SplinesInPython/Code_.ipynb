{
 "cells": [
  {
   "cell_type": "code",
   "execution_count": 1,
   "metadata": {},
   "outputs": [
    {
     "name": "stderr",
     "output_type": "stream",
     "text": [
      "[NbConvertApp] Converting notebook Model_Notebook.ipynb to script\n",
      "[NbConvertApp] Writing 12401 bytes to Model_Notebook.py\n"
     ]
    }
   ],
   "source": [
    "import plotly.express as px\n",
    "import plotly.graph_objects as go\n",
    "from plotly.subplots import make_subplots\n",
    "import numpy as np\n",
    "np.random.seed(42)\n",
    "\n",
    "import numpy as np\n",
    "import pandas as pd\n",
    "from numpy.linalg import lstsq, cholesky\n",
    "from scipy.linalg import sqrtm, schur, block_diag\n",
    "from sklearn.model_selection import train_test_split\n",
    "from sklearn.metrics import mean_squared_error\n",
    "from sklearn.preprocessing import MinMaxScaler, StandardScaler\n",
    "\n",
    "from ClassBSplines import BSpline\n",
    "from TensorProductSplines import TensorProductSpline\n",
    "from PenaltyMatrices import PenaltyMatrix\n",
    "from Smooth import Smooths as s\n",
    "from Smooth import TP_Smooths as tps\n",
    " \n",
    "from ClassBSplines import BSpline as b\n",
    "from TensorProductSplines import TensorProductSpline as t\n",
    "from DiagnosticPlot import DiagnosticPlotter\n",
    "from Model_Notebook import Model, bar_chart_of_coefficient_difference_dataframe\n",
    "from Model_Notebook import line_chart_of_coefficient_dataframe, check_constraint, check_constraint_full_model"
   ]
  },
  {
   "cell_type": "code",
   "execution_count": 36,
   "metadata": {
    "scrolled": false
   },
   "outputs": [
    {
     "ename": "AssertionError",
     "evalue": "Nr of smooths must match Nr of predictors!",
     "output_type": "error",
     "traceback": [
      "\u001b[1;31m---------------------------------------------------------------------------\u001b[0m",
      "\u001b[1;31mAssertionError\u001b[0m                            Traceback (most recent call last)",
      "\u001b[1;32m<ipython-input-36-f198ac92f100>\u001b[0m in \u001b[0;36m<module>\u001b[1;34m\u001b[0m\n\u001b[0;32m     35\u001b[0m \u001b[1;33m\u001b[0m\u001b[0m\n\u001b[0;32m     36\u001b[0m \u001b[0mM\u001b[0m \u001b[1;33m=\u001b[0m \u001b[0mModel\u001b[0m\u001b[1;33m(\u001b[0m\u001b[0mm\u001b[0m\u001b[1;33m)\u001b[0m\u001b[1;33m\u001b[0m\u001b[1;33m\u001b[0m\u001b[0m\n\u001b[1;32m---> 37\u001b[1;33m \u001b[0mf\u001b[0m \u001b[1;33m=\u001b[0m \u001b[0mM\u001b[0m\u001b[1;33m.\u001b[0m\u001b[0mfit\u001b[0m\u001b[1;33m(\u001b[0m\u001b[0mX_norm\u001b[0m\u001b[1;33m,\u001b[0m \u001b[0my_norm\u001b[0m\u001b[1;33m,\u001b[0m \u001b[0mlam_c\u001b[0m\u001b[1;33m=\u001b[0m\u001b[1;36m1000\u001b[0m\u001b[1;33m,\u001b[0m \u001b[0mplot_\u001b[0m\u001b[1;33m=\u001b[0m\u001b[1;32mTrue\u001b[0m\u001b[1;33m)\u001b[0m\u001b[1;33m\u001b[0m\u001b[1;33m\u001b[0m\u001b[0m\n\u001b[0m\u001b[0;32m     38\u001b[0m \u001b[0mbar_chart_of_coefficient_difference_dataframe\u001b[0m\u001b[1;33m(\u001b[0m\u001b[0mM\u001b[0m\u001b[1;33m.\u001b[0m\u001b[0mdf_beta\u001b[0m\u001b[1;33m)\u001b[0m\u001b[1;33m\u001b[0m\u001b[1;33m\u001b[0m\u001b[0m\n\u001b[0;32m     39\u001b[0m \u001b[0mline_chart_of_coefficient_dataframe\u001b[0m\u001b[1;33m(\u001b[0m\u001b[0mM\u001b[0m\u001b[1;33m.\u001b[0m\u001b[0mdf_beta\u001b[0m\u001b[1;33m)\u001b[0m\u001b[1;33m\u001b[0m\u001b[1;33m\u001b[0m\u001b[0m\n",
      "\u001b[1;32m~\\Documents\\Master-Thesis\\Code\\SplinesInPython\\Model_Notebook.py\u001b[0m in \u001b[0;36mfit\u001b[1;34m(self, X, y, lam_c, plot_, max_iter)\u001b[0m\n\u001b[0;32m    166\u001b[0m \u001b[1;33m\u001b[0m\u001b[0m\n\u001b[0;32m    167\u001b[0m         \u001b[1;31m# create the basis for the initial fit without penalties\u001b[0m\u001b[1;33m\u001b[0m\u001b[1;33m\u001b[0m\u001b[1;33m\u001b[0m\u001b[0m\n\u001b[1;32m--> 168\u001b[1;33m         \u001b[0mself\u001b[0m\u001b[1;33m.\u001b[0m\u001b[0mcreate_basis\u001b[0m\u001b[1;33m(\u001b[0m\u001b[0mX\u001b[0m\u001b[1;33m)\u001b[0m\u001b[1;33m\u001b[0m\u001b[1;33m\u001b[0m\u001b[0m\n\u001b[0m\u001b[0;32m    169\u001b[0m \u001b[1;33m\u001b[0m\u001b[0m\n\u001b[0;32m    170\u001b[0m         \u001b[0mfitting\u001b[0m \u001b[1;33m=\u001b[0m \u001b[0mlstsq\u001b[0m\u001b[1;33m(\u001b[0m\u001b[0ma\u001b[0m\u001b[1;33m=\u001b[0m\u001b[0mself\u001b[0m\u001b[1;33m.\u001b[0m\u001b[0mbasis\u001b[0m\u001b[1;33m,\u001b[0m \u001b[0mb\u001b[0m\u001b[1;33m=\u001b[0m\u001b[0my\u001b[0m\u001b[1;33m,\u001b[0m \u001b[0mrcond\u001b[0m\u001b[1;33m=\u001b[0m\u001b[1;32mNone\u001b[0m\u001b[1;33m)\u001b[0m\u001b[1;33m\u001b[0m\u001b[1;33m\u001b[0m\u001b[0m\n",
      "\u001b[1;32m~\\Documents\\Master-Thesis\\Code\\SplinesInPython\\Model_Notebook.py\u001b[0m in \u001b[0;36mcreate_basis\u001b[1;34m(self, X)\u001b[0m\n\u001b[0;32m     70\u001b[0m \u001b[1;33m\u001b[0m\u001b[0m\n\u001b[0;32m     71\u001b[0m         \"\"\"\n\u001b[1;32m---> 72\u001b[1;33m         \u001b[1;32massert\u001b[0m \u001b[1;33m(\u001b[0m\u001b[0mlen\u001b[0m\u001b[1;33m(\u001b[0m\u001b[0mself\u001b[0m\u001b[1;33m.\u001b[0m\u001b[0mdescription_str\u001b[0m\u001b[1;33m)\u001b[0m \u001b[1;33m==\u001b[0m \u001b[0mX\u001b[0m\u001b[1;33m.\u001b[0m\u001b[0mshape\u001b[0m\u001b[1;33m[\u001b[0m\u001b[1;36m1\u001b[0m\u001b[1;33m]\u001b[0m\u001b[1;33m)\u001b[0m\u001b[1;33m,\u001b[0m\u001b[1;34m\"Nr of smooths must match Nr of predictors!\"\u001b[0m\u001b[1;33m\u001b[0m\u001b[1;33m\u001b[0m\u001b[0m\n\u001b[0m\u001b[0;32m     73\u001b[0m \u001b[1;33m\u001b[0m\u001b[0m\n\u001b[0;32m     74\u001b[0m         \u001b[1;31m# smooths without tensor product splines\u001b[0m\u001b[1;33m\u001b[0m\u001b[1;33m\u001b[0m\u001b[1;33m\u001b[0m\u001b[0m\n",
      "\u001b[1;31mAssertionError\u001b[0m: Nr of smooths must match Nr of predictors!"
     ]
    }
   ],
   "source": [
    "#########################################################################\n",
    "## DATA GENERATION TEST CASE\n",
    "#########################################################################\n",
    "np.random.seed(42)\n",
    "X = pd.DataFrame(data={\"x1\": np.linspace(-2,2,1000), \n",
    "                       \"x2\": np.linspace(0,1,1000) }) #,\n",
    "                       #\"x3\": np.linspace(-2,2,1000), }) # \"x4\": np.linspace(0,1,1000) })\n",
    "                       #\"x5\": np.linspace(-2,2,1000), \"x6\": np.linspace(0,1,1000)})\n",
    "y = pd.DataFrame(data={\"y\": 20*np.sin(X[\"x1\"]) + 0.1*np.exp(X[\"x1\"]) + \n",
    "                       np.random.randn(len(X[\"x1\"])) + X[\"x1\"] * X[\"x2\"]  })\n",
    "\n",
    "X_train, X_test, y_train, y_test = train_test_split(X, y, test_size=0.5, shuffle=True)\n",
    "\n",
    "X_test, X_train = X_test.sort_index(), X_train.sort_index()\n",
    "y_train, y_test = y_train.sort_index(), y_test.sort_index()\n",
    "\n",
    "X_norm = MinMaxScaler().fit_transform(X_train)\n",
    "y_norm = MinMaxScaler().fit_transform(y_train)\n",
    "y_norm = y_train.values\n",
    "#fig = make_subplots(rows=1, cols=2, \n",
    "#                    specs=[[{'type':'scatter'}, {'type':'scatter3d'}] ])\n",
    "#fig.add_trace(go.Scatter(x=X_norm[:,0], y=y_norm.ravel(), mode=\"markers\", name=\"Data\"), row=1, col=1)\n",
    "#fig.add_trace(go.Scatter3d(x=X_norm[:,0], y=X_norm[:,1], z=y_norm.ravel(),\n",
    "#                           name=\"Data\", mode=\"markers\"), row=1, col=2)\n",
    "#fig.show()\n",
    "\n",
    "#########################################################################\n",
    "# TEST CASE\n",
    "#########################################################################\n",
    "m = ( ('s(1)', 'smooth', 34),  \n",
    "      ('s(2)', 'inc', 25), \n",
    "      ('t(1,2)','smooth', [5,5]), )\n",
    "     #('s(3)', 'smooth', 10), ('s(4)', 'smooth', 10), )\n",
    "     #   ('s(3)', 'smooth', 10), ('s(4)', 'smooth', 10)  )\n",
    "\n",
    "M = Model(m)\n",
    "f = M.fit(X_norm, y_norm, lam_c=1000, plot_=True)\n",
    "bar_chart_of_coefficient_difference_dataframe(M.df_beta)\n",
    "line_chart_of_coefficient_dataframe(M.df_beta)\n"
   ]
  },
  {
   "cell_type": "code",
   "execution_count": 29,
   "metadata": {},
   "outputs": [
    {
     "data": {
      "text/plain": [
       "array([1, 1, 1, 1, 1, 1, 1, 1, 1, 1, 1, 1, 1, 1, 1, 1, 1, 1, 1, 1, 1, 1,\n",
       "       1, 1, 1, 1, 1, 1, 1, 1, 1, 1, 1, 0, 0, 0, 0, 0, 0, 0, 0, 0, 0, 0,\n",
       "       1, 0, 1, 1, 0, 1, 1, 1, 1, 1, 1, 1])"
      ]
     },
     "execution_count": 29,
     "metadata": {},
     "output_type": "execute_result"
    }
   ],
   "source": [
    "check_constraint_full_model(M)"
   ]
  },
  {
   "cell_type": "code",
   "execution_count": 31,
   "metadata": {},
   "outputs": [
    {
     "data": {
      "text/plain": [
       "array([1, 1, 1, 1, 1, 1, 1, 1, 1, 1, 1, 1, 1, 1, 1, 1, 1, 1, 1, 1, 1, 1,\n",
       "       1, 1, 1, 1, 1, 1, 1, 1, 1, 1, 1, 1, 0, 0, 0, 1, 0, 1, 1, 0, 1, 0,\n",
       "       0, 0, 1, 1, 1, 1, 1, 1, 1, 1, 1, 1])"
      ]
     },
     "execution_count": 31,
     "metadata": {},
     "output_type": "execute_result"
    }
   ],
   "source": [
    "check_constraint_full_model(M)"
   ]
  },
  {
   "cell_type": "code",
   "execution_count": null,
   "metadata": {},
   "outputs": [],
   "source": []
  }
 ],
 "metadata": {
  "kernelspec": {
   "display_name": "Python 3",
   "language": "python",
   "name": "python3"
  },
  "language_info": {
   "codemirror_mode": {
    "name": "ipython",
    "version": 3
   },
   "file_extension": ".py",
   "mimetype": "text/x-python",
   "name": "python",
   "nbconvert_exporter": "python",
   "pygments_lexer": "ipython3",
   "version": "3.7.6"
  }
 },
 "nbformat": 4,
 "nbformat_minor": 4
}
