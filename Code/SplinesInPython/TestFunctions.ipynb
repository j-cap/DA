{
 "cells": [
  {
   "cell_type": "markdown",
   "metadata": {},
   "source": [
    "### Implementation of some test functions\n",
    "\n",
    "This is the Jupyter notebook which implements the class TestFunctions with 4 different functions. Further work could be done on some plotting functionality."
   ]
  },
  {
   "cell_type": "code",
   "execution_count": 22,
   "metadata": {},
   "outputs": [
    {
     "name": "stderr",
     "output_type": "stream",
     "text": [
      "[NbConvertApp] Converting notebook TestFunctions.ipynb to script\n",
      "[NbConvertApp] Writing 3146 bytes to TestFunctions.py\n"
     ]
    }
   ],
   "source": [
    "#!jupyter nbconvert --to script TestFunctions.ipynb"
   ]
  },
  {
   "cell_type": "code",
   "execution_count": 15,
   "metadata": {},
   "outputs": [],
   "source": [
    "import numpy as np\n",
    "import pandas as pd       \n",
    "\n",
    "\n",
    "    \n",
    "class TestFunctions:\n",
    "    \"\"\"\n",
    "    Collection of test functions.\n",
    "    \n",
    "    ...\n",
    "    \n",
    "    Attributes\n",
    "    ----------\n",
    "    x1_min : float\n",
    "             Minimum value of axis 1. \n",
    "    x1_max : float\n",
    "             Maximum value of axis 1.\n",
    "    x2_min : float\n",
    "             Minimum value of axis 2.\n",
    "    x2_max : float\n",
    "             Maximum value of axis 2.\n",
    "    n_samples : int\n",
    "                Number of samples to evaluate\n",
    "    noise_level : float\n",
    "                  Specify the magnitude of noise influence.\n",
    "    \n",
    "\n",
    "    Methods\n",
    "    ---------\n",
    "    f1(x)\n",
    "        tanh + exp + noise\n",
    "    f2( )\n",
    "        peak + noise (optional)\n",
    "    f3(x)\n",
    "        sin + linear part + noise\n",
    "    f4(x1, x2)\n",
    "        affensattel\n",
    "    \"\"\"\n",
    "    def __init__(self, x1_min=0, x1_max=1, x2_min=0, x2_max=1, n_samples=1000, noise_level=0.25):\n",
    "        self.x1_min = x1_min\n",
    "        self.x1_max = x1_max\n",
    "        self.x2_min = x2_min\n",
    "        self.x2_max = x2_max\n",
    "        self.n_samples = n_samples\n",
    "        self.noise_level = noise_level\n",
    "        self.x1 = None\n",
    "        self.x2 = None\n",
    "        self.y = None\n",
    "        self.data = None\n",
    "        \n",
    "    def save_data(self, fname, x=None, y=None):\n",
    "        \"\"\"Save data to csv.\"\"\"\n",
    "        df = pd.DataFrame(data={\"x\": x, \"y\": y})\n",
    "        df.to_csv(fname+\".csv\", index=False)\n",
    "        return\n",
    "        \n",
    "    def f1(self):\n",
    "        self.x = np.random.uniform(self.x1_min, self.x1_max, self.n_samples)\n",
    "        self.y = np.tanh(-(self.x-5)) + np.exp(-(self.x)**2) + np.random.randn(len(self.x))*self.noise_level\n",
    "        return self.x, self.y\n",
    "    \n",
    "    def f2(self, a=1, b=1):\n",
    "        self.x = np.random.uniform(self.x1_min, self.x1_max, self.n_samples)\n",
    "        self.y = a / (1 + (b*self.x)**2) + np.random.randn(len(self.x))*self.noise_level\n",
    "        return self.x, self.y\n",
    "    \n",
    "    def f3(self): \n",
    "        self.x = np.random.uniform(self.x1_min, self.x1_max, self.n_samples)\n",
    "        self.y = 1.5*np.sin(self.x) + 1.5*np.random.normal(0,1,len(self.x)) + \\\n",
    "                 np.random.randn(len(self.x))*self.noise_level\n",
    "        return self.x, self.y\n",
    "    \n",
    "    def f4(self, grid=True):\n",
    "        \"\"\"Evaluate the 2-d function on a grid \"\"\"\n",
    "        self.x1 = np.random.uniform(self.x1_min, self.x1_max, self.n_samples)\n",
    "        self.x2 = np.random.uniform(self.x2_min, self.x2_max, self.n_samples)\n",
    "        if grid:\n",
    "            self.x1g, self.x2g = np.meshgrid(x1, x2)\n",
    "            self.y = x1g**3 - 3*x1g*x2g**2 + np.random.randn(*x1g.shape)*self.noise_level\n",
    "            return self.x1g, self.x2g, self.y\n",
    "        else:\n",
    "            self.y = x1**3 - 3*x1*x2**2 + np.random.randn(len(x1))*self.noise_level\n",
    "            return self.x1, self.x2, self.y\n",
    "\n",
    "    "
   ]
  },
  {
   "cell_type": "code",
   "execution_count": null,
   "metadata": {
    "scrolled": false
   },
   "outputs": [],
   "source": [
    "#import plotly.express as px\n",
    "#t = TestFunctions(n_samples=2000, noise_level=0.01, x1_min=-10, x1_max=10)\n",
    "#x, y = t.f1()\n",
    "#px.scatter(x=x, y=y).show()"
   ]
  }
 ],
 "metadata": {
  "kernelspec": {
   "display_name": "Python 3",
   "language": "python",
   "name": "python3"
  },
  "language_info": {
   "codemirror_mode": {
    "name": "ipython",
    "version": 3
   },
   "file_extension": ".py",
   "mimetype": "text/x-python",
   "name": "python",
   "nbconvert_exporter": "python",
   "pygments_lexer": "ipython3",
   "version": "3.7.7"
  }
 },
 "nbformat": 4,
 "nbformat_minor": 4
}
